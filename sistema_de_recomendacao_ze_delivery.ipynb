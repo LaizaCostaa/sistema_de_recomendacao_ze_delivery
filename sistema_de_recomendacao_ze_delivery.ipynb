{
  "nbformat": 4,
  "nbformat_minor": 0,
  "metadata": {
    "colab": {
      "provenance": [],
      "authorship_tag": "ABX9TyM6A0zjZ7vHS+FvNlGsmCqO",
      "include_colab_link": true
    },
    "kernelspec": {
      "name": "python3",
      "display_name": "Python 3"
    },
    "language_info": {
      "name": "python"
    }
  },
  "cells": [
    {
      "cell_type": "markdown",
      "metadata": {
        "id": "view-in-github",
        "colab_type": "text"
      },
      "source": [
        "<a href=\"https://colab.research.google.com/github/LaizaCostaa/sistema_de_recomendacao_ze_delivery/blob/main/sistema_de_recomendacao_ze_delivery.ipynb\" target=\"_parent\"><img src=\"https://colab.research.google.com/assets/colab-badge.svg\" alt=\"Open In Colab\"/></a>"
      ]
    },
    {
      "cell_type": "code",
      "execution_count": 145,
      "metadata": {
        "colab": {
          "base_uri": "https://localhost:8080/"
        },
        "id": "bxag5smsERm3",
        "outputId": "12a18495-55d7-4a50-d98f-df397a8b8bb0"
      },
      "outputs": [
        {
          "output_type": "stream",
          "name": "stdout",
          "text": [
            "Drive already mounted at /content/drive; to attempt to forcibly remount, call drive.mount(\"/content/drive\", force_remount=True).\n"
          ]
        }
      ],
      "source": [
        "from google.colab import drive\n",
        "drive.mount('/content/drive')"
      ]
    },
    {
      "cell_type": "code",
      "source": [
        "import pandas as pd\n",
        "from sklearn.model_selection import train_test_split\n",
        "from sklearn.metrics.pairwise import cosine_similarity\n",
        "import numpy as np"
      ],
      "metadata": {
        "id": "NgHONmo8ETPd"
      },
      "execution_count": 146,
      "outputs": []
    },
    {
      "cell_type": "code",
      "source": [
        "# Local onde os arquivos estão armazenados no Google Drive\n",
        "users_df = pd.read_csv('/content/drive/MyDrive/Portfólio/sistema_recomendacao_ze_delivery/ze_delivery_users.csv')\n",
        "products_df = pd.read_csv('/content/drive/MyDrive/Portfólio/sistema_recomendacao_ze_delivery/ze_delivery_products.csv')\n",
        "interactions_df = pd.read_csv('/content/drive/MyDrive/Portfólio/sistema_recomendacao_ze_delivery/ze_delivery_interactions - user_interactions_1000.csv')"
      ],
      "metadata": {
        "id": "nr4-YLDXEVmQ"
      },
      "execution_count": 147,
      "outputs": []
    },
    {
      "cell_type": "markdown",
      "source": [
        "# PRÉ-PROCESSAMENTO DOS DADOS\n",
        "\n",
        "\n",
        "\n"
      ],
      "metadata": {
        "id": "2FPHUpcKFXq2"
      }
    },
    {
      "cell_type": "code",
      "source": [
        "print(users_df.head())\n",
        "print(products_df.head())\n",
        "print(interactions_df.head())"
      ],
      "metadata": {
        "colab": {
          "base_uri": "https://localhost:8080/"
        },
        "id": "n0oABHzvFQLv",
        "outputId": "b26dfac9-601e-421d-f0eb-35e58d9ce474"
      },
      "execution_count": 148,
      "outputs": [
        {
          "output_type": "stream",
          "name": "stdout",
          "text": [
            "   user_id  age gender            location signup_date\n",
            "0        1   58      M       São Paulo, SP  2022-10-31\n",
            "1        2   65      F  Rio de Janeiro, RJ  2024-07-05\n",
            "2        3   32      M          Recife, PE  2024-02-01\n",
            "3        4   24  Outro          Recife, PE  2023-11-20\n",
            "4        5   52      M    Porto Alegre, RS  2023-06-17\n",
            "   product_id     product_name      category  price      brand  \\\n",
            "0           1       Skol 255ml       Cerveja    8.5       Skol   \n",
            "1           2  Coca-Cola 293ml  Refrigerante    9.0  Coca-Cola   \n",
            "2           3   Heineken 426ml       Cerveja    9.5   Heineken   \n",
            "3           4      Pepsi 207ml       Cerveja    8.0      Pepsi   \n",
            "4           5  Coca-Cola 448ml  Refrigerante    9.0  Coca-Cola   \n",
            "\n",
            "   alcohol_content  \n",
            "0              4.5  \n",
            "1              0.0  \n",
            "2              5.0  \n",
            "3              4.5  \n",
            "4              0.0  \n",
            "   user_id  product_id interaction_type               interaction_time  rating\n",
            "0       21          48         cart_add  2022-03-25 07:16:45.405405405     3.0\n",
            "1       16           7             view  2022-09-22 03:49:11.351351352     3.0\n",
            "2       43          39             view  2023-10-14 01:56:45.405405408     3.0\n",
            "3       63          13         purchase  2022-03-23 02:40:00.000000000     1.0\n",
            "4        8          24         cart_add  2023-03-29 16:30:16.216216216     3.0\n"
          ]
        }
      ]
    },
    {
      "cell_type": "code",
      "source": [
        "# Remover valores NaN nas interações\n",
        "interactions_df.dropna(subset=['rating'], inplace=True)\n",
        "\n",
        "# Normalizar as avaliações\n",
        "interactions_df['rating_normalized'] = (interactions_df['rating'] - interactions_df['rating'].min()) / (interactions_df['rating'].max() - interactions_df['rating'].min())"
      ],
      "metadata": {
        "id": "p7WTb6mfHkzv"
      },
      "execution_count": 149,
      "outputs": []
    },
    {
      "cell_type": "code",
      "source": [
        "interactions_df.dropna(subset=['rating'], inplace=True)\n",
        "interactions_df['rating_normalized'] = (interactions_df['rating'] - interactions_df['rating'].min()) / (interactions_df['rating'].max() - interactions_df['rating'].min())"
      ],
      "metadata": {
        "id": "6LpfdTTEYwlv"
      },
      "execution_count": 150,
      "outputs": []
    },
    {
      "cell_type": "code",
      "source": [
        "print(interactions_df.head())"
      ],
      "metadata": {
        "colab": {
          "base_uri": "https://localhost:8080/"
        },
        "id": "bco09Di8O8Uu",
        "outputId": "a398f9aa-3d71-4428-f5ea-6f966e81c21b"
      },
      "execution_count": 151,
      "outputs": [
        {
          "output_type": "stream",
          "name": "stdout",
          "text": [
            "   user_id  product_id interaction_type               interaction_time  \\\n",
            "0       21          48         cart_add  2022-03-25 07:16:45.405405405   \n",
            "1       16           7             view  2022-09-22 03:49:11.351351352   \n",
            "2       43          39             view  2023-10-14 01:56:45.405405408   \n",
            "3       63          13         purchase  2022-03-23 02:40:00.000000000   \n",
            "4        8          24         cart_add  2023-03-29 16:30:16.216216216   \n",
            "\n",
            "   rating  rating_normalized  \n",
            "0     3.0                0.5  \n",
            "1     3.0                0.5  \n",
            "2     3.0                0.5  \n",
            "3     1.0                0.0  \n",
            "4     3.0                0.5  \n"
          ]
        }
      ]
    },
    {
      "cell_type": "markdown",
      "source": [
        "\n"
      ],
      "metadata": {
        "id": "DhePDfcaETIm"
      }
    },
    {
      "cell_type": "code",
      "source": [
        "''''# Gerar dados fictícios\n",
        "num_fictitious_interactions = 1000  # Número de dados fictícios que você deseja criar\n",
        "\n",
        "# Criar IDs aleatórios para usuários e produtos\n",
        "fake_user_ids = np.random.choice(users_df['user_id'], num_fictitious_interactions)\n",
        "fake_product_ids = np.random.choice(products_df['product_id'], num_fictitious_interactions)\n",
        "\n",
        "# Criar avaliações fictícias (por exemplo, de 1 a 5)\n",
        "fake_ratings = np.random.randint(1, 6, size=num_fictitious_interactions)\n",
        "\n",
        "# Criar um DataFrame de interações fictícias\n",
        "fake_interactions_df = pd.DataFrame({\n",
        "    'user_id': fake_user_ids,\n",
        "    'product_id': fake_product_ids,\n",
        "    'rating': fake_ratings\n",
        "})\n",
        "\n",
        "# Visualizar os dados fictícios\n",
        "print(fake_interactions_df.head())"
      ],
      "metadata": {
        "colab": {
          "base_uri": "https://localhost:8080/"
        },
        "id": "Kz0eIIz2WF9-",
        "outputId": "324f22ce-1ae4-48ae-a722-a75b2d386ac4"
      },
      "execution_count": 123,
      "outputs": [
        {
          "output_type": "stream",
          "name": "stdout",
          "text": [
            "   user_id  product_id  rating\n",
            "0       42          29       4\n",
            "1       31           5       3\n",
            "2       40           7       4\n",
            "3       63          42       5\n",
            "4       89          31       1\n"
          ]
        }
      ]
    },
    {
      "cell_type": "code",
      "source": [
        "''''# Combinar dados reais com dados fictícios\n",
        "combined_interactions_df = pd.concat([interactions_df, fake_interactions_df], ignore_index=True)\n",
        "\n",
        "# Visualizar o DataFrame combinado\n",
        "print(combined_interactions_df.head())"
      ],
      "metadata": {
        "colab": {
          "base_uri": "https://localhost:8080/"
        },
        "id": "3FdB3js3WUQ1",
        "outputId": "c70b2378-9825-4c0f-a864-52e7a4e5d228"
      },
      "execution_count": 124,
      "outputs": [
        {
          "output_type": "stream",
          "name": "stdout",
          "text": [
            "   user_id  product_id interaction_type     interaction_time  rating  \\\n",
            "0       27          28         purchase  2024-01-07 22:04:29     5.0   \n",
            "1       57          29         purchase  2024-08-07 23:48:16     2.0   \n",
            "2       66          31         purchase  2024-01-04 04:14:36     2.0   \n",
            "3       66          43         purchase  2024-07-13 12:35:17     5.0   \n",
            "4       59          27         purchase  2024-08-21 16:10:02     5.0   \n",
            "\n",
            "   rating_normalized  \n",
            "0               1.00  \n",
            "1               0.25  \n",
            "2               0.25  \n",
            "3               1.00  \n",
            "4               1.00  \n"
          ]
        }
      ]
    },
    {
      "cell_type": "code",
      "source": [
        "''''from sklearn.model_selection import train_test_split\n",
        "\n",
        "# Dividir os dados combinados em treinamento e teste\n",
        "train_data, test_data = train_test_split(combined_interactions_df, test_size=0.2, random_state=42)\n",
        "\n",
        "# Visualizar os dados de treinamento e teste\n",
        "print(f\"Tamanho do conjunto de treino: {len(train_data)}\")\n",
        "print(f\"Tamanho do conjunto de teste: {len(test_data)}\")"
      ],
      "metadata": {
        "colab": {
          "base_uri": "https://localhost:8080/"
        },
        "collapsed": true,
        "id": "tr_miVijWYzw",
        "outputId": "558e2b14-ec89-44d6-9e85-eb41bb301e44"
      },
      "execution_count": 125,
      "outputs": [
        {
          "output_type": "stream",
          "name": "stdout",
          "text": [
            "Tamanho do conjunto de treino: 884\n",
            "Tamanho do conjunto de teste: 221\n"
          ]
        }
      ]
    },
    {
      "cell_type": "markdown",
      "source": [],
      "metadata": {
        "id": "agHnDcEHWtSK"
      }
    },
    {
      "cell_type": "markdown",
      "source": [
        "# CÁLCULO DE SIMILARIDADE ENTRE USUÁRIOS E PRODUTOS"
      ],
      "metadata": {
        "id": "YNHVN7qQFpjk"
      }
    },
    {
      "cell_type": "code",
      "source": [
        "from sklearn.metrics.pairwise import cosine_similarity\n",
        "from sklearn.decomposition import TruncatedSVD\n",
        "import numpy as np\n"
      ],
      "metadata": {
        "id": "OJj2wvvjHuHf"
      },
      "execution_count": 152,
      "outputs": []
    },
    {
      "cell_type": "code",
      "source": [
        "# Criar a matriz de interações\n",
        "user_product_matrix = interactions_df.pivot_table(index='user_id', columns='product_id', values='rating_normalized').fillna(0)\n",
        "\n",
        "# Fatoração da matriz com SVD\n",
        "from sklearn.decomposition import TruncatedSVD\n",
        "svd = TruncatedSVD(n_components=20, random_state=42)\n",
        "user_factors = svd.fit_transform(user_product_matrix)\n",
        "product_factors = svd.components_.T\n",
        "\n",
        "# Similaridade de usuários\n",
        "from sklearn.metrics.pairwise import cosine_similarity\n",
        "user_similarity = cosine_similarity(user_factors)\n",
        "\n",
        "# Similaridade de produtos\n",
        "products_df['category_brand'] = products_df['category'] + \" \" + products_df['brand']\n",
        "product_features = pd.get_dummies(products_df['category_brand'])\n",
        "product_similarity = cosine_similarity(product_features)"
      ],
      "metadata": {
        "id": "FEEQqQGPHwzt"
      },
      "execution_count": 153,
      "outputs": []
    },
    {
      "cell_type": "code",
      "source": [
        "# Filtrar os produtos comuns entre a matriz de interações e a matriz de similaridade de produtos\n",
        "common_product_ids = user_product_matrix.columns.intersection(products_df['product_id'])\n",
        "\n",
        "# Atualizar a matriz de interações para incluir apenas os produtos em comum\n",
        "user_product_matrix = user_product_matrix[common_product_ids]\n",
        "\n",
        "# Atualizar as características dos produtos para garantir que estejam alinhadas\n",
        "product_features = product_features.loc[products_df['product_id'].isin(common_product_ids)]\n",
        "\n",
        "# Recalcular a similaridade de produtos com base nas características filtradas\n",
        "product_similarity = cosine_similarity(product_features)"
      ],
      "metadata": {
        "id": "9PwvdiA36s9_"
      },
      "execution_count": 154,
      "outputs": []
    },
    {
      "cell_type": "markdown",
      "source": [
        "\n",
        "* Funcao implementada com sucesso, combinando a\n",
        "similaridade de usuários e produtos para gerar recomendações personalizadas.\n",
        "* O modelo balanceia os dois aspectos (usuário e produto), permitindo ajustar o peso de cada um para melhorar a precisão das recomendações.\n",
        "\n",
        "\n",
        "\n",
        "Em casos futuros pode ser interessante ajustar esses pesos para focar mais na similaridade de usuários ou de produtos."
      ],
      "metadata": {
        "id": "VvhhWyuIEgyd"
      }
    },
    {
      "cell_type": "markdown",
      "source": [
        "# FUNÇÃO DE RECOMENDAÇÃO HÍBRIDA"
      ],
      "metadata": {
        "id": "x_RILjKrDoGz"
      }
    },
    {
      "cell_type": "code",
      "source": [
        "\n",
        "def recommend_hybrid(user_id, n_recommendations=5):\n",
        "    # Similaridade do usuário com outros usuários\n",
        "    similar_users = user_similarity[user_id - 1]  # Ajustando o índice\n",
        "\n",
        "    # Similaridade de produtos com base nas avaliações do usuário\n",
        "    user_ratings = user_product_matrix.loc[user_id]\n",
        "\n",
        "    # Certificar que as dimensões estão alinhadas\n",
        "    similar_products = product_similarity.dot(user_ratings)\n",
        "\n",
        "    # Combinação ponderada entre similaridade de usuários e produtos\n",
        "    hybrid_score = 0.5 * similar_users.dot(user_product_matrix) + 0.5 * similar_products\n",
        "\n",
        "    # Ordenar os produtos com maior pontuação\n",
        "    recommended_products = np.argsort(hybrid_score)[::-1][:n_recommendations]\n",
        "\n",
        "    # Filtrar os produtos recomendados pelos IDs em comum\n",
        "    recommended_product_ids = common_product_ids[recommended_products]\n",
        "\n",
        "    # Retornar os produtos recomendados\n",
        "    return products_df[products_df['product_id'].isin(recommended_product_ids)]\n",
        "\n",
        "# Exemplo de recomendação para o usuário de ID 1\n",
        "recommendations = recommend_hybrid(user_id=1, n_recommendations=5)\n",
        "print(recommendations[['product_name', 'category', 'brand']])\n",
        ""
      ],
      "metadata": {
        "id": "kQWVZdjc_ZSs",
        "colab": {
          "base_uri": "https://localhost:8080/"
        },
        "outputId": "97e67ae1-eb76-4646-a711-5f179a5dc18a"
      },
      "execution_count": 155,
      "outputs": [
        {
          "output_type": "stream",
          "name": "stdout",
          "text": [
            "          product_name      category     brand\n",
            "0           Skol 255ml       Cerveja      Skol\n",
            "5       Heineken 284ml       Cerveja  Heineken\n",
            "13      Heineken 414ml       Cerveja  Heineken\n",
            "20  Água Crystal 470ml       Cerveja      Água\n",
            "34  Água Crystal 327ml  Refrigerante      Água\n"
          ]
        }
      ]
    },
    {
      "cell_type": "code",
      "source": [
        "# Função de recomendação ajustada para verificar os IDs dos produtos recomendados\n",
        "def recommend_hybrid_train(user_id, n_recommendations=5, user_weight=0.7, product_weight=0.3):\n",
        "    # Verificar se o usuário existe no mapeamento\n",
        "    if user_id not in user_id_to_index:\n",
        "        return pd.DataFrame()  # Retornar vazio se o usuário não existir no treino\n",
        "\n",
        "    # Obter o índice do usuário na matriz de similaridade\n",
        "    user_index = user_id_to_index[user_id]\n",
        "\n",
        "    # Calcular a similaridade do usuário\n",
        "    similar_users = user_similarity_train[user_index]  # Similaridade do usuário com outros usuários\n",
        "    user_ratings = user_product_matrix_train.loc[user_id]  # Avaliações do usuário\n",
        "\n",
        "    # Calcular a similaridade de produtos\n",
        "    similar_products = product_similarity_train.dot(user_ratings)\n",
        "\n",
        "    # Combinação ponderada de similaridade de usuários e produtos\n",
        "    hybrid_score = user_weight * similar_users.dot(user_product_matrix_train) + product_weight * similar_products\n",
        "\n",
        "    # Ordenar os produtos com base no score híbrido\n",
        "    recommended_products = np.argsort(hybrid_score)[::-1][:n_recommendations]\n",
        "\n",
        "    # Filtrar os produtos recomendados pelos IDs em comum\n",
        "    recommended_product_ids = common_product_ids_train[recommended_products]\n",
        "\n",
        "\n",
        "    print(f\"Produtos recomendados para o usuário {user_id}: {recommended_product_ids}\")\n",
        "\n",
        "    # merge com o DataFrame de produtos para retornar as informações detalhadas\n",
        "    recommendations = products_df[products_df['product_id'].isin(recommended_product_ids)]\n",
        "\n",
        "    # Garantir que as colunas 'product_name', 'category', e 'brand' estão presentes\n",
        "    return recommendations[['product_name', 'category', 'brand']]\n",
        ""
      ],
      "metadata": {
        "id": "VsNUW6FKOPtS"
      },
      "execution_count": 156,
      "outputs": []
    },
    {
      "cell_type": "markdown",
      "source": [
        "# AVALIAÇÃO DO MODELO\n",
        "\n",
        "\n"
      ],
      "metadata": {
        "id": "i-VISJAH7NBS"
      }
    },
    {
      "cell_type": "code",
      "source": [
        "from sklearn.model_selection import train_test_split\n"
      ],
      "metadata": {
        "id": "DrsMTwU67Pxm"
      },
      "execution_count": 157,
      "outputs": []
    },
    {
      "cell_type": "code",
      "source": [
        "# Dividindo o conjunto de interações em treino (80%) e teste (20%)\n",
        "train_data, test_data = train_test_split(interactions_df, test_size=0.2, random_state=42)"
      ],
      "metadata": {
        "id": "lm0fTKq5ZDnR"
      },
      "execution_count": 158,
      "outputs": []
    },
    {
      "cell_type": "code",
      "source": [
        "# matriz de interações para o conjunto de treino\n",
        "user_product_matrix_train = train_data.pivot_table(index='user_id', columns='product_id', values='rating_normalized').fillna(0)"
      ],
      "metadata": {
        "id": "oa57KabQ7cjL"
      },
      "execution_count": 159,
      "outputs": []
    },
    {
      "cell_type": "code",
      "source": [
        "# Calculando a similaridade de usuários com base no conjunto de treino\n",
        "user_similarity_train = cosine_similarity(user_product_matrix_train)\n",
        "\n",
        "# Filtrar os produtos comuns entre a matriz de interações de treino e os produtos\n",
        "common_product_ids_train = user_product_matrix_train.columns.intersection(products_df['product_id'])\n",
        "product_features_train = product_features.loc[products_df['product_id'].isin(common_product_ids_train)]\n",
        "\n",
        "# Recalcular a similaridade de produtos com base nas características filtradas\n",
        "product_similarity_train = cosine_similarity(product_features_train)"
      ],
      "metadata": {
        "id": "foP28Dwa7iTw"
      },
      "execution_count": 160,
      "outputs": []
    },
    {
      "cell_type": "code",
      "source": [
        "from sklearn.metrics import mean_squared_error"
      ],
      "metadata": {
        "id": "D_E5zfbp7lQe"
      },
      "execution_count": 161,
      "outputs": []
    },
    {
      "cell_type": "code",
      "source": [
        "#Criar um mapeamento do `user_id` para o índice da matriz de similaridade\n",
        "user_id_to_index = {user_id: idx for idx, user_id in enumerate(user_product_matrix_train.index)}"
      ],
      "metadata": {
        "id": "fjq_Q8Yc9Q-I"
      },
      "execution_count": 162,
      "outputs": []
    },
    {
      "cell_type": "code",
      "source": [
        "# Função de recomendação com base no conjunto de treino ajustada com pesos personalizados\n",
        "def recommend_hybrid_train(user_id, n_recommendations=5, user_weight=0.7, product_weight=0.3):\n",
        "    # Verificar se o usuário existe no mapeamento\n",
        "    if user_id not in user_id_to_index:\n",
        "        return pd.DataFrame()  # Retornar vazio se o usuário não existir no treino\n",
        "\n",
        "    # Obter o índice do usuário na matriz de similaridade\n",
        "    user_index = user_id_to_index[user_id]\n",
        "\n",
        "    # Calcular a similaridade do usuário\n",
        "    similar_users = user_similarity_train[user_index]  # Similaridade do usuário com outros usuários\n",
        "    user_ratings = user_product_matrix_train.loc[user_id]  # Avaliações do usuário\n",
        "\n",
        "    # Calcular a similaridade de produtos\n",
        "    similar_products = product_similarity_train.dot(user_ratings)\n",
        "\n",
        "    # Combinação ponderada de similaridade de usuários e produtos\n",
        "    hybrid_score = user_weight * similar_users.dot(user_product_matrix_train) + product_weight * similar_products\n",
        "\n",
        "    # Ordenar os produtos com base no score híbrido\n",
        "    recommended_products = np.argsort(hybrid_score)[::-1][:n_recommendations]\n",
        "\n",
        "    # Filtrar os produtos recomendados\n",
        "    recommended_product_ids = common_product_ids_train[recommended_products]\n",
        "\n",
        "    return products_df[products_df['product_id'].isin(recommended_product_ids)]"
      ],
      "metadata": {
        "id": "s8-svFrm7oQc"
      },
      "execution_count": 163,
      "outputs": []
    },
    {
      "cell_type": "code",
      "source": [
        "user_ratings"
      ],
      "metadata": {
        "colab": {
          "base_uri": "https://localhost:8080/",
          "height": 206
        },
        "id": "mGbfPZl3QXKw",
        "outputId": "31e47a09-e6af-4532-e0bf-78cbe3c0ac41"
      },
      "execution_count": 164,
      "outputs": [
        {
          "output_type": "execute_result",
          "data": {
            "text/plain": [
              "    product_id        product_name      category  price      brand  \\\n",
              "12          13         Pepsi 326ml    Energético   10.0      Pepsi   \n",
              "19          20     Coca-Cola 478ml  Refrigerante    9.0  Coca-Cola   \n",
              "20          21  Água Crystal 470ml       Cerveja    5.0       Água   \n",
              "21          22      Heineken 268ml  Refrigerante    9.0   Heineken   \n",
              "48          49     Coca-Cola 540ml  Refrigerante    9.0  Coca-Cola   \n",
              "\n",
              "    alcohol_content          category_brand  \n",
              "12              0.0        Energético Pepsi  \n",
              "19              0.0  Refrigerante Coca-Cola  \n",
              "20              5.0            Cerveja Água  \n",
              "21              0.0   Refrigerante Heineken  \n",
              "48              0.0  Refrigerante Coca-Cola  "
            ],
            "text/html": [
              "\n",
              "  <div id=\"df-0a38373f-03c5-4bab-8d31-4bf980870360\" class=\"colab-df-container\">\n",
              "    <div>\n",
              "<style scoped>\n",
              "    .dataframe tbody tr th:only-of-type {\n",
              "        vertical-align: middle;\n",
              "    }\n",
              "\n",
              "    .dataframe tbody tr th {\n",
              "        vertical-align: top;\n",
              "    }\n",
              "\n",
              "    .dataframe thead th {\n",
              "        text-align: right;\n",
              "    }\n",
              "</style>\n",
              "<table border=\"1\" class=\"dataframe\">\n",
              "  <thead>\n",
              "    <tr style=\"text-align: right;\">\n",
              "      <th></th>\n",
              "      <th>product_id</th>\n",
              "      <th>product_name</th>\n",
              "      <th>category</th>\n",
              "      <th>price</th>\n",
              "      <th>brand</th>\n",
              "      <th>alcohol_content</th>\n",
              "      <th>category_brand</th>\n",
              "    </tr>\n",
              "  </thead>\n",
              "  <tbody>\n",
              "    <tr>\n",
              "      <th>12</th>\n",
              "      <td>13</td>\n",
              "      <td>Pepsi 326ml</td>\n",
              "      <td>Energético</td>\n",
              "      <td>10.0</td>\n",
              "      <td>Pepsi</td>\n",
              "      <td>0.0</td>\n",
              "      <td>Energético Pepsi</td>\n",
              "    </tr>\n",
              "    <tr>\n",
              "      <th>19</th>\n",
              "      <td>20</td>\n",
              "      <td>Coca-Cola 478ml</td>\n",
              "      <td>Refrigerante</td>\n",
              "      <td>9.0</td>\n",
              "      <td>Coca-Cola</td>\n",
              "      <td>0.0</td>\n",
              "      <td>Refrigerante Coca-Cola</td>\n",
              "    </tr>\n",
              "    <tr>\n",
              "      <th>20</th>\n",
              "      <td>21</td>\n",
              "      <td>Água Crystal 470ml</td>\n",
              "      <td>Cerveja</td>\n",
              "      <td>5.0</td>\n",
              "      <td>Água</td>\n",
              "      <td>5.0</td>\n",
              "      <td>Cerveja Água</td>\n",
              "    </tr>\n",
              "    <tr>\n",
              "      <th>21</th>\n",
              "      <td>22</td>\n",
              "      <td>Heineken 268ml</td>\n",
              "      <td>Refrigerante</td>\n",
              "      <td>9.0</td>\n",
              "      <td>Heineken</td>\n",
              "      <td>0.0</td>\n",
              "      <td>Refrigerante Heineken</td>\n",
              "    </tr>\n",
              "    <tr>\n",
              "      <th>48</th>\n",
              "      <td>49</td>\n",
              "      <td>Coca-Cola 540ml</td>\n",
              "      <td>Refrigerante</td>\n",
              "      <td>9.0</td>\n",
              "      <td>Coca-Cola</td>\n",
              "      <td>0.0</td>\n",
              "      <td>Refrigerante Coca-Cola</td>\n",
              "    </tr>\n",
              "  </tbody>\n",
              "</table>\n",
              "</div>\n",
              "    <div class=\"colab-df-buttons\">\n",
              "\n",
              "  <div class=\"colab-df-container\">\n",
              "    <button class=\"colab-df-convert\" onclick=\"convertToInteractive('df-0a38373f-03c5-4bab-8d31-4bf980870360')\"\n",
              "            title=\"Convert this dataframe to an interactive table.\"\n",
              "            style=\"display:none;\">\n",
              "\n",
              "  <svg xmlns=\"http://www.w3.org/2000/svg\" height=\"24px\" viewBox=\"0 -960 960 960\">\n",
              "    <path d=\"M120-120v-720h720v720H120Zm60-500h600v-160H180v160Zm220 220h160v-160H400v160Zm0 220h160v-160H400v160ZM180-400h160v-160H180v160Zm440 0h160v-160H620v160ZM180-180h160v-160H180v160Zm440 0h160v-160H620v160Z\"/>\n",
              "  </svg>\n",
              "    </button>\n",
              "\n",
              "  <style>\n",
              "    .colab-df-container {\n",
              "      display:flex;\n",
              "      gap: 12px;\n",
              "    }\n",
              "\n",
              "    .colab-df-convert {\n",
              "      background-color: #E8F0FE;\n",
              "      border: none;\n",
              "      border-radius: 50%;\n",
              "      cursor: pointer;\n",
              "      display: none;\n",
              "      fill: #1967D2;\n",
              "      height: 32px;\n",
              "      padding: 0 0 0 0;\n",
              "      width: 32px;\n",
              "    }\n",
              "\n",
              "    .colab-df-convert:hover {\n",
              "      background-color: #E2EBFA;\n",
              "      box-shadow: 0px 1px 2px rgba(60, 64, 67, 0.3), 0px 1px 3px 1px rgba(60, 64, 67, 0.15);\n",
              "      fill: #174EA6;\n",
              "    }\n",
              "\n",
              "    .colab-df-buttons div {\n",
              "      margin-bottom: 4px;\n",
              "    }\n",
              "\n",
              "    [theme=dark] .colab-df-convert {\n",
              "      background-color: #3B4455;\n",
              "      fill: #D2E3FC;\n",
              "    }\n",
              "\n",
              "    [theme=dark] .colab-df-convert:hover {\n",
              "      background-color: #434B5C;\n",
              "      box-shadow: 0px 1px 3px 1px rgba(0, 0, 0, 0.15);\n",
              "      filter: drop-shadow(0px 1px 2px rgba(0, 0, 0, 0.3));\n",
              "      fill: #FFFFFF;\n",
              "    }\n",
              "  </style>\n",
              "\n",
              "    <script>\n",
              "      const buttonEl =\n",
              "        document.querySelector('#df-0a38373f-03c5-4bab-8d31-4bf980870360 button.colab-df-convert');\n",
              "      buttonEl.style.display =\n",
              "        google.colab.kernel.accessAllowed ? 'block' : 'none';\n",
              "\n",
              "      async function convertToInteractive(key) {\n",
              "        const element = document.querySelector('#df-0a38373f-03c5-4bab-8d31-4bf980870360');\n",
              "        const dataTable =\n",
              "          await google.colab.kernel.invokeFunction('convertToInteractive',\n",
              "                                                    [key], {});\n",
              "        if (!dataTable) return;\n",
              "\n",
              "        const docLinkHtml = 'Like what you see? Visit the ' +\n",
              "          '<a target=\"_blank\" href=https://colab.research.google.com/notebooks/data_table.ipynb>data table notebook</a>'\n",
              "          + ' to learn more about interactive tables.';\n",
              "        element.innerHTML = '';\n",
              "        dataTable['output_type'] = 'display_data';\n",
              "        await google.colab.output.renderOutput(dataTable, element);\n",
              "        const docLink = document.createElement('div');\n",
              "        docLink.innerHTML = docLinkHtml;\n",
              "        element.appendChild(docLink);\n",
              "      }\n",
              "    </script>\n",
              "  </div>\n",
              "\n",
              "\n",
              "<div id=\"df-3d4fdc7e-700d-4d36-ad89-7fe08c110e72\">\n",
              "  <button class=\"colab-df-quickchart\" onclick=\"quickchart('df-3d4fdc7e-700d-4d36-ad89-7fe08c110e72')\"\n",
              "            title=\"Suggest charts\"\n",
              "            style=\"display:none;\">\n",
              "\n",
              "<svg xmlns=\"http://www.w3.org/2000/svg\" height=\"24px\"viewBox=\"0 0 24 24\"\n",
              "     width=\"24px\">\n",
              "    <g>\n",
              "        <path d=\"M19 3H5c-1.1 0-2 .9-2 2v14c0 1.1.9 2 2 2h14c1.1 0 2-.9 2-2V5c0-1.1-.9-2-2-2zM9 17H7v-7h2v7zm4 0h-2V7h2v10zm4 0h-2v-4h2v4z\"/>\n",
              "    </g>\n",
              "</svg>\n",
              "  </button>\n",
              "\n",
              "<style>\n",
              "  .colab-df-quickchart {\n",
              "      --bg-color: #E8F0FE;\n",
              "      --fill-color: #1967D2;\n",
              "      --hover-bg-color: #E2EBFA;\n",
              "      --hover-fill-color: #174EA6;\n",
              "      --disabled-fill-color: #AAA;\n",
              "      --disabled-bg-color: #DDD;\n",
              "  }\n",
              "\n",
              "  [theme=dark] .colab-df-quickchart {\n",
              "      --bg-color: #3B4455;\n",
              "      --fill-color: #D2E3FC;\n",
              "      --hover-bg-color: #434B5C;\n",
              "      --hover-fill-color: #FFFFFF;\n",
              "      --disabled-bg-color: #3B4455;\n",
              "      --disabled-fill-color: #666;\n",
              "  }\n",
              "\n",
              "  .colab-df-quickchart {\n",
              "    background-color: var(--bg-color);\n",
              "    border: none;\n",
              "    border-radius: 50%;\n",
              "    cursor: pointer;\n",
              "    display: none;\n",
              "    fill: var(--fill-color);\n",
              "    height: 32px;\n",
              "    padding: 0;\n",
              "    width: 32px;\n",
              "  }\n",
              "\n",
              "  .colab-df-quickchart:hover {\n",
              "    background-color: var(--hover-bg-color);\n",
              "    box-shadow: 0 1px 2px rgba(60, 64, 67, 0.3), 0 1px 3px 1px rgba(60, 64, 67, 0.15);\n",
              "    fill: var(--button-hover-fill-color);\n",
              "  }\n",
              "\n",
              "  .colab-df-quickchart-complete:disabled,\n",
              "  .colab-df-quickchart-complete:disabled:hover {\n",
              "    background-color: var(--disabled-bg-color);\n",
              "    fill: var(--disabled-fill-color);\n",
              "    box-shadow: none;\n",
              "  }\n",
              "\n",
              "  .colab-df-spinner {\n",
              "    border: 2px solid var(--fill-color);\n",
              "    border-color: transparent;\n",
              "    border-bottom-color: var(--fill-color);\n",
              "    animation:\n",
              "      spin 1s steps(1) infinite;\n",
              "  }\n",
              "\n",
              "  @keyframes spin {\n",
              "    0% {\n",
              "      border-color: transparent;\n",
              "      border-bottom-color: var(--fill-color);\n",
              "      border-left-color: var(--fill-color);\n",
              "    }\n",
              "    20% {\n",
              "      border-color: transparent;\n",
              "      border-left-color: var(--fill-color);\n",
              "      border-top-color: var(--fill-color);\n",
              "    }\n",
              "    30% {\n",
              "      border-color: transparent;\n",
              "      border-left-color: var(--fill-color);\n",
              "      border-top-color: var(--fill-color);\n",
              "      border-right-color: var(--fill-color);\n",
              "    }\n",
              "    40% {\n",
              "      border-color: transparent;\n",
              "      border-right-color: var(--fill-color);\n",
              "      border-top-color: var(--fill-color);\n",
              "    }\n",
              "    60% {\n",
              "      border-color: transparent;\n",
              "      border-right-color: var(--fill-color);\n",
              "    }\n",
              "    80% {\n",
              "      border-color: transparent;\n",
              "      border-right-color: var(--fill-color);\n",
              "      border-bottom-color: var(--fill-color);\n",
              "    }\n",
              "    90% {\n",
              "      border-color: transparent;\n",
              "      border-bottom-color: var(--fill-color);\n",
              "    }\n",
              "  }\n",
              "</style>\n",
              "\n",
              "  <script>\n",
              "    async function quickchart(key) {\n",
              "      const quickchartButtonEl =\n",
              "        document.querySelector('#' + key + ' button');\n",
              "      quickchartButtonEl.disabled = true;  // To prevent multiple clicks.\n",
              "      quickchartButtonEl.classList.add('colab-df-spinner');\n",
              "      try {\n",
              "        const charts = await google.colab.kernel.invokeFunction(\n",
              "            'suggestCharts', [key], {});\n",
              "      } catch (error) {\n",
              "        console.error('Error during call to suggestCharts:', error);\n",
              "      }\n",
              "      quickchartButtonEl.classList.remove('colab-df-spinner');\n",
              "      quickchartButtonEl.classList.add('colab-df-quickchart-complete');\n",
              "    }\n",
              "    (() => {\n",
              "      let quickchartButtonEl =\n",
              "        document.querySelector('#df-3d4fdc7e-700d-4d36-ad89-7fe08c110e72 button');\n",
              "      quickchartButtonEl.style.display =\n",
              "        google.colab.kernel.accessAllowed ? 'block' : 'none';\n",
              "    })();\n",
              "  </script>\n",
              "</div>\n",
              "\n",
              "  <div id=\"id_c99b1a98-8fe6-427b-9552-829fdf9b1d34\">\n",
              "    <style>\n",
              "      .colab-df-generate {\n",
              "        background-color: #E8F0FE;\n",
              "        border: none;\n",
              "        border-radius: 50%;\n",
              "        cursor: pointer;\n",
              "        display: none;\n",
              "        fill: #1967D2;\n",
              "        height: 32px;\n",
              "        padding: 0 0 0 0;\n",
              "        width: 32px;\n",
              "      }\n",
              "\n",
              "      .colab-df-generate:hover {\n",
              "        background-color: #E2EBFA;\n",
              "        box-shadow: 0px 1px 2px rgba(60, 64, 67, 0.3), 0px 1px 3px 1px rgba(60, 64, 67, 0.15);\n",
              "        fill: #174EA6;\n",
              "      }\n",
              "\n",
              "      [theme=dark] .colab-df-generate {\n",
              "        background-color: #3B4455;\n",
              "        fill: #D2E3FC;\n",
              "      }\n",
              "\n",
              "      [theme=dark] .colab-df-generate:hover {\n",
              "        background-color: #434B5C;\n",
              "        box-shadow: 0px 1px 3px 1px rgba(0, 0, 0, 0.15);\n",
              "        filter: drop-shadow(0px 1px 2px rgba(0, 0, 0, 0.3));\n",
              "        fill: #FFFFFF;\n",
              "      }\n",
              "    </style>\n",
              "    <button class=\"colab-df-generate\" onclick=\"generateWithVariable('user_ratings')\"\n",
              "            title=\"Generate code using this dataframe.\"\n",
              "            style=\"display:none;\">\n",
              "\n",
              "  <svg xmlns=\"http://www.w3.org/2000/svg\" height=\"24px\"viewBox=\"0 0 24 24\"\n",
              "       width=\"24px\">\n",
              "    <path d=\"M7,19H8.4L18.45,9,17,7.55,7,17.6ZM5,21V16.75L18.45,3.32a2,2,0,0,1,2.83,0l1.4,1.43a1.91,1.91,0,0,1,.58,1.4,1.91,1.91,0,0,1-.58,1.4L9.25,21ZM18.45,9,17,7.55Zm-12,3A5.31,5.31,0,0,0,4.9,8.1,5.31,5.31,0,0,0,1,6.5,5.31,5.31,0,0,0,4.9,4.9,5.31,5.31,0,0,0,6.5,1,5.31,5.31,0,0,0,8.1,4.9,5.31,5.31,0,0,0,12,6.5,5.46,5.46,0,0,0,6.5,12Z\"/>\n",
              "  </svg>\n",
              "    </button>\n",
              "    <script>\n",
              "      (() => {\n",
              "      const buttonEl =\n",
              "        document.querySelector('#id_c99b1a98-8fe6-427b-9552-829fdf9b1d34 button.colab-df-generate');\n",
              "      buttonEl.style.display =\n",
              "        google.colab.kernel.accessAllowed ? 'block' : 'none';\n",
              "\n",
              "      buttonEl.onclick = () => {\n",
              "        google.colab.notebook.generateWithVariable('user_ratings');\n",
              "      }\n",
              "      })();\n",
              "    </script>\n",
              "  </div>\n",
              "\n",
              "    </div>\n",
              "  </div>\n"
            ],
            "application/vnd.google.colaboratory.intrinsic+json": {
              "type": "dataframe",
              "variable_name": "user_ratings",
              "summary": "{\n  \"name\": \"user_ratings\",\n  \"rows\": 5,\n  \"fields\": [\n    {\n      \"column\": \"product_id\",\n      \"properties\": {\n        \"dtype\": \"number\",\n        \"std\": 13,\n        \"min\": 13,\n        \"max\": 49,\n        \"num_unique_values\": 5,\n        \"samples\": [\n          20,\n          49,\n          21\n        ],\n        \"semantic_type\": \"\",\n        \"description\": \"\"\n      }\n    },\n    {\n      \"column\": \"product_name\",\n      \"properties\": {\n        \"dtype\": \"string\",\n        \"num_unique_values\": 5,\n        \"samples\": [\n          \"Coca-Cola 478ml\",\n          \"Coca-Cola 540ml\",\n          \"\\u00c1gua Crystal 470ml\"\n        ],\n        \"semantic_type\": \"\",\n        \"description\": \"\"\n      }\n    },\n    {\n      \"column\": \"category\",\n      \"properties\": {\n        \"dtype\": \"string\",\n        \"num_unique_values\": 3,\n        \"samples\": [\n          \"Energ\\u00e9tico\",\n          \"Refrigerante\",\n          \"Cerveja\"\n        ],\n        \"semantic_type\": \"\",\n        \"description\": \"\"\n      }\n    },\n    {\n      \"column\": \"price\",\n      \"properties\": {\n        \"dtype\": \"number\",\n        \"std\": 1.9493588689617927,\n        \"min\": 5.0,\n        \"max\": 10.0,\n        \"num_unique_values\": 3,\n        \"samples\": [\n          10.0,\n          9.0,\n          5.0\n        ],\n        \"semantic_type\": \"\",\n        \"description\": \"\"\n      }\n    },\n    {\n      \"column\": \"brand\",\n      \"properties\": {\n        \"dtype\": \"string\",\n        \"num_unique_values\": 4,\n        \"samples\": [\n          \"Coca-Cola\",\n          \"Heineken\",\n          \"Pepsi\"\n        ],\n        \"semantic_type\": \"\",\n        \"description\": \"\"\n      }\n    },\n    {\n      \"column\": \"alcohol_content\",\n      \"properties\": {\n        \"dtype\": \"number\",\n        \"std\": 2.23606797749979,\n        \"min\": 0.0,\n        \"max\": 5.0,\n        \"num_unique_values\": 2,\n        \"samples\": [\n          5.0,\n          0.0\n        ],\n        \"semantic_type\": \"\",\n        \"description\": \"\"\n      }\n    },\n    {\n      \"column\": \"category_brand\",\n      \"properties\": {\n        \"dtype\": \"string\",\n        \"num_unique_values\": 4,\n        \"samples\": [\n          \"Refrigerante Coca-Cola\",\n          \"Refrigerante Heineken\"\n        ],\n        \"semantic_type\": \"\",\n        \"description\": \"\"\n      }\n    }\n  ]\n}"
            }
          },
          "metadata": {},
          "execution_count": 164
        }
      ]
    },
    {
      "cell_type": "markdown",
      "source": [
        "# **VALIDAÇÃO CRUZADA**"
      ],
      "metadata": {
        "id": "SG8j16RYZfn1"
      }
    },
    {
      "cell_type": "code",
      "source": [
        "# Função para avaliação do modelo usando validação cruzada\n",
        "def evaluate_model(k_folds=5):\n",
        "    kf = KFold(n_splits=k_folds, shuffle=True, random_state=42)\n",
        "    rmse_scores = []\n",
        "\n",
        "    for train_index, test_index in kf.split(user_product_matrix):\n",
        "        train_data = user_product_matrix.iloc[train_index]\n",
        "        test_data = user_product_matrix.iloc[test_index]\n",
        "\n",
        "        # Filtrar os produtos que estão presentes em ambos os conjuntos\n",
        "        common_product_ids = train_data.columns.intersection(product_features.index)\n",
        "\n",
        "        # Calcular a similaridade com base no treino\n",
        "        user_similarity_train = cosine_similarity(train_data[common_product_ids])\n",
        "        product_similarity_train = cosine_similarity(product_features.loc[common_product_ids])\n",
        "\n",
        "        for user_id in test_data.index:\n",
        "            for product_id in common_product_ids:\n",
        "                if user_id in train_data.index and product_id in train_data.columns:\n",
        "                    user_ratings = recommend_hybrid(user_id, n_recommendations=5)\n",
        "                    if not user_ratings.empty and product_id in user_ratings['product_id'].values:\n",
        "                        predicted_rating = user_ratings[user_ratings['product_id'] == product_id]['rating_normalized'].values[0]\n",
        "                    else:\n",
        "                        predicted_rating = 0\n",
        "                    actual_rating = test_data.loc[user_id, product_id]\n",
        "                    rmse_scores.append(mean_squared_error([actual_rating], [predicted_rating], squared=False))\n",
        "\n",
        "    return np.mean(rmse_scores)\n",
        "\n",
        "# Avaliação do modelo\n",
        "rmse = evaluate_model()\n",
        "print(f\"RMSE médio: {rmse:.4f}\")"
      ],
      "metadata": {
        "colab": {
          "base_uri": "https://localhost:8080/"
        },
        "collapsed": true,
        "id": "RfQuHNO5Z1J7",
        "outputId": "2eb793f1-4aa6-48ad-9b7e-edfabd4c72f0"
      },
      "execution_count": 165,
      "outputs": [
        {
          "output_type": "stream",
          "name": "stdout",
          "text": [
            "RMSE médio: nan\n"
          ]
        },
        {
          "output_type": "stream",
          "name": "stderr",
          "text": [
            "/usr/local/lib/python3.10/dist-packages/numpy/core/fromnumeric.py:3504: RuntimeWarning: Mean of empty slice.\n",
            "  return _methods._mean(a, axis=axis, dtype=dtype,\n",
            "/usr/local/lib/python3.10/dist-packages/numpy/core/_methods.py:129: RuntimeWarning: invalid value encountered in scalar divide\n",
            "  ret = ret.dtype.type(ret / rcount)\n"
          ]
        }
      ]
    },
    {
      "cell_type": "code",
      "source": [
        "# Função para avaliação do modelo usando validação cruzada\n",
        "def evaluate_model(k_folds=5):\n",
        "    kf = KFold(n_splits=k_folds, shuffle=True, random_state=42)\n",
        "    rmse_scores = []\n",
        "\n",
        "    for train_index, test_index in kf.split(user_product_matrix):\n",
        "        train_data = user_product_matrix.iloc[train_index]\n",
        "        test_data = user_product_matrix.iloc[test_index]\n",
        "\n",
        "        # Calcular a similaridade com base no treino\n",
        "        user_similarity_train = cosine_similarity(train_data)\n",
        "        product_similarity_train = cosine_similarity(product_features.loc[train_data.columns])\n",
        "\n",
        "        for user_id in test_data.index:\n",
        "            for product_id in test_data.columns:\n",
        "                if user_id in train_data.index and product_id in train_data.columns:\n",
        "                    user_ratings = recommend_hybrid(user_id, n_recommendations=5)\n",
        "                    if not user_ratings.empty and product_id in user_ratings['product_id'].values:\n",
        "                        predicted_rating = user_ratings[user_ratings['product_id'] == product_id]['rating_normalized'].values[0]\n",
        "                    else:\n",
        "                        predicted_rating = 0\n",
        "                    actual_rating = test_data.loc[user_id, product_id]\n",
        "                    rmse_scores.append(mean_squared_error([actual_rating], [predicted_rating], squared=False))\n",
        "\n",
        "    return np.mean(rmse_scores)"
      ],
      "metadata": {
        "id": "Wnd4N1-vZK37"
      },
      "execution_count": 166,
      "outputs": []
    },
    {
      "cell_type": "code",
      "source": [
        "# Avaliação do modelo\n",
        "rmse = evaluate_model()\n",
        "print(f\"RMSE médio: {rmse:.4f}\")\n",
        "\n",
        "# Função para visualização de recomendações\n",
        "def plot_recommendations(user_id, n_recommendations=5):\n",
        "    recommendations = recommend_hybrid(user_id, n_recommendations)\n",
        "    if recommendations.empty:\n",
        "        print(f\"Nenhuma recomendação disponível para o usuário {user_id}\")\n",
        "    else:\n",
        "        category_counts = recommendations['category'].value_counts()\n",
        "        plt.figure(figsize=(10, 6))\n",
        "        sns.barplot(x=category_counts.index, y=category_counts.values)\n",
        "        plt.title(f\"Recomendações por Categoria para o Usuário {user_id}\")\n",
        "        plt.xlabel(\"Categoria\")\n",
        "        plt.ylabel(\"Número de Produtos Recomendados\")\n",
        "        plt.xticks(rotation=45)\n",
        "        plt.show()"
      ],
      "metadata": {
        "colab": {
          "base_uri": "https://localhost:8080/",
          "height": 356
        },
        "id": "tI92zJaRZOLJ",
        "outputId": "765c84aa-3620-46fd-f249-0501b56755fd"
      },
      "execution_count": 167,
      "outputs": [
        {
          "output_type": "error",
          "ename": "KeyError",
          "evalue": "'[50] not in index'",
          "traceback": [
            "\u001b[0;31m---------------------------------------------------------------------------\u001b[0m",
            "\u001b[0;31mKeyError\u001b[0m                                  Traceback (most recent call last)",
            "\u001b[0;32m<ipython-input-167-0b3e4c69555b>\u001b[0m in \u001b[0;36m<cell line: 2>\u001b[0;34m()\u001b[0m\n\u001b[1;32m      1\u001b[0m \u001b[0;31m# Avaliação do modelo\u001b[0m\u001b[0;34m\u001b[0m\u001b[0;34m\u001b[0m\u001b[0m\n\u001b[0;32m----> 2\u001b[0;31m \u001b[0mrmse\u001b[0m \u001b[0;34m=\u001b[0m \u001b[0mevaluate_model\u001b[0m\u001b[0;34m(\u001b[0m\u001b[0;34m)\u001b[0m\u001b[0;34m\u001b[0m\u001b[0;34m\u001b[0m\u001b[0m\n\u001b[0m\u001b[1;32m      3\u001b[0m \u001b[0mprint\u001b[0m\u001b[0;34m(\u001b[0m\u001b[0;34mf\"RMSE médio: {rmse:.4f}\"\u001b[0m\u001b[0;34m)\u001b[0m\u001b[0;34m\u001b[0m\u001b[0;34m\u001b[0m\u001b[0m\n\u001b[1;32m      4\u001b[0m \u001b[0;34m\u001b[0m\u001b[0m\n\u001b[1;32m      5\u001b[0m \u001b[0;31m# Função para visualização de recomendações\u001b[0m\u001b[0;34m\u001b[0m\u001b[0;34m\u001b[0m\u001b[0m\n",
            "\u001b[0;32m<ipython-input-166-d2e3b678b269>\u001b[0m in \u001b[0;36mevaluate_model\u001b[0;34m(k_folds)\u001b[0m\n\u001b[1;32m     10\u001b[0m         \u001b[0;31m# Calcular a similaridade com base no treino\u001b[0m\u001b[0;34m\u001b[0m\u001b[0;34m\u001b[0m\u001b[0m\n\u001b[1;32m     11\u001b[0m         \u001b[0muser_similarity_train\u001b[0m \u001b[0;34m=\u001b[0m \u001b[0mcosine_similarity\u001b[0m\u001b[0;34m(\u001b[0m\u001b[0mtrain_data\u001b[0m\u001b[0;34m)\u001b[0m\u001b[0;34m\u001b[0m\u001b[0;34m\u001b[0m\u001b[0m\n\u001b[0;32m---> 12\u001b[0;31m         \u001b[0mproduct_similarity_train\u001b[0m \u001b[0;34m=\u001b[0m \u001b[0mcosine_similarity\u001b[0m\u001b[0;34m(\u001b[0m\u001b[0mproduct_features\u001b[0m\u001b[0;34m.\u001b[0m\u001b[0mloc\u001b[0m\u001b[0;34m[\u001b[0m\u001b[0mtrain_data\u001b[0m\u001b[0;34m.\u001b[0m\u001b[0mcolumns\u001b[0m\u001b[0;34m]\u001b[0m\u001b[0;34m)\u001b[0m\u001b[0;34m\u001b[0m\u001b[0;34m\u001b[0m\u001b[0m\n\u001b[0m\u001b[1;32m     13\u001b[0m \u001b[0;34m\u001b[0m\u001b[0m\n\u001b[1;32m     14\u001b[0m         \u001b[0;32mfor\u001b[0m \u001b[0muser_id\u001b[0m \u001b[0;32min\u001b[0m \u001b[0mtest_data\u001b[0m\u001b[0;34m.\u001b[0m\u001b[0mindex\u001b[0m\u001b[0;34m:\u001b[0m\u001b[0;34m\u001b[0m\u001b[0;34m\u001b[0m\u001b[0m\n",
            "\u001b[0;32m/usr/local/lib/python3.10/dist-packages/pandas/core/indexing.py\u001b[0m in \u001b[0;36m__getitem__\u001b[0;34m(self, key)\u001b[0m\n\u001b[1;32m   1189\u001b[0m             \u001b[0mmaybe_callable\u001b[0m \u001b[0;34m=\u001b[0m \u001b[0mcom\u001b[0m\u001b[0;34m.\u001b[0m\u001b[0mapply_if_callable\u001b[0m\u001b[0;34m(\u001b[0m\u001b[0mkey\u001b[0m\u001b[0;34m,\u001b[0m \u001b[0mself\u001b[0m\u001b[0;34m.\u001b[0m\u001b[0mobj\u001b[0m\u001b[0;34m)\u001b[0m\u001b[0;34m\u001b[0m\u001b[0;34m\u001b[0m\u001b[0m\n\u001b[1;32m   1190\u001b[0m             \u001b[0mmaybe_callable\u001b[0m \u001b[0;34m=\u001b[0m \u001b[0mself\u001b[0m\u001b[0;34m.\u001b[0m\u001b[0m_check_deprecated_callable_usage\u001b[0m\u001b[0;34m(\u001b[0m\u001b[0mkey\u001b[0m\u001b[0;34m,\u001b[0m \u001b[0mmaybe_callable\u001b[0m\u001b[0;34m)\u001b[0m\u001b[0;34m\u001b[0m\u001b[0;34m\u001b[0m\u001b[0m\n\u001b[0;32m-> 1191\u001b[0;31m             \u001b[0;32mreturn\u001b[0m \u001b[0mself\u001b[0m\u001b[0;34m.\u001b[0m\u001b[0m_getitem_axis\u001b[0m\u001b[0;34m(\u001b[0m\u001b[0mmaybe_callable\u001b[0m\u001b[0;34m,\u001b[0m \u001b[0maxis\u001b[0m\u001b[0;34m=\u001b[0m\u001b[0maxis\u001b[0m\u001b[0;34m)\u001b[0m\u001b[0;34m\u001b[0m\u001b[0;34m\u001b[0m\u001b[0m\n\u001b[0m\u001b[1;32m   1192\u001b[0m \u001b[0;34m\u001b[0m\u001b[0m\n\u001b[1;32m   1193\u001b[0m     \u001b[0;32mdef\u001b[0m \u001b[0m_is_scalar_access\u001b[0m\u001b[0;34m(\u001b[0m\u001b[0mself\u001b[0m\u001b[0;34m,\u001b[0m \u001b[0mkey\u001b[0m\u001b[0;34m:\u001b[0m \u001b[0mtuple\u001b[0m\u001b[0;34m)\u001b[0m\u001b[0;34m:\u001b[0m\u001b[0;34m\u001b[0m\u001b[0;34m\u001b[0m\u001b[0m\n",
            "\u001b[0;32m/usr/local/lib/python3.10/dist-packages/pandas/core/indexing.py\u001b[0m in \u001b[0;36m_getitem_axis\u001b[0;34m(self, key, axis)\u001b[0m\n\u001b[1;32m   1418\u001b[0m                     \u001b[0;32mraise\u001b[0m \u001b[0mValueError\u001b[0m\u001b[0;34m(\u001b[0m\u001b[0;34m\"Cannot index with multidimensional key\"\u001b[0m\u001b[0;34m)\u001b[0m\u001b[0;34m\u001b[0m\u001b[0;34m\u001b[0m\u001b[0m\n\u001b[1;32m   1419\u001b[0m \u001b[0;34m\u001b[0m\u001b[0m\n\u001b[0;32m-> 1420\u001b[0;31m                 \u001b[0;32mreturn\u001b[0m \u001b[0mself\u001b[0m\u001b[0;34m.\u001b[0m\u001b[0m_getitem_iterable\u001b[0m\u001b[0;34m(\u001b[0m\u001b[0mkey\u001b[0m\u001b[0;34m,\u001b[0m \u001b[0maxis\u001b[0m\u001b[0;34m=\u001b[0m\u001b[0maxis\u001b[0m\u001b[0;34m)\u001b[0m\u001b[0;34m\u001b[0m\u001b[0;34m\u001b[0m\u001b[0m\n\u001b[0m\u001b[1;32m   1421\u001b[0m \u001b[0;34m\u001b[0m\u001b[0m\n\u001b[1;32m   1422\u001b[0m             \u001b[0;31m# nested tuple slicing\u001b[0m\u001b[0;34m\u001b[0m\u001b[0;34m\u001b[0m\u001b[0m\n",
            "\u001b[0;32m/usr/local/lib/python3.10/dist-packages/pandas/core/indexing.py\u001b[0m in \u001b[0;36m_getitem_iterable\u001b[0;34m(self, key, axis)\u001b[0m\n\u001b[1;32m   1358\u001b[0m \u001b[0;34m\u001b[0m\u001b[0m\n\u001b[1;32m   1359\u001b[0m         \u001b[0;31m# A collection of keys\u001b[0m\u001b[0;34m\u001b[0m\u001b[0;34m\u001b[0m\u001b[0m\n\u001b[0;32m-> 1360\u001b[0;31m         \u001b[0mkeyarr\u001b[0m\u001b[0;34m,\u001b[0m \u001b[0mindexer\u001b[0m \u001b[0;34m=\u001b[0m \u001b[0mself\u001b[0m\u001b[0;34m.\u001b[0m\u001b[0m_get_listlike_indexer\u001b[0m\u001b[0;34m(\u001b[0m\u001b[0mkey\u001b[0m\u001b[0;34m,\u001b[0m \u001b[0maxis\u001b[0m\u001b[0;34m)\u001b[0m\u001b[0;34m\u001b[0m\u001b[0;34m\u001b[0m\u001b[0m\n\u001b[0m\u001b[1;32m   1361\u001b[0m         return self.obj._reindex_with_indexers(\n\u001b[1;32m   1362\u001b[0m             \u001b[0;34m{\u001b[0m\u001b[0maxis\u001b[0m\u001b[0;34m:\u001b[0m \u001b[0;34m[\u001b[0m\u001b[0mkeyarr\u001b[0m\u001b[0;34m,\u001b[0m \u001b[0mindexer\u001b[0m\u001b[0;34m]\u001b[0m\u001b[0;34m}\u001b[0m\u001b[0;34m,\u001b[0m \u001b[0mcopy\u001b[0m\u001b[0;34m=\u001b[0m\u001b[0;32mTrue\u001b[0m\u001b[0;34m,\u001b[0m \u001b[0mallow_dups\u001b[0m\u001b[0;34m=\u001b[0m\u001b[0;32mTrue\u001b[0m\u001b[0;34m\u001b[0m\u001b[0;34m\u001b[0m\u001b[0m\n",
            "\u001b[0;32m/usr/local/lib/python3.10/dist-packages/pandas/core/indexing.py\u001b[0m in \u001b[0;36m_get_listlike_indexer\u001b[0;34m(self, key, axis)\u001b[0m\n\u001b[1;32m   1556\u001b[0m         \u001b[0maxis_name\u001b[0m \u001b[0;34m=\u001b[0m \u001b[0mself\u001b[0m\u001b[0;34m.\u001b[0m\u001b[0mobj\u001b[0m\u001b[0;34m.\u001b[0m\u001b[0m_get_axis_name\u001b[0m\u001b[0;34m(\u001b[0m\u001b[0maxis\u001b[0m\u001b[0;34m)\u001b[0m\u001b[0;34m\u001b[0m\u001b[0;34m\u001b[0m\u001b[0m\n\u001b[1;32m   1557\u001b[0m \u001b[0;34m\u001b[0m\u001b[0m\n\u001b[0;32m-> 1558\u001b[0;31m         \u001b[0mkeyarr\u001b[0m\u001b[0;34m,\u001b[0m \u001b[0mindexer\u001b[0m \u001b[0;34m=\u001b[0m \u001b[0max\u001b[0m\u001b[0;34m.\u001b[0m\u001b[0m_get_indexer_strict\u001b[0m\u001b[0;34m(\u001b[0m\u001b[0mkey\u001b[0m\u001b[0;34m,\u001b[0m \u001b[0maxis_name\u001b[0m\u001b[0;34m)\u001b[0m\u001b[0;34m\u001b[0m\u001b[0;34m\u001b[0m\u001b[0m\n\u001b[0m\u001b[1;32m   1559\u001b[0m \u001b[0;34m\u001b[0m\u001b[0m\n\u001b[1;32m   1560\u001b[0m         \u001b[0;32mreturn\u001b[0m \u001b[0mkeyarr\u001b[0m\u001b[0;34m,\u001b[0m \u001b[0mindexer\u001b[0m\u001b[0;34m\u001b[0m\u001b[0;34m\u001b[0m\u001b[0m\n",
            "\u001b[0;32m/usr/local/lib/python3.10/dist-packages/pandas/core/indexes/base.py\u001b[0m in \u001b[0;36m_get_indexer_strict\u001b[0;34m(self, key, axis_name)\u001b[0m\n\u001b[1;32m   6198\u001b[0m             \u001b[0mkeyarr\u001b[0m\u001b[0;34m,\u001b[0m \u001b[0mindexer\u001b[0m\u001b[0;34m,\u001b[0m \u001b[0mnew_indexer\u001b[0m \u001b[0;34m=\u001b[0m \u001b[0mself\u001b[0m\u001b[0;34m.\u001b[0m\u001b[0m_reindex_non_unique\u001b[0m\u001b[0;34m(\u001b[0m\u001b[0mkeyarr\u001b[0m\u001b[0;34m)\u001b[0m\u001b[0;34m\u001b[0m\u001b[0;34m\u001b[0m\u001b[0m\n\u001b[1;32m   6199\u001b[0m \u001b[0;34m\u001b[0m\u001b[0m\n\u001b[0;32m-> 6200\u001b[0;31m         \u001b[0mself\u001b[0m\u001b[0;34m.\u001b[0m\u001b[0m_raise_if_missing\u001b[0m\u001b[0;34m(\u001b[0m\u001b[0mkeyarr\u001b[0m\u001b[0;34m,\u001b[0m \u001b[0mindexer\u001b[0m\u001b[0;34m,\u001b[0m \u001b[0maxis_name\u001b[0m\u001b[0;34m)\u001b[0m\u001b[0;34m\u001b[0m\u001b[0;34m\u001b[0m\u001b[0m\n\u001b[0m\u001b[1;32m   6201\u001b[0m \u001b[0;34m\u001b[0m\u001b[0m\n\u001b[1;32m   6202\u001b[0m         \u001b[0mkeyarr\u001b[0m \u001b[0;34m=\u001b[0m \u001b[0mself\u001b[0m\u001b[0;34m.\u001b[0m\u001b[0mtake\u001b[0m\u001b[0;34m(\u001b[0m\u001b[0mindexer\u001b[0m\u001b[0;34m)\u001b[0m\u001b[0;34m\u001b[0m\u001b[0;34m\u001b[0m\u001b[0m\n",
            "\u001b[0;32m/usr/local/lib/python3.10/dist-packages/pandas/core/indexes/base.py\u001b[0m in \u001b[0;36m_raise_if_missing\u001b[0;34m(self, key, indexer, axis_name)\u001b[0m\n\u001b[1;32m   6250\u001b[0m \u001b[0;34m\u001b[0m\u001b[0m\n\u001b[1;32m   6251\u001b[0m             \u001b[0mnot_found\u001b[0m \u001b[0;34m=\u001b[0m \u001b[0mlist\u001b[0m\u001b[0;34m(\u001b[0m\u001b[0mensure_index\u001b[0m\u001b[0;34m(\u001b[0m\u001b[0mkey\u001b[0m\u001b[0;34m)\u001b[0m\u001b[0;34m[\u001b[0m\u001b[0mmissing_mask\u001b[0m\u001b[0;34m.\u001b[0m\u001b[0mnonzero\u001b[0m\u001b[0;34m(\u001b[0m\u001b[0;34m)\u001b[0m\u001b[0;34m[\u001b[0m\u001b[0;36m0\u001b[0m\u001b[0;34m]\u001b[0m\u001b[0;34m]\u001b[0m\u001b[0;34m.\u001b[0m\u001b[0munique\u001b[0m\u001b[0;34m(\u001b[0m\u001b[0;34m)\u001b[0m\u001b[0;34m)\u001b[0m\u001b[0;34m\u001b[0m\u001b[0;34m\u001b[0m\u001b[0m\n\u001b[0;32m-> 6252\u001b[0;31m             \u001b[0;32mraise\u001b[0m \u001b[0mKeyError\u001b[0m\u001b[0;34m(\u001b[0m\u001b[0;34mf\"{not_found} not in index\"\u001b[0m\u001b[0;34m)\u001b[0m\u001b[0;34m\u001b[0m\u001b[0;34m\u001b[0m\u001b[0m\n\u001b[0m\u001b[1;32m   6253\u001b[0m \u001b[0;34m\u001b[0m\u001b[0m\n\u001b[1;32m   6254\u001b[0m     \u001b[0;34m@\u001b[0m\u001b[0moverload\u001b[0m\u001b[0;34m\u001b[0m\u001b[0;34m\u001b[0m\u001b[0m\n",
            "\u001b[0;31mKeyError\u001b[0m: '[50] not in index'"
          ]
        }
      ]
    },
    {
      "cell_type": "code",
      "source": [
        "# Exemplo de recomendação e visualização\n",
        "plot_recommendations(user_id=2)"
      ],
      "metadata": {
        "id": "OevXMrS6ZZJc"
      },
      "execution_count": null,
      "outputs": []
    },
    {
      "cell_type": "markdown",
      "source": [
        "# CÁLCULO DO RMSE"
      ],
      "metadata": {
        "id": "tyYiNWsdDwGS"
      }
    },
    {
      "cell_type": "code",
      "source": [
        "from sklearn.metrics import mean_squared_error"
      ],
      "metadata": {
        "id": "SMIxHIAORvNn"
      },
      "execution_count": 104,
      "outputs": []
    },
    {
      "cell_type": "code",
      "source": [
        "test_data['rating_normalized'] = (test_data['rating'] - test_data['rating'].min()) / (test_data['rating'].max() - test_data['rating'].min())"
      ],
      "metadata": {
        "id": "biBF3ucXQwv_"
      },
      "execution_count": 105,
      "outputs": []
    },
    {
      "cell_type": "code",
      "source": [
        "predicted_rating = user_ratings[user_ratings['product_id'] == product_id].get('rating_normalized', pd.Series([0])).values[0]\n"
      ],
      "metadata": {
        "id": "vO28MBKvQytf"
      },
      "execution_count": 106,
      "outputs": []
    },
    {
      "cell_type": "code",
      "source": [
        "predicted_ratings = []\n",
        "actual_ratings = []\n",
        "\n",
        "for _, row in test_data.iterrows():\n",
        "    user_id = row['user_id']\n",
        "    product_id = row['product_id']\n",
        "\n",
        "    # Verificar se o usuário e o produto existem no conjunto de treino\n",
        "    if user_id in user_product_matrix_train.index and product_id in user_product_matrix_train.columns:\n",
        "        user_ratings = recommend_hybrid_train(user_id, n_recommendations=5)\n",
        "\n",
        "        # Verificação de user_ratings para garantir que a coluna 'rating_normalized' exista\n",
        "        print(f\"User Ratings for User {user_id}:\")\n",
        "        print(user_ratings.head())  # Inspecionar a estrutura de user_ratings\n",
        "\n",
        "        # Prevendo a avaliação com base no score do produto recomendado\n",
        "        if not user_ratings.empty and product_id in user_ratings['product_id'].values:\n",
        "            if 'rating_normalized' in user_ratings.columns:\n",
        "                predicted_rating = user_ratings[user_ratings['product_id'] == product_id]['rating_normalized'].values[0]\n",
        "            else:\n",
        "                print(f\"Coluna 'rating_normalized' não encontrada para o user_id {user_id}.\")\n",
        "                predicted_rating = 0  # Valor padrão caso a coluna não exista\n",
        "        else:\n",
        "            predicted_rating = 0  # Se o produto não for recomendado, prever como 0\n",
        "\n",
        "        predicted_ratings.append(predicted_rating)\n",
        "        actual_ratings.append(row['rating_normalized'])\n",
        "\n",
        "# Calcular o RMSE para medir o desempenho do modelo\n",
        "rmse = np.sqrt(mean_squared_error(actual_ratings, predicted_ratings))\n",
        "print(f\"RMSE do modelo: {rmse:.4f}\")"
      ],
      "metadata": {
        "colab": {
          "base_uri": "https://localhost:8080/"
        },
        "id": "JdGyLqaKQ0sU",
        "outputId": "d3443271-ae3c-4c77-b699-9410e35b0c6a"
      },
      "execution_count": 107,
      "outputs": [
        {
          "output_type": "stream",
          "name": "stdout",
          "text": [
            "User Ratings for User 76:\n",
            "    product_id    product_name      category  price     brand  \\\n",
            "8            9    Brahma 229ml       Cerveja    8.5    Brahma   \n",
            "12          13     Pepsi 326ml    Energético   10.0     Pepsi   \n",
            "18          19    Brahma 378ml       Cerveja    9.5    Brahma   \n",
            "21          22  Heineken 268ml  Refrigerante    9.0  Heineken   \n",
            "37          38    Brahma 314ml       Cerveja    9.5    Brahma   \n",
            "\n",
            "    alcohol_content         category_brand  \n",
            "8               4.5         Cerveja Brahma  \n",
            "12              0.0       Energético Pepsi  \n",
            "18              4.5         Cerveja Brahma  \n",
            "21              0.0  Refrigerante Heineken  \n",
            "37              4.5         Cerveja Brahma  \n",
            "User Ratings for User 54:\n",
            "    product_id        product_name      category  price      brand  \\\n",
            "20          21  Água Crystal 470ml       Cerveja    5.0       Água   \n",
            "23          24          Skol 304ml       Cerveja    8.5       Skol   \n",
            "30          31  Água Crystal 252ml  Refrigerante    5.0       Água   \n",
            "34          35  Água Crystal 327ml  Refrigerante    5.0       Água   \n",
            "48          49     Coca-Cola 540ml  Refrigerante    9.0  Coca-Cola   \n",
            "\n",
            "    alcohol_content          category_brand  \n",
            "20              5.0            Cerveja Água  \n",
            "23              4.5            Cerveja Skol  \n",
            "30              0.0       Refrigerante Água  \n",
            "34              0.0       Refrigerante Água  \n",
            "48              0.0  Refrigerante Coca-Cola  \n",
            "User Ratings for User 82:\n",
            "    product_id    product_name    category  price     brand  alcohol_content  \\\n",
            "2            3  Heineken 426ml     Cerveja    9.5  Heineken              5.0   \n",
            "12          13     Pepsi 326ml  Energético   10.0     Pepsi              0.0   \n",
            "13          14  Heineken 414ml     Cerveja    9.5  Heineken              5.0   \n",
            "25          26  Heineken 370ml     Cerveja    9.0  Heineken              5.0   \n",
            "27          28  Heineken 553ml     Cerveja    9.5  Heineken              5.0   \n",
            "\n",
            "      category_brand  \n",
            "2   Cerveja Heineken  \n",
            "12  Energético Pepsi  \n",
            "13  Cerveja Heineken  \n",
            "25  Cerveja Heineken  \n",
            "27  Cerveja Heineken  \n",
            "User Ratings for User 27:\n",
            "    product_id    product_name category  price     brand  alcohol_content  \\\n",
            "2            3  Heineken 426ml  Cerveja    9.5  Heineken              5.0   \n",
            "13          14  Heineken 414ml  Cerveja    9.5  Heineken              5.0   \n",
            "17          18  Heineken 237ml  Cerveja    9.0  Heineken              5.0   \n",
            "25          26  Heineken 370ml  Cerveja    9.0  Heineken              5.0   \n",
            "27          28  Heineken 553ml  Cerveja    9.5  Heineken              5.0   \n",
            "\n",
            "      category_brand  \n",
            "2   Cerveja Heineken  \n",
            "13  Cerveja Heineken  \n",
            "17  Cerveja Heineken  \n",
            "25  Cerveja Heineken  \n",
            "27  Cerveja Heineken  \n",
            "Coluna 'rating_normalized' não encontrada para o user_id 27.\n",
            "User Ratings for User 45:\n",
            "    product_id        product_name      category  price      brand  \\\n",
            "12          13         Pepsi 326ml    Energético   10.0      Pepsi   \n",
            "19          20     Coca-Cola 478ml  Refrigerante    9.0  Coca-Cola   \n",
            "20          21  Água Crystal 470ml       Cerveja    5.0       Água   \n",
            "21          22      Heineken 268ml  Refrigerante    9.0   Heineken   \n",
            "48          49     Coca-Cola 540ml  Refrigerante    9.0  Coca-Cola   \n",
            "\n",
            "    alcohol_content          category_brand  \n",
            "12              0.0        Energético Pepsi  \n",
            "19              0.0  Refrigerante Coca-Cola  \n",
            "20              5.0            Cerveja Água  \n",
            "21              0.0   Refrigerante Heineken  \n",
            "48              0.0  Refrigerante Coca-Cola  \n",
            "User Ratings for User 36:\n",
            "    product_id        product_name    category  price     brand  \\\n",
            "2            3      Heineken 426ml     Cerveja    9.5  Heineken   \n",
            "11          12      Heineken 504ml     Cerveja    9.0  Heineken   \n",
            "25          26      Heineken 370ml     Cerveja    9.0  Heineken   \n",
            "35          36      Heineken 395ml     Cerveja    9.0  Heineken   \n",
            "46          47  Água Crystal 353ml  Energético   10.0      Água   \n",
            "\n",
            "    alcohol_content    category_brand  \n",
            "2               5.0  Cerveja Heineken  \n",
            "11              5.0  Cerveja Heineken  \n",
            "25              5.0  Cerveja Heineken  \n",
            "35              5.0  Cerveja Heineken  \n",
            "46              0.0   Energético Água  \n",
            "User Ratings for User 75:\n",
            "    product_id product_name category  price brand  alcohol_content  \\\n",
            "6            7   Skol 432ml  Cerveja    7.5  Skol              4.5   \n",
            "23          24   Skol 304ml  Cerveja    8.5  Skol              4.5   \n",
            "29          30   Skol 220ml  Cerveja    7.5  Skol              4.5   \n",
            "33          34   Skol 600ml  Cerveja    9.0  Skol              4.5   \n",
            "47          48   Skol 406ml  Cerveja    9.0  Skol              4.5   \n",
            "\n",
            "   category_brand  \n",
            "6    Cerveja Skol  \n",
            "23   Cerveja Skol  \n",
            "29   Cerveja Skol  \n",
            "33   Cerveja Skol  \n",
            "47   Cerveja Skol  \n",
            "User Ratings for User 60:\n",
            "    product_id        product_name      category  price      brand  \\\n",
            "12          13         Pepsi 326ml    Energético   10.0      Pepsi   \n",
            "20          21  Água Crystal 470ml       Cerveja    5.0       Água   \n",
            "30          31  Água Crystal 252ml  Refrigerante    5.0       Água   \n",
            "42          43          Skol 423ml    Energético   10.0       Skol   \n",
            "48          49     Coca-Cola 540ml  Refrigerante    9.0  Coca-Cola   \n",
            "\n",
            "    alcohol_content          category_brand  \n",
            "12              0.0        Energético Pepsi  \n",
            "20              5.0            Cerveja Água  \n",
            "30              0.0       Refrigerante Água  \n",
            "42              0.0         Energético Skol  \n",
            "48              0.0  Refrigerante Coca-Cola  \n",
            "User Ratings for User 82:\n",
            "    product_id    product_name    category  price     brand  alcohol_content  \\\n",
            "2            3  Heineken 426ml     Cerveja    9.5  Heineken              5.0   \n",
            "12          13     Pepsi 326ml  Energético   10.0     Pepsi              0.0   \n",
            "13          14  Heineken 414ml     Cerveja    9.5  Heineken              5.0   \n",
            "25          26  Heineken 370ml     Cerveja    9.0  Heineken              5.0   \n",
            "27          28  Heineken 553ml     Cerveja    9.5  Heineken              5.0   \n",
            "\n",
            "      category_brand  \n",
            "2   Cerveja Heineken  \n",
            "12  Energético Pepsi  \n",
            "13  Cerveja Heineken  \n",
            "25  Cerveja Heineken  \n",
            "27  Cerveja Heineken  \n",
            "User Ratings for User 19:\n",
            "    product_id        product_name      category  price      brand  \\\n",
            "12          13         Pepsi 326ml    Energético   10.0      Pepsi   \n",
            "19          20     Coca-Cola 478ml  Refrigerante    9.0  Coca-Cola   \n",
            "20          21  Água Crystal 470ml       Cerveja    5.0       Água   \n",
            "21          22      Heineken 268ml  Refrigerante    9.0   Heineken   \n",
            "48          49     Coca-Cola 540ml  Refrigerante    9.0  Coca-Cola   \n",
            "\n",
            "    alcohol_content          category_brand  \n",
            "12              0.0        Energético Pepsi  \n",
            "19              0.0  Refrigerante Coca-Cola  \n",
            "20              5.0            Cerveja Água  \n",
            "21              0.0   Refrigerante Heineken  \n",
            "48              0.0  Refrigerante Coca-Cola  \n",
            "RMSE do modelo: 0.6072\n"
          ]
        }
      ]
    },
    {
      "cell_type": "markdown",
      "source": [
        "O modelo foi treinado e avaliado usando a métrica RMSE (Root Mean Square Error), que mede o erro entre as predições do modelo e as avaliações reais dos usuários.\n",
        "* Um RMSE de 0.6072 indica que o modelo é razoavelmente preciso em suas recomendações, mas ainda pode ser otimizado.\n",
        "\n",
        " Consideração:\n",
        "* O RMSE é uma boa métrica para avaliar a precisão, mas não é a única. Também pode ser interessante analisar o modelo com outras métricas, como precisão, recall ou F1-score.\n",
        "* Além disso, avaliar a qualidade das recomendações de forma qualitativa (se os produtos são realmente relevantes) também é importante."
      ],
      "metadata": {
        "id": "l8GOQqdoSb-a"
      }
    },
    {
      "cell_type": "code",
      "source": [],
      "metadata": {
        "colab": {
          "base_uri": "https://localhost:8080/",
          "height": 356
        },
        "id": "lmtVF3QpXPqJ",
        "outputId": "3b6b8e71-57ae-4174-e9aa-4bcf5270c396"
      },
      "execution_count": 108,
      "outputs": [
        {
          "output_type": "error",
          "ename": "ValueError",
          "evalue": "Index contains duplicate entries, cannot reshape",
          "traceback": [
            "\u001b[0;31m---------------------------------------------------------------------------\u001b[0m",
            "\u001b[0;31mValueError\u001b[0m                                Traceback (most recent call last)",
            "\u001b[0;32m<ipython-input-108-fb15f725f997>\u001b[0m in \u001b[0;36m<cell line: 1>\u001b[0;34m()\u001b[0m\n\u001b[1;32m      4\u001b[0m \u001b[0;34m\u001b[0m\u001b[0m\n\u001b[1;32m      5\u001b[0m     \u001b[0;31m# Atualizar a matriz de interações com os dados do fold atual\u001b[0m\u001b[0;34m\u001b[0m\u001b[0;34m\u001b[0m\u001b[0m\n\u001b[0;32m----> 6\u001b[0;31m     \u001b[0minteraction_matrix\u001b[0m \u001b[0;34m=\u001b[0m \u001b[0mtrain_fold\u001b[0m\u001b[0;34m.\u001b[0m\u001b[0mpivot\u001b[0m\u001b[0;34m(\u001b[0m\u001b[0mindex\u001b[0m\u001b[0;34m=\u001b[0m\u001b[0;34m'user_id'\u001b[0m\u001b[0;34m,\u001b[0m \u001b[0mcolumns\u001b[0m\u001b[0;34m=\u001b[0m\u001b[0;34m'product_id'\u001b[0m\u001b[0;34m,\u001b[0m \u001b[0mvalues\u001b[0m\u001b[0;34m=\u001b[0m\u001b[0;34m'rating'\u001b[0m\u001b[0;34m)\u001b[0m\u001b[0;34m.\u001b[0m\u001b[0mfillna\u001b[0m\u001b[0;34m(\u001b[0m\u001b[0;36m0\u001b[0m\u001b[0;34m)\u001b[0m\u001b[0;34m\u001b[0m\u001b[0;34m\u001b[0m\u001b[0m\n\u001b[0m\u001b[1;32m      7\u001b[0m \u001b[0;34m\u001b[0m\u001b[0m\n\u001b[1;32m      8\u001b[0m     \u001b[0;31m# Calcular a similaridade de cosseno novamente\u001b[0m\u001b[0;34m\u001b[0m\u001b[0;34m\u001b[0m\u001b[0m\n",
            "\u001b[0;32m/usr/local/lib/python3.10/dist-packages/pandas/core/frame.py\u001b[0m in \u001b[0;36mpivot\u001b[0;34m(self, columns, index, values)\u001b[0m\n\u001b[1;32m   9337\u001b[0m         \u001b[0;32mfrom\u001b[0m \u001b[0mpandas\u001b[0m\u001b[0;34m.\u001b[0m\u001b[0mcore\u001b[0m\u001b[0;34m.\u001b[0m\u001b[0mreshape\u001b[0m\u001b[0;34m.\u001b[0m\u001b[0mpivot\u001b[0m \u001b[0;32mimport\u001b[0m \u001b[0mpivot\u001b[0m\u001b[0;34m\u001b[0m\u001b[0;34m\u001b[0m\u001b[0m\n\u001b[1;32m   9338\u001b[0m \u001b[0;34m\u001b[0m\u001b[0m\n\u001b[0;32m-> 9339\u001b[0;31m         \u001b[0;32mreturn\u001b[0m \u001b[0mpivot\u001b[0m\u001b[0;34m(\u001b[0m\u001b[0mself\u001b[0m\u001b[0;34m,\u001b[0m \u001b[0mindex\u001b[0m\u001b[0;34m=\u001b[0m\u001b[0mindex\u001b[0m\u001b[0;34m,\u001b[0m \u001b[0mcolumns\u001b[0m\u001b[0;34m=\u001b[0m\u001b[0mcolumns\u001b[0m\u001b[0;34m,\u001b[0m \u001b[0mvalues\u001b[0m\u001b[0;34m=\u001b[0m\u001b[0mvalues\u001b[0m\u001b[0;34m)\u001b[0m\u001b[0;34m\u001b[0m\u001b[0;34m\u001b[0m\u001b[0m\n\u001b[0m\u001b[1;32m   9340\u001b[0m \u001b[0;34m\u001b[0m\u001b[0m\n\u001b[1;32m   9341\u001b[0m     _shared_docs[\n",
            "\u001b[0;32m/usr/local/lib/python3.10/dist-packages/pandas/core/reshape/pivot.py\u001b[0m in \u001b[0;36mpivot\u001b[0;34m(data, columns, index, values)\u001b[0m\n\u001b[1;32m    568\u001b[0m     \u001b[0;31m# [List[Any], ExtensionArray, ndarray[Any, Any], Index, Series]\"; expected\u001b[0m\u001b[0;34m\u001b[0m\u001b[0;34m\u001b[0m\u001b[0m\n\u001b[1;32m    569\u001b[0m     \u001b[0;31m# \"Hashable\"\u001b[0m\u001b[0;34m\u001b[0m\u001b[0;34m\u001b[0m\u001b[0m\n\u001b[0;32m--> 570\u001b[0;31m     \u001b[0mresult\u001b[0m \u001b[0;34m=\u001b[0m \u001b[0mindexed\u001b[0m\u001b[0;34m.\u001b[0m\u001b[0munstack\u001b[0m\u001b[0;34m(\u001b[0m\u001b[0mcolumns_listlike\u001b[0m\u001b[0;34m)\u001b[0m  \u001b[0;31m# type: ignore[arg-type]\u001b[0m\u001b[0;34m\u001b[0m\u001b[0;34m\u001b[0m\u001b[0m\n\u001b[0m\u001b[1;32m    571\u001b[0m     result.index.names = [\n\u001b[1;32m    572\u001b[0m         \u001b[0mname\u001b[0m \u001b[0;32mif\u001b[0m \u001b[0mname\u001b[0m \u001b[0;32mis\u001b[0m \u001b[0;32mnot\u001b[0m \u001b[0mlib\u001b[0m\u001b[0;34m.\u001b[0m\u001b[0mno_default\u001b[0m \u001b[0;32melse\u001b[0m \u001b[0;32mNone\u001b[0m \u001b[0;32mfor\u001b[0m \u001b[0mname\u001b[0m \u001b[0;32min\u001b[0m \u001b[0mresult\u001b[0m\u001b[0;34m.\u001b[0m\u001b[0mindex\u001b[0m\u001b[0;34m.\u001b[0m\u001b[0mnames\u001b[0m\u001b[0;34m\u001b[0m\u001b[0;34m\u001b[0m\u001b[0m\n",
            "\u001b[0;32m/usr/local/lib/python3.10/dist-packages/pandas/core/series.py\u001b[0m in \u001b[0;36munstack\u001b[0;34m(self, level, fill_value, sort)\u001b[0m\n\u001b[1;32m   4613\u001b[0m         \u001b[0;32mfrom\u001b[0m \u001b[0mpandas\u001b[0m\u001b[0;34m.\u001b[0m\u001b[0mcore\u001b[0m\u001b[0;34m.\u001b[0m\u001b[0mreshape\u001b[0m\u001b[0;34m.\u001b[0m\u001b[0mreshape\u001b[0m \u001b[0;32mimport\u001b[0m \u001b[0munstack\u001b[0m\u001b[0;34m\u001b[0m\u001b[0;34m\u001b[0m\u001b[0m\n\u001b[1;32m   4614\u001b[0m \u001b[0;34m\u001b[0m\u001b[0m\n\u001b[0;32m-> 4615\u001b[0;31m         \u001b[0;32mreturn\u001b[0m \u001b[0munstack\u001b[0m\u001b[0;34m(\u001b[0m\u001b[0mself\u001b[0m\u001b[0;34m,\u001b[0m \u001b[0mlevel\u001b[0m\u001b[0;34m,\u001b[0m \u001b[0mfill_value\u001b[0m\u001b[0;34m,\u001b[0m \u001b[0msort\u001b[0m\u001b[0;34m)\u001b[0m\u001b[0;34m\u001b[0m\u001b[0;34m\u001b[0m\u001b[0m\n\u001b[0m\u001b[1;32m   4616\u001b[0m \u001b[0;34m\u001b[0m\u001b[0m\n\u001b[1;32m   4617\u001b[0m     \u001b[0;31m# ----------------------------------------------------------------------\u001b[0m\u001b[0;34m\u001b[0m\u001b[0;34m\u001b[0m\u001b[0m\n",
            "\u001b[0;32m/usr/local/lib/python3.10/dist-packages/pandas/core/reshape/reshape.py\u001b[0m in \u001b[0;36munstack\u001b[0;34m(obj, level, fill_value, sort)\u001b[0m\n\u001b[1;32m    515\u001b[0m         \u001b[0;32mif\u001b[0m \u001b[0mis_1d_only_ea_dtype\u001b[0m\u001b[0;34m(\u001b[0m\u001b[0mobj\u001b[0m\u001b[0;34m.\u001b[0m\u001b[0mdtype\u001b[0m\u001b[0;34m)\u001b[0m\u001b[0;34m:\u001b[0m\u001b[0;34m\u001b[0m\u001b[0;34m\u001b[0m\u001b[0m\n\u001b[1;32m    516\u001b[0m             \u001b[0;32mreturn\u001b[0m \u001b[0m_unstack_extension_series\u001b[0m\u001b[0;34m(\u001b[0m\u001b[0mobj\u001b[0m\u001b[0;34m,\u001b[0m \u001b[0mlevel\u001b[0m\u001b[0;34m,\u001b[0m \u001b[0mfill_value\u001b[0m\u001b[0;34m,\u001b[0m \u001b[0msort\u001b[0m\u001b[0;34m=\u001b[0m\u001b[0msort\u001b[0m\u001b[0;34m)\u001b[0m\u001b[0;34m\u001b[0m\u001b[0;34m\u001b[0m\u001b[0m\n\u001b[0;32m--> 517\u001b[0;31m         unstacker = _Unstacker(\n\u001b[0m\u001b[1;32m    518\u001b[0m             \u001b[0mobj\u001b[0m\u001b[0;34m.\u001b[0m\u001b[0mindex\u001b[0m\u001b[0;34m,\u001b[0m \u001b[0mlevel\u001b[0m\u001b[0;34m=\u001b[0m\u001b[0mlevel\u001b[0m\u001b[0;34m,\u001b[0m \u001b[0mconstructor\u001b[0m\u001b[0;34m=\u001b[0m\u001b[0mobj\u001b[0m\u001b[0;34m.\u001b[0m\u001b[0m_constructor_expanddim\u001b[0m\u001b[0;34m,\u001b[0m \u001b[0msort\u001b[0m\u001b[0;34m=\u001b[0m\u001b[0msort\u001b[0m\u001b[0;34m\u001b[0m\u001b[0;34m\u001b[0m\u001b[0m\n\u001b[1;32m    519\u001b[0m         )\n",
            "\u001b[0;32m/usr/local/lib/python3.10/dist-packages/pandas/core/reshape/reshape.py\u001b[0m in \u001b[0;36m__init__\u001b[0;34m(self, index, level, constructor, sort)\u001b[0m\n\u001b[1;32m    152\u001b[0m             )\n\u001b[1;32m    153\u001b[0m \u001b[0;34m\u001b[0m\u001b[0m\n\u001b[0;32m--> 154\u001b[0;31m         \u001b[0mself\u001b[0m\u001b[0;34m.\u001b[0m\u001b[0m_make_selectors\u001b[0m\u001b[0;34m(\u001b[0m\u001b[0;34m)\u001b[0m\u001b[0;34m\u001b[0m\u001b[0;34m\u001b[0m\u001b[0m\n\u001b[0m\u001b[1;32m    155\u001b[0m \u001b[0;34m\u001b[0m\u001b[0m\n\u001b[1;32m    156\u001b[0m     \u001b[0;34m@\u001b[0m\u001b[0mcache_readonly\u001b[0m\u001b[0;34m\u001b[0m\u001b[0;34m\u001b[0m\u001b[0m\n",
            "\u001b[0;32m/usr/local/lib/python3.10/dist-packages/pandas/core/reshape/reshape.py\u001b[0m in \u001b[0;36m_make_selectors\u001b[0;34m(self)\u001b[0m\n\u001b[1;32m    208\u001b[0m \u001b[0;34m\u001b[0m\u001b[0m\n\u001b[1;32m    209\u001b[0m         \u001b[0;32mif\u001b[0m \u001b[0mmask\u001b[0m\u001b[0;34m.\u001b[0m\u001b[0msum\u001b[0m\u001b[0;34m(\u001b[0m\u001b[0;34m)\u001b[0m \u001b[0;34m<\u001b[0m \u001b[0mlen\u001b[0m\u001b[0;34m(\u001b[0m\u001b[0mself\u001b[0m\u001b[0;34m.\u001b[0m\u001b[0mindex\u001b[0m\u001b[0;34m)\u001b[0m\u001b[0;34m:\u001b[0m\u001b[0;34m\u001b[0m\u001b[0;34m\u001b[0m\u001b[0m\n\u001b[0;32m--> 210\u001b[0;31m             \u001b[0;32mraise\u001b[0m \u001b[0mValueError\u001b[0m\u001b[0;34m(\u001b[0m\u001b[0;34m\"Index contains duplicate entries, cannot reshape\"\u001b[0m\u001b[0;34m)\u001b[0m\u001b[0;34m\u001b[0m\u001b[0;34m\u001b[0m\u001b[0m\n\u001b[0m\u001b[1;32m    211\u001b[0m \u001b[0;34m\u001b[0m\u001b[0m\n\u001b[1;32m    212\u001b[0m         \u001b[0mself\u001b[0m\u001b[0;34m.\u001b[0m\u001b[0mgroup_index\u001b[0m \u001b[0;34m=\u001b[0m \u001b[0mcomp_index\u001b[0m\u001b[0;34m\u001b[0m\u001b[0;34m\u001b[0m\u001b[0m\n",
            "\u001b[0;31mValueError\u001b[0m: Index contains duplicate entries, cannot reshape"
          ]
        }
      ]
    },
    {
      "cell_type": "code",
      "source": [
        "# Carregar dados\n",
        "ratings_df = load_data_from_sheet()\n",
        "\n",
        "# Gerar e adicionar dados fictícios\n",
        "# [Código para gerar dados fictícios aqui]\n",
        "\n",
        "# Combinar os dados\n",
        "combined_ratings_df = pd.concat([ratings_df, ratings_df_ficticios], ignore_index=True)\n",
        "\n",
        "# Dividir os dados em folds\n",
        "kf = KFold(n_splits=5)\n",
        "for train_index, test_index in kf.split(combined_ratings_df):\n",
        "    train_data = combined_ratings_df.iloc[train_index]\n",
        "    test_data = combined_ratings_df.iloc[test_index]\n",
        "    # Treinar e avaliar o modelo"
      ],
      "metadata": {
        "colab": {
          "base_uri": "https://localhost:8080/",
          "height": 211
        },
        "id": "xsIfLc0pVRfv",
        "outputId": "191abb2c-62ee-4068-c9bf-0cae952a1589"
      },
      "execution_count": 75,
      "outputs": [
        {
          "output_type": "error",
          "ename": "NameError",
          "evalue": "name 'load_data_from_sheet' is not defined",
          "traceback": [
            "\u001b[0;31m---------------------------------------------------------------------------\u001b[0m",
            "\u001b[0;31mNameError\u001b[0m                                 Traceback (most recent call last)",
            "\u001b[0;32m<ipython-input-75-3bf607dc5b1b>\u001b[0m in \u001b[0;36m<cell line: 2>\u001b[0;34m()\u001b[0m\n\u001b[1;32m      1\u001b[0m \u001b[0;31m# Carregar dados\u001b[0m\u001b[0;34m\u001b[0m\u001b[0;34m\u001b[0m\u001b[0m\n\u001b[0;32m----> 2\u001b[0;31m \u001b[0mratings_df\u001b[0m \u001b[0;34m=\u001b[0m \u001b[0mload_data_from_sheet\u001b[0m\u001b[0;34m(\u001b[0m\u001b[0;34m)\u001b[0m\u001b[0;34m\u001b[0m\u001b[0;34m\u001b[0m\u001b[0m\n\u001b[0m\u001b[1;32m      3\u001b[0m \u001b[0;34m\u001b[0m\u001b[0m\n\u001b[1;32m      4\u001b[0m \u001b[0;31m# Gerar e adicionar dados fictícios\u001b[0m\u001b[0;34m\u001b[0m\u001b[0;34m\u001b[0m\u001b[0m\n\u001b[1;32m      5\u001b[0m \u001b[0;31m# [Código para gerar dados fictícios aqui]\u001b[0m\u001b[0;34m\u001b[0m\u001b[0;34m\u001b[0m\u001b[0m\n",
            "\u001b[0;31mNameError\u001b[0m: name 'load_data_from_sheet' is not defined"
          ]
        }
      ]
    },
    {
      "cell_type": "code",
      "source": [
        "# Loop de validação cruzada\n",
        "for train_index, test_index in kf.split(user_product_matrix_train):\n",
        "    train_data = user_product_matrix_train.iloc[train_index]\n",
        "    test_data = user_product_matrix_train.iloc[test_index]\n",
        "\n",
        "    predicted_ratings = []\n",
        "    actual_ratings = []\n",
        "\n",
        "    # Iterar sobre os índices e colunas (user_id e product_id)\n",
        "    for user_id in test_data.index:  # Itera sobre cada user_id\n",
        "        for product_id in test_data.columns:  # Itera sobre cada product_id\n",
        "\n",
        "            # Verificar se o usuário e o produto existem no conjunto de treino\n",
        "            if user_id in train_data.index and product_id in train_data.columns:\n",
        "                user_ratings = recommend_hybrid_train(user_id, n_recommendations=5)\n",
        "\n",
        "                # Prevendo a avaliação com base no score do produto recomendado\n",
        "                if not user_ratings.empty and product_id in user_ratings['product_id'].values:\n",
        "                    if 'rating_normalized' in user_ratings.columns:\n",
        "                        predicted_rating = user_ratings[user_ratings['product_id'] == product_id]['rating_normalized'].values[0]\n",
        "                    else:\n",
        "                        predicted_rating = 0  # Valor padrão caso a coluna não exista\n",
        "                else:\n",
        "                    predicted_rating = 0  # Se o produto não for recomendado, prever como 0\n",
        "\n",
        "                predicted_ratings.append(predicted_rating)\n",
        "                actual_ratings.append(test_data.loc[user_id, product_id])  # Avaliação real\n",
        "\n",
        "    # Adiciona uma verificação para evitar erro de lista vazia\n",
        "    if actual_ratings and predicted_ratings:\n",
        "        # Calcular o RMSE para o fold atual\n",
        "        fold_rmse = np.sqrt(mean_squared_error(actual_ratings, predicted_ratings))\n",
        "        rmse_scores.append(fold_rmse)\n",
        "    else:\n",
        "        print(\"Nenhum rating foi previsto ou encontrado para este fold.\")\n",
        "\n",
        "# Exibir o RMSE médio\n",
        "if rmse_scores:  # Verifica se há scores\n",
        "    mean_rmse = np.mean(rmse_scores)\n",
        "    print(f\"RMSE médio após validação cruzada: {mean_rmse:.4f}\")\n",
        "else:\n",
        "    print(\"Não foi possível calcular o RMSE médio.\")"
      ],
      "metadata": {
        "colab": {
          "base_uri": "https://localhost:8080/"
        },
        "id": "t51udu8NURSs",
        "outputId": "e5264e17-841d-4878-a14e-c24e97b9059a"
      },
      "execution_count": 73,
      "outputs": [
        {
          "output_type": "stream",
          "name": "stdout",
          "text": [
            "Nenhum rating foi previsto ou encontrado para este fold.\n",
            "Nenhum rating foi previsto ou encontrado para este fold.\n",
            "Nenhum rating foi previsto ou encontrado para este fold.\n",
            "Nenhum rating foi previsto ou encontrado para este fold.\n",
            "Nenhum rating foi previsto ou encontrado para este fold.\n",
            "Não foi possível calcular o RMSE médio.\n"
          ]
        }
      ]
    },
    {
      "cell_type": "code",
      "source": [
        "from sklearn.model_selection import KFold"
      ],
      "metadata": {
        "id": "HwBaLZ_FSNTi"
      },
      "execution_count": 50,
      "outputs": []
    },
    {
      "cell_type": "code",
      "source": [
        "print(user_product_matrix_train.index)\n",
        "print(user_product_matrix_train.columns)"
      ],
      "metadata": {
        "colab": {
          "base_uri": "https://localhost:8080/"
        },
        "id": "KWKRueJLSvXA",
        "outputId": "fba39ab4-aa46-4fa9-c06a-d95fdf265f7b"
      },
      "execution_count": 52,
      "outputs": [
        {
          "output_type": "stream",
          "name": "stdout",
          "text": [
            "Index([ 2,  3,  7,  9, 10, 12, 14, 16, 17, 19, 20, 22, 23, 25, 26, 27, 30, 31,\n",
            "       32, 36, 37, 40, 41, 43, 44, 45, 48, 51, 54, 55, 56, 57, 59, 60, 61, 66,\n",
            "       67, 68, 69, 70, 71, 72, 75, 76, 78, 79, 81, 82, 83, 84, 85, 86, 87, 89,\n",
            "       90, 99],\n",
            "      dtype='int64', name='user_id')\n",
            "Index([ 1,  2,  3,  5,  6,  7,  8,  9, 11, 12, 13, 14, 15, 17, 18, 19, 20, 21,\n",
            "       22, 24, 25, 26, 28, 29, 30, 31, 33, 34, 35, 36, 37, 38, 39, 40, 41, 42,\n",
            "       43, 44, 45, 46, 47, 48, 49],\n",
            "      dtype='int64', name='product_id')\n"
          ]
        }
      ]
    },
    {
      "cell_type": "code",
      "source": [
        "print(test_data.head())\n",
        "print(test_data.columns)"
      ],
      "metadata": {
        "colab": {
          "base_uri": "https://localhost:8080/"
        },
        "id": "Wmlz8Kz_TlAT",
        "outputId": "3ffe35e2-f132-4c98-fb43-953519658e56"
      },
      "execution_count": 58,
      "outputs": [
        {
          "output_type": "stream",
          "name": "stdout",
          "text": [
            "product_id   1    2    3    5    6    7    8    9    11   12  ...   40   41  \\\n",
            "user_id                                                       ...             \n",
            "2           0.0  0.0  0.0  0.0  0.0  0.0  0.0  0.0  0.0  0.0  ...  0.0  0.0   \n",
            "9           0.0  0.0  0.0  0.0  0.0  0.0  0.0  0.0  0.0  0.0  ...  0.0  0.0   \n",
            "12          0.0  0.0  0.0  0.0  0.0  0.0  0.0  0.0  0.0  0.0  ...  0.0  0.0   \n",
            "23          0.0  0.0  0.0  0.0  0.0  0.0  0.0  0.0  0.0  0.0  ...  0.0  0.0   \n",
            "25          0.0  0.0  0.0  0.0  0.0  0.0  0.0  0.0  0.0  0.0  ...  0.0  0.0   \n",
            "\n",
            "product_id   42   43   44    45    46   47   48    49  \n",
            "user_id                                                \n",
            "2           0.0  0.0  0.0  0.00  0.25  0.0  0.0  0.00  \n",
            "9           0.0  0.0  0.0  0.00  0.00  0.0  0.0  0.25  \n",
            "12          0.0  0.0  0.0  0.00  0.00  0.0  0.0  0.00  \n",
            "23          0.0  0.0  0.0  0.75  0.00  0.0  0.0  0.00  \n",
            "25          0.0  0.0  0.0  0.00  0.75  0.0  0.0  0.00  \n",
            "\n",
            "[5 rows x 43 columns]\n",
            "Index([ 1,  2,  3,  5,  6,  7,  8,  9, 11, 12, 13, 14, 15, 17, 18, 19, 20, 21,\n",
            "       22, 24, 25, 26, 28, 29, 30, 31, 33, 34, 35, 36, 37, 38, 39, 40, 41, 42,\n",
            "       43, 44, 45, 46, 47, 48, 49],\n",
            "      dtype='int64', name='product_id')\n"
          ]
        }
      ]
    },
    {
      "cell_type": "code",
      "source": [
        "print(user_product_matrix_train.index.names)"
      ],
      "metadata": {
        "colab": {
          "base_uri": "https://localhost:8080/"
        },
        "id": "FI98UakQSxm0",
        "outputId": "da972edf-32f5-4483-d108-8f4aaf00747f"
      },
      "execution_count": 55,
      "outputs": [
        {
          "output_type": "stream",
          "name": "stdout",
          "text": [
            "['user_id']\n"
          ]
        }
      ]
    },
    {
      "cell_type": "code",
      "source": [],
      "metadata": {
        "colab": {
          "base_uri": "https://localhost:8080/"
        },
        "id": "HaMtWlb1VppL",
        "outputId": "e0a96ae8-7f5f-4775-bc3d-444baf64c44a"
      },
      "execution_count": 76,
      "outputs": [
        {
          "output_type": "stream",
          "name": "stdout",
          "text": [
            "   user_id  product_id  rating\n",
            "0        4           6       4\n",
            "1       53          29       1\n",
            "2       28          15       1\n",
            "3       58          47       4\n",
            "4       64          43       4\n"
          ]
        }
      ]
    },
    {
      "cell_type": "code",
      "source": [],
      "metadata": {
        "colab": {
          "base_uri": "https://localhost:8080/"
        },
        "id": "RB_dvOPAVu93",
        "outputId": "c8dda2a9-7f99-43d2-dd5b-c2ad3b29293b"
      },
      "execution_count": 77,
      "outputs": [
        {
          "output_type": "stream",
          "name": "stdout",
          "text": [
            "   user_id  product_id interaction_type     interaction_time  rating  \\\n",
            "0       27          28         purchase  2024-01-07 22:04:29     5.0   \n",
            "1       57          29         purchase  2024-08-07 23:48:16     2.0   \n",
            "2       66          31         purchase  2024-01-04 04:14:36     2.0   \n",
            "3       66          43         purchase  2024-07-13 12:35:17     5.0   \n",
            "4       59          27         purchase  2024-08-21 16:10:02     5.0   \n",
            "\n",
            "   rating_normalized  \n",
            "0               1.00  \n",
            "1               0.25  \n",
            "2               0.25  \n",
            "3               1.00  \n",
            "4               1.00  \n"
          ]
        }
      ]
    },
    {
      "cell_type": "code",
      "source": [],
      "metadata": {
        "colab": {
          "base_uri": "https://localhost:8080/"
        },
        "id": "yvatOfedVxRP",
        "outputId": "ba8a6bf6-fd91-403f-e2eb-6fab323c1d68"
      },
      "execution_count": 78,
      "outputs": [
        {
          "output_type": "stream",
          "name": "stdout",
          "text": [
            "Tamanho do conjunto de treino: 884\n",
            "Tamanho do conjunto de teste: 221\n"
          ]
        }
      ]
    },
    {
      "cell_type": "code",
      "source": [
        "# Loop de validação cruzada\n",
        "for train_index, test_index in kf.split(user_product_matrix_train):\n",
        "    train_data = user_product_matrix_train.iloc[train_index]\n",
        "    test_data = user_product_matrix_train.iloc[test_index]\n",
        "\n",
        "    predicted_ratings = []\n",
        "    actual_ratings = []\n",
        "\n",
        "    # Iterar sobre os índices e colunas (user_id e product_id)\n",
        "    for user_id in test_data.index:  # Itera sobre cada user_id\n",
        "        for product_id in test_data.columns:  # Itera sobre cada product_id\n",
        "\n",
        "            # Verificar se o usuário e o produto existem no conjunto de treino\n",
        "            if user_id in train_data.index and product_id in train_data.columns:\n",
        "                user_ratings = recommend_hybrid_train(user_id, n_recommendations=5)\n",
        "\n",
        "                # Prevendo a avaliação com base no score do produto recomendado\n",
        "                if not user_ratings.empty and product_id in user_ratings['product_id'].values:\n",
        "                    if 'rating_normalized' in user_ratings.columns:\n",
        "                        predicted_rating = user_ratings[user_ratings['product_id'] == product_id]['rating_normalized'].values[0]\n",
        "                    else:\n",
        "                        predicted_rating = 0  # Valor padrão caso a coluna não exista\n",
        "                else:\n",
        "                    predicted_rating = 0  # Se o produto não for recomendado, prever como 0\n",
        "\n",
        "                predicted_ratings.append(predicted_rating)\n",
        "                actual_ratings.append(test_data.loc[user_id, product_id])  # Avaliação real\n",
        "\n",
        "    # Calcular o RMSE para o fold atual\n",
        "    fold_rmse = np.sqrt(mean_squared_error(actual_ratings, predicted_ratings))\n",
        "    rmse_scores.append(fold_rmse)\n",
        "\n",
        "# Exibir o RMSE médio\n",
        "mean_rmse = np.mean(rmse_scores)\n",
        "print(f\"RMSE médio após validação cruzada: {mean_rmse:.4f}\")"
      ],
      "metadata": {
        "colab": {
          "base_uri": "https://localhost:8080/",
          "height": 374
        },
        "id": "40_q3ddCSPXG",
        "outputId": "8c390169-df16-4f38-cec7-e000243d4ff3"
      },
      "execution_count": 79,
      "outputs": [
        {
          "output_type": "error",
          "ename": "ValueError",
          "evalue": "Found array with 0 sample(s) (shape=(0,)) while a minimum of 1 is required.",
          "traceback": [
            "\u001b[0;31m---------------------------------------------------------------------------\u001b[0m",
            "\u001b[0;31mValueError\u001b[0m                                Traceback (most recent call last)",
            "\u001b[0;32m<ipython-input-79-584e7ffb79b3>\u001b[0m in \u001b[0;36m<cell line: 2>\u001b[0;34m()\u001b[0m\n\u001b[1;32m     28\u001b[0m \u001b[0;34m\u001b[0m\u001b[0m\n\u001b[1;32m     29\u001b[0m     \u001b[0;31m# Calcular o RMSE para o fold atual\u001b[0m\u001b[0;34m\u001b[0m\u001b[0;34m\u001b[0m\u001b[0m\n\u001b[0;32m---> 30\u001b[0;31m     \u001b[0mfold_rmse\u001b[0m \u001b[0;34m=\u001b[0m \u001b[0mnp\u001b[0m\u001b[0;34m.\u001b[0m\u001b[0msqrt\u001b[0m\u001b[0;34m(\u001b[0m\u001b[0mmean_squared_error\u001b[0m\u001b[0;34m(\u001b[0m\u001b[0mactual_ratings\u001b[0m\u001b[0;34m,\u001b[0m \u001b[0mpredicted_ratings\u001b[0m\u001b[0;34m)\u001b[0m\u001b[0;34m)\u001b[0m\u001b[0;34m\u001b[0m\u001b[0;34m\u001b[0m\u001b[0m\n\u001b[0m\u001b[1;32m     31\u001b[0m     \u001b[0mrmse_scores\u001b[0m\u001b[0;34m.\u001b[0m\u001b[0mappend\u001b[0m\u001b[0;34m(\u001b[0m\u001b[0mfold_rmse\u001b[0m\u001b[0;34m)\u001b[0m\u001b[0;34m\u001b[0m\u001b[0;34m\u001b[0m\u001b[0m\n\u001b[1;32m     32\u001b[0m \u001b[0;34m\u001b[0m\u001b[0m\n",
            "\u001b[0;32m/usr/local/lib/python3.10/dist-packages/sklearn/utils/_param_validation.py\u001b[0m in \u001b[0;36mwrapper\u001b[0;34m(*args, **kwargs)\u001b[0m\n\u001b[1;32m    211\u001b[0m                     )\n\u001b[1;32m    212\u001b[0m                 ):\n\u001b[0;32m--> 213\u001b[0;31m                     \u001b[0;32mreturn\u001b[0m \u001b[0mfunc\u001b[0m\u001b[0;34m(\u001b[0m\u001b[0;34m*\u001b[0m\u001b[0margs\u001b[0m\u001b[0;34m,\u001b[0m \u001b[0;34m**\u001b[0m\u001b[0mkwargs\u001b[0m\u001b[0;34m)\u001b[0m\u001b[0;34m\u001b[0m\u001b[0;34m\u001b[0m\u001b[0m\n\u001b[0m\u001b[1;32m    214\u001b[0m             \u001b[0;32mexcept\u001b[0m \u001b[0mInvalidParameterError\u001b[0m \u001b[0;32mas\u001b[0m \u001b[0me\u001b[0m\u001b[0;34m:\u001b[0m\u001b[0;34m\u001b[0m\u001b[0;34m\u001b[0m\u001b[0m\n\u001b[1;32m    215\u001b[0m                 \u001b[0;31m# When the function is just a wrapper around an estimator, we allow\u001b[0m\u001b[0;34m\u001b[0m\u001b[0;34m\u001b[0m\u001b[0m\n",
            "\u001b[0;32m/usr/local/lib/python3.10/dist-packages/sklearn/metrics/_regression.py\u001b[0m in \u001b[0;36mmean_squared_error\u001b[0;34m(y_true, y_pred, sample_weight, multioutput, squared)\u001b[0m\n\u001b[1;32m    504\u001b[0m             )\n\u001b[1;32m    505\u001b[0m \u001b[0;34m\u001b[0m\u001b[0m\n\u001b[0;32m--> 506\u001b[0;31m     y_type, y_true, y_pred, multioutput = _check_reg_targets(\n\u001b[0m\u001b[1;32m    507\u001b[0m         \u001b[0my_true\u001b[0m\u001b[0;34m,\u001b[0m \u001b[0my_pred\u001b[0m\u001b[0;34m,\u001b[0m \u001b[0mmultioutput\u001b[0m\u001b[0;34m\u001b[0m\u001b[0;34m\u001b[0m\u001b[0m\n\u001b[1;32m    508\u001b[0m     )\n",
            "\u001b[0;32m/usr/local/lib/python3.10/dist-packages/sklearn/metrics/_regression.py\u001b[0m in \u001b[0;36m_check_reg_targets\u001b[0;34m(y_true, y_pred, multioutput, dtype, xp)\u001b[0m\n\u001b[1;32m    110\u001b[0m \u001b[0;34m\u001b[0m\u001b[0m\n\u001b[1;32m    111\u001b[0m     \u001b[0mcheck_consistent_length\u001b[0m\u001b[0;34m(\u001b[0m\u001b[0my_true\u001b[0m\u001b[0;34m,\u001b[0m \u001b[0my_pred\u001b[0m\u001b[0;34m)\u001b[0m\u001b[0;34m\u001b[0m\u001b[0;34m\u001b[0m\u001b[0m\n\u001b[0;32m--> 112\u001b[0;31m     \u001b[0my_true\u001b[0m \u001b[0;34m=\u001b[0m \u001b[0mcheck_array\u001b[0m\u001b[0;34m(\u001b[0m\u001b[0my_true\u001b[0m\u001b[0;34m,\u001b[0m \u001b[0mensure_2d\u001b[0m\u001b[0;34m=\u001b[0m\u001b[0;32mFalse\u001b[0m\u001b[0;34m,\u001b[0m \u001b[0mdtype\u001b[0m\u001b[0;34m=\u001b[0m\u001b[0mdtype\u001b[0m\u001b[0;34m)\u001b[0m\u001b[0;34m\u001b[0m\u001b[0;34m\u001b[0m\u001b[0m\n\u001b[0m\u001b[1;32m    113\u001b[0m     \u001b[0my_pred\u001b[0m \u001b[0;34m=\u001b[0m \u001b[0mcheck_array\u001b[0m\u001b[0;34m(\u001b[0m\u001b[0my_pred\u001b[0m\u001b[0;34m,\u001b[0m \u001b[0mensure_2d\u001b[0m\u001b[0;34m=\u001b[0m\u001b[0;32mFalse\u001b[0m\u001b[0;34m,\u001b[0m \u001b[0mdtype\u001b[0m\u001b[0;34m=\u001b[0m\u001b[0mdtype\u001b[0m\u001b[0;34m)\u001b[0m\u001b[0;34m\u001b[0m\u001b[0;34m\u001b[0m\u001b[0m\n\u001b[1;32m    114\u001b[0m \u001b[0;34m\u001b[0m\u001b[0m\n",
            "\u001b[0;32m/usr/local/lib/python3.10/dist-packages/sklearn/utils/validation.py\u001b[0m in \u001b[0;36mcheck_array\u001b[0;34m(array, accept_sparse, accept_large_sparse, dtype, order, copy, force_writeable, force_all_finite, ensure_2d, allow_nd, ensure_min_samples, ensure_min_features, estimator, input_name)\u001b[0m\n\u001b[1;32m   1085\u001b[0m         \u001b[0mn_samples\u001b[0m \u001b[0;34m=\u001b[0m \u001b[0m_num_samples\u001b[0m\u001b[0;34m(\u001b[0m\u001b[0marray\u001b[0m\u001b[0;34m)\u001b[0m\u001b[0;34m\u001b[0m\u001b[0;34m\u001b[0m\u001b[0m\n\u001b[1;32m   1086\u001b[0m         \u001b[0;32mif\u001b[0m \u001b[0mn_samples\u001b[0m \u001b[0;34m<\u001b[0m \u001b[0mensure_min_samples\u001b[0m\u001b[0;34m:\u001b[0m\u001b[0;34m\u001b[0m\u001b[0;34m\u001b[0m\u001b[0m\n\u001b[0;32m-> 1087\u001b[0;31m             raise ValueError(\n\u001b[0m\u001b[1;32m   1088\u001b[0m                 \u001b[0;34m\"Found array with %d sample(s) (shape=%s) while a\"\u001b[0m\u001b[0;34m\u001b[0m\u001b[0;34m\u001b[0m\u001b[0m\n\u001b[1;32m   1089\u001b[0m                 \u001b[0;34m\" minimum of %d is required%s.\"\u001b[0m\u001b[0;34m\u001b[0m\u001b[0;34m\u001b[0m\u001b[0m\n",
            "\u001b[0;31mValueError\u001b[0m: Found array with 0 sample(s) (shape=(0,)) while a minimum of 1 is required."
          ]
        }
      ]
    },
    {
      "cell_type": "markdown",
      "source": [
        "APRIMORANDO O MODELO (Testando diferentes pesos)"
      ],
      "metadata": {
        "id": "CIKEBH-Z8ovj"
      }
    },
    {
      "cell_type": "code",
      "source": [
        "# Testar diferentes combinações de pesos e avaliar o RMSE\n",
        "for user_weight, product_weight in [(0.7, 0.3), (0.5, 0.5), (0.3, 0.7)]:\n",
        "    print(f\"Testando com user_weight={user_weight} e product_weight={product_weight}\")\n",
        "\n",
        "    # Recalcular recomendações e avaliar\n",
        "    predicted_ratings = []\n",
        "    actual_ratings = []\n",
        "\n",
        "    for _, row in test_data.iterrows():\n",
        "        user_id = row['user_id']\n",
        "        product_id = row['product_id']\n",
        "\n",
        "        # Verificar se o usuário e o produto existem no conjunto de treino\n",
        "        if user_id in user_product_matrix_train.index and product_id in user_product_matrix_train.columns:\n",
        "            user_ratings = recommend_hybrid_train(user_id, n_recommendations=5, user_weight=user_weight, product_weight=product_weight)\n",
        "\n",
        "            # Prevendo a avaliação com base no score do produto recomendado\n",
        "            if not user_ratings.empty and product_id in user_ratings['product_id'].values:\n",
        "                predicted_rating = user_ratings[user_ratings['product_id'] == product_id]['rating_normalized'].values[0]\n",
        "            else:\n",
        "                predicted_rating = 0  # Se o produto não for recomendado, prever como 0\n",
        "\n",
        "            predicted_ratings.append(predicted_rating)\n",
        "            actual_ratings.append(row['rating_normalized'])\n",
        "\n",
        "    # Calcular o RMSE para medir o desempenho do modelo\n",
        "    rmse = np.sqrt(mean_squared_error(actual_ratings, predicted_ratings))\n",
        "    print(f\"RMSE com user_weight={user_weight} e product_weight={product_weight}: {rmse:.4f}\")"
      ],
      "metadata": {
        "colab": {
          "base_uri": "https://localhost:8080/",
          "height": 565
        },
        "id": "lrhwHu-d8mkB",
        "outputId": "4437f8f5-6b89-44a2-bcc0-d5293f667057"
      },
      "execution_count": 49,
      "outputs": [
        {
          "output_type": "stream",
          "name": "stdout",
          "text": [
            "Testando com user_weight=0.7 e product_weight=0.3\n"
          ]
        },
        {
          "output_type": "error",
          "ename": "KeyError",
          "evalue": "'rating_normalized'",
          "traceback": [
            "\u001b[0;31m---------------------------------------------------------------------------\u001b[0m",
            "\u001b[0;31mKeyError\u001b[0m                                  Traceback (most recent call last)",
            "\u001b[0;32m/usr/local/lib/python3.10/dist-packages/pandas/core/indexes/base.py\u001b[0m in \u001b[0;36mget_loc\u001b[0;34m(self, key)\u001b[0m\n\u001b[1;32m   3804\u001b[0m         \u001b[0;32mtry\u001b[0m\u001b[0;34m:\u001b[0m\u001b[0;34m\u001b[0m\u001b[0;34m\u001b[0m\u001b[0m\n\u001b[0;32m-> 3805\u001b[0;31m             \u001b[0;32mreturn\u001b[0m \u001b[0mself\u001b[0m\u001b[0;34m.\u001b[0m\u001b[0m_engine\u001b[0m\u001b[0;34m.\u001b[0m\u001b[0mget_loc\u001b[0m\u001b[0;34m(\u001b[0m\u001b[0mcasted_key\u001b[0m\u001b[0;34m)\u001b[0m\u001b[0;34m\u001b[0m\u001b[0;34m\u001b[0m\u001b[0m\n\u001b[0m\u001b[1;32m   3806\u001b[0m         \u001b[0;32mexcept\u001b[0m \u001b[0mKeyError\u001b[0m \u001b[0;32mas\u001b[0m \u001b[0merr\u001b[0m\u001b[0;34m:\u001b[0m\u001b[0;34m\u001b[0m\u001b[0;34m\u001b[0m\u001b[0m\n",
            "\u001b[0;32mindex.pyx\u001b[0m in \u001b[0;36mpandas._libs.index.IndexEngine.get_loc\u001b[0;34m()\u001b[0m\n",
            "\u001b[0;32mindex.pyx\u001b[0m in \u001b[0;36mpandas._libs.index.IndexEngine.get_loc\u001b[0;34m()\u001b[0m\n",
            "\u001b[0;32mpandas/_libs/hashtable_class_helper.pxi\u001b[0m in \u001b[0;36mpandas._libs.hashtable.PyObjectHashTable.get_item\u001b[0;34m()\u001b[0m\n",
            "\u001b[0;32mpandas/_libs/hashtable_class_helper.pxi\u001b[0m in \u001b[0;36mpandas._libs.hashtable.PyObjectHashTable.get_item\u001b[0;34m()\u001b[0m\n",
            "\u001b[0;31mKeyError\u001b[0m: 'rating_normalized'",
            "\nThe above exception was the direct cause of the following exception:\n",
            "\u001b[0;31mKeyError\u001b[0m                                  Traceback (most recent call last)",
            "\u001b[0;32m<ipython-input-49-b765d1a54431>\u001b[0m in \u001b[0;36m<cell line: 2>\u001b[0;34m()\u001b[0m\n\u001b[1;32m     17\u001b[0m             \u001b[0;31m# Prevendo a avaliação com base no score do produto recomendado\u001b[0m\u001b[0;34m\u001b[0m\u001b[0;34m\u001b[0m\u001b[0m\n\u001b[1;32m     18\u001b[0m             \u001b[0;32mif\u001b[0m \u001b[0;32mnot\u001b[0m \u001b[0muser_ratings\u001b[0m\u001b[0;34m.\u001b[0m\u001b[0mempty\u001b[0m \u001b[0;32mand\u001b[0m \u001b[0mproduct_id\u001b[0m \u001b[0;32min\u001b[0m \u001b[0muser_ratings\u001b[0m\u001b[0;34m[\u001b[0m\u001b[0;34m'product_id'\u001b[0m\u001b[0;34m]\u001b[0m\u001b[0;34m.\u001b[0m\u001b[0mvalues\u001b[0m\u001b[0;34m:\u001b[0m\u001b[0;34m\u001b[0m\u001b[0;34m\u001b[0m\u001b[0m\n\u001b[0;32m---> 19\u001b[0;31m                 \u001b[0mpredicted_rating\u001b[0m \u001b[0;34m=\u001b[0m \u001b[0muser_ratings\u001b[0m\u001b[0;34m[\u001b[0m\u001b[0muser_ratings\u001b[0m\u001b[0;34m[\u001b[0m\u001b[0;34m'product_id'\u001b[0m\u001b[0;34m]\u001b[0m \u001b[0;34m==\u001b[0m \u001b[0mproduct_id\u001b[0m\u001b[0;34m]\u001b[0m\u001b[0;34m[\u001b[0m\u001b[0;34m'rating_normalized'\u001b[0m\u001b[0;34m]\u001b[0m\u001b[0;34m.\u001b[0m\u001b[0mvalues\u001b[0m\u001b[0;34m[\u001b[0m\u001b[0;36m0\u001b[0m\u001b[0;34m]\u001b[0m\u001b[0;34m\u001b[0m\u001b[0;34m\u001b[0m\u001b[0m\n\u001b[0m\u001b[1;32m     20\u001b[0m             \u001b[0;32melse\u001b[0m\u001b[0;34m:\u001b[0m\u001b[0;34m\u001b[0m\u001b[0;34m\u001b[0m\u001b[0m\n\u001b[1;32m     21\u001b[0m                 \u001b[0mpredicted_rating\u001b[0m \u001b[0;34m=\u001b[0m \u001b[0;36m0\u001b[0m  \u001b[0;31m# Se o produto não for recomendado, prever como 0\u001b[0m\u001b[0;34m\u001b[0m\u001b[0;34m\u001b[0m\u001b[0m\n",
            "\u001b[0;32m/usr/local/lib/python3.10/dist-packages/pandas/core/frame.py\u001b[0m in \u001b[0;36m__getitem__\u001b[0;34m(self, key)\u001b[0m\n\u001b[1;32m   4100\u001b[0m             \u001b[0;32mif\u001b[0m \u001b[0mself\u001b[0m\u001b[0;34m.\u001b[0m\u001b[0mcolumns\u001b[0m\u001b[0;34m.\u001b[0m\u001b[0mnlevels\u001b[0m \u001b[0;34m>\u001b[0m \u001b[0;36m1\u001b[0m\u001b[0;34m:\u001b[0m\u001b[0;34m\u001b[0m\u001b[0;34m\u001b[0m\u001b[0m\n\u001b[1;32m   4101\u001b[0m                 \u001b[0;32mreturn\u001b[0m \u001b[0mself\u001b[0m\u001b[0;34m.\u001b[0m\u001b[0m_getitem_multilevel\u001b[0m\u001b[0;34m(\u001b[0m\u001b[0mkey\u001b[0m\u001b[0;34m)\u001b[0m\u001b[0;34m\u001b[0m\u001b[0;34m\u001b[0m\u001b[0m\n\u001b[0;32m-> 4102\u001b[0;31m             \u001b[0mindexer\u001b[0m \u001b[0;34m=\u001b[0m \u001b[0mself\u001b[0m\u001b[0;34m.\u001b[0m\u001b[0mcolumns\u001b[0m\u001b[0;34m.\u001b[0m\u001b[0mget_loc\u001b[0m\u001b[0;34m(\u001b[0m\u001b[0mkey\u001b[0m\u001b[0;34m)\u001b[0m\u001b[0;34m\u001b[0m\u001b[0;34m\u001b[0m\u001b[0m\n\u001b[0m\u001b[1;32m   4103\u001b[0m             \u001b[0;32mif\u001b[0m \u001b[0mis_integer\u001b[0m\u001b[0;34m(\u001b[0m\u001b[0mindexer\u001b[0m\u001b[0;34m)\u001b[0m\u001b[0;34m:\u001b[0m\u001b[0;34m\u001b[0m\u001b[0;34m\u001b[0m\u001b[0m\n\u001b[1;32m   4104\u001b[0m                 \u001b[0mindexer\u001b[0m \u001b[0;34m=\u001b[0m \u001b[0;34m[\u001b[0m\u001b[0mindexer\u001b[0m\u001b[0;34m]\u001b[0m\u001b[0;34m\u001b[0m\u001b[0;34m\u001b[0m\u001b[0m\n",
            "\u001b[0;32m/usr/local/lib/python3.10/dist-packages/pandas/core/indexes/base.py\u001b[0m in \u001b[0;36mget_loc\u001b[0;34m(self, key)\u001b[0m\n\u001b[1;32m   3810\u001b[0m             ):\n\u001b[1;32m   3811\u001b[0m                 \u001b[0;32mraise\u001b[0m \u001b[0mInvalidIndexError\u001b[0m\u001b[0;34m(\u001b[0m\u001b[0mkey\u001b[0m\u001b[0;34m)\u001b[0m\u001b[0;34m\u001b[0m\u001b[0;34m\u001b[0m\u001b[0m\n\u001b[0;32m-> 3812\u001b[0;31m             \u001b[0;32mraise\u001b[0m \u001b[0mKeyError\u001b[0m\u001b[0;34m(\u001b[0m\u001b[0mkey\u001b[0m\u001b[0;34m)\u001b[0m \u001b[0;32mfrom\u001b[0m \u001b[0merr\u001b[0m\u001b[0;34m\u001b[0m\u001b[0;34m\u001b[0m\u001b[0m\n\u001b[0m\u001b[1;32m   3813\u001b[0m         \u001b[0;32mexcept\u001b[0m \u001b[0mTypeError\u001b[0m\u001b[0;34m:\u001b[0m\u001b[0;34m\u001b[0m\u001b[0;34m\u001b[0m\u001b[0m\n\u001b[1;32m   3814\u001b[0m             \u001b[0;31m# If we have a listlike key, _check_indexing_error will raise\u001b[0m\u001b[0;34m\u001b[0m\u001b[0;34m\u001b[0m\u001b[0m\n",
            "\u001b[0;31mKeyError\u001b[0m: 'rating_normalized'"
          ]
        }
      ]
    },
    {
      "cell_type": "markdown",
      "source": [
        "\n",
        "* Ao testar diferentes combinações de pesos entre similaridade de usuários e produtos (0.7/0.3, 0.5/0.5, 0.3/0.7), observamos que o RMSE permanece constant, o que indica que o balanceamento entre as duas fontes de informação não está afetando significativamente o desempenho do modelo.\n",
        "\n",
        " Consideração:\n",
        "A ausência de variação no RMSE pode indicar que o modelo está fortemente influenciado por uma das fontes de similaridade (usuário ou produto).\n",
        "Nesse caso, seria interessante explorar outros fatores que possam influenciar as recomendações, como dados contextuais (localização, hora do dia)."
      ],
      "metadata": {
        "id": "i_zvdKEnFbJ5"
      }
    },
    {
      "cell_type": "markdown",
      "source": [
        "**Explorando o número de componentes SVD**"
      ],
      "metadata": {
        "id": "G0-8Tovk9tfQ"
      }
    },
    {
      "cell_type": "code",
      "source": [
        "from sklearn.decomposition import TruncatedSVD\n",
        "\n",
        "# Escolher um número de componentes menor ou igual a 43\n",
        "svd = TruncatedSVD(n_components=20, random_state=42)  # Escolha um número menor que 43\n",
        "user_factors = svd.fit_transform(user_product_matrix_train)\n",
        "product_factors = svd.components_.T"
      ],
      "metadata": {
        "id": "gkcq4ObX9s1t"
      },
      "execution_count": 85,
      "outputs": []
    },
    {
      "cell_type": "code",
      "source": [
        "for n_components in [5, 10, 15, 20]:\n",
        "    print(f\"Testando com n_components={n_components}\")\n",
        "\n",
        "    # Recalcular SVD com diferentes números de componentes\n",
        "    svd = TruncatedSVD(n_components=n_components, random_state=42)\n",
        "    user_factors = svd.fit_transform(user_product_matrix_train)\n",
        "    product_factors = svd.components_.T\n"
      ],
      "metadata": {
        "colab": {
          "base_uri": "https://localhost:8080/"
        },
        "id": "TBlB8UEX9-od",
        "outputId": "35677203-33aa-417b-e624-875e00fa308d"
      },
      "execution_count": 86,
      "outputs": [
        {
          "output_type": "stream",
          "name": "stdout",
          "text": [
            "Testando com n_components=5\n",
            "Testando com n_components=10\n",
            "Testando com n_components=15\n",
            "Testando com n_components=20\n"
          ]
        }
      ]
    },
    {
      "cell_type": "markdown",
      "source": [
        "Testamos diferentes números de componentes SVD (5, 10, 15, 20) para verificar se o desempenho do modelo melhora.\n",
        "O RMSE permaneceu estável, sugerindo que o número de componentes não está afetando drasticamente o desempenho do modelo.\n",
        "\n",
        "O número ideal de componentes pode depender da complexidade dos dados. Em datasets maiores ou com mais variabilidade, um número maior de componentes pode capturar mais padrões latentes.No entanto, para esse dataset, acredito que um número menor de componentes já é suficiente."
      ],
      "metadata": {
        "id": "C6hTxyVXFvR4"
      }
    },
    {
      "cell_type": "markdown",
      "source": [
        "**Avaliação o RMSE**"
      ],
      "metadata": {
        "id": "jFydcx2g-KLO"
      }
    },
    {
      "cell_type": "code",
      "source": [
        "for n_components in [10, 15, 20]:\n",
        "    print(f\"Testando com n_components={n_components}\")\n",
        "\n",
        "    # Recalcular SVD com diferentes números de componentes\n",
        "    svd = TruncatedSVD(n_components=n_components, random_state=42)\n",
        "    user_factors = svd.fit_transform(user_product_matrix_train)\n",
        "    product_factors = svd.components_.T\n",
        "\n",
        "    # lógica de recomendação e avaliação\n",
        "    predicted_ratings = []\n",
        "    actual_ratings = []\n",
        "\n",
        "    for _, row in test_data.iterrows():\n",
        "        user_id = row['user_id']\n",
        "        product_id = row['product_id']\n",
        "\n",
        "        # Verificar se o usuário e o produto existem no conjunto de treino\n",
        "        if user_id in user_product_matrix_train.index and product_id in user_product_matrix_train.columns:\n",
        "            user_ratings = recommend_hybrid_train(user_id, n_recommendations=5)\n",
        "\n",
        "            # Prevendo a avaliação com base no score do produto recomendado\n",
        "            if not user_ratings.empty and product_id in user_ratings['product_id'].values:\n",
        "                predicted_rating = user_ratings[user_ratings['product_id'] == product_id]['rating_normalized'].values[0]\n",
        "            else:\n",
        "                predicted_rating = 0  # Se o produto não for recomendado, prever como 0\n",
        "\n",
        "            predicted_ratings.append(predicted_rating)\n",
        "            actual_ratings.append(row['rating_normalized'])\n",
        "\n",
        "    # Calcular o RMSE para medir o desempenho do modelo\n",
        "    rmse = np.sqrt(mean_squared_error(actual_ratings, predicted_ratings))\n",
        "    print(f\"RMSE com n_components={n_components}: {rmse:.4f}\")"
      ],
      "metadata": {
        "colab": {
          "base_uri": "https://localhost:8080/"
        },
        "id": "CSH78YkC-JVd",
        "outputId": "405a2adb-861b-41d6-815d-9b3865e04dd5"
      },
      "execution_count": 87,
      "outputs": [
        {
          "output_type": "stream",
          "name": "stdout",
          "text": [
            "Testando com n_components=10\n",
            "RMSE com n_components=10: 0.6072\n",
            "Testando com n_components=15\n",
            "RMSE com n_components=15: 0.6072\n",
            "Testando com n_components=20\n",
            "RMSE com n_components=20: 0.6072\n"
          ]
        }
      ]
    },
    {
      "cell_type": "code",
      "source": [
        "# Função de recomendação ajustada para retornar detalhes do produto\n",
        "def recommend_hybrid_train(user_id, n_recommendations=5, user_weight=0.7, product_weight=0.3):\n",
        "    # Verificar se o usuário existe no mapeamento\n",
        "    if user_id not in user_id_to_index:\n",
        "        return pd.DataFrame()  # Retornar vazio se o usuário não existir no treino\n",
        "\n",
        "    # Obter o índice do usuário na matriz de similaridade\n",
        "    user_index = user_id_to_index[user_id]\n",
        "\n",
        "    # Calcular a similaridade do usuário\n",
        "    similar_users = user_similarity_train[user_index]  # Similaridade do usuário com outros usuários\n",
        "    user_ratings = user_product_matrix_train.loc[user_id]  # Avaliações do usuário\n",
        "\n",
        "    # Calcular a similaridade de produtos\n",
        "    similar_products = product_similarity_train.dot(user_ratings)\n",
        "\n",
        "    # Combinação ponderada de similaridade de usuários e produtos\n",
        "    hybrid_score = user_weight * similar_users.dot(user_product_matrix_train) + product_weight * similar_products\n",
        "\n",
        "    # Ordenar os produtos com base no score híbrido\n",
        "    recommended_products = np.argsort(hybrid_score)[::-1][:n_recommendations]\n",
        "\n",
        "    # Filtrar os produtos recomendados pelos IDs em comum\n",
        "    recommended_product_ids = common_product_ids_train[recommended_products]\n",
        "\n",
        "    # Fazer um merge com o DataFrame de produtos para retornar as informações detalhadas\n",
        "    recommendations = products_df[products_df['product_id'].isin(recommended_product_ids)]\n",
        "\n",
        "    # Garantir que as colunas 'product_name', 'category', e 'brand' estão presentes\n",
        "    return recommendations[['product_name', 'category', 'brand']]"
      ],
      "metadata": {
        "id": "2xLIos7P-cQO"
      },
      "execution_count": 88,
      "outputs": []
    },
    {
      "cell_type": "code",
      "source": [
        "# Exemplo de recomendação para um usuário específico\n",
        "user_id = 2\n",
        "recommendations = recommend_hybrid_train(user_id=user_id, n_recommendations=5, user_weight=0.7, product_weight=0.3)\n",
        "\n",
        "# Exibir as recomendações (se existirem)\n",
        "print(f\"Recomendações para o usuário {user_id}:\")\n",
        "print(recommendations)"
      ],
      "metadata": {
        "colab": {
          "base_uri": "https://localhost:8080/"
        },
        "id": "-fHOqrjv-4bo",
        "outputId": "e3cb916a-c07d-48ca-8563-b34a2e742d43"
      },
      "execution_count": 97,
      "outputs": [
        {
          "output_type": "stream",
          "name": "stdout",
          "text": [
            "Recomendações para o usuário 2:\n",
            "       product_name      category     brand\n",
            "12      Pepsi 326ml    Energético     Pepsi\n",
            "13   Heineken 414ml    Energético      Skol\n",
            "21   Heineken 268ml  Refrigerante  Heineken\n",
            "45       Skol 519ml  Refrigerante  Heineken\n",
            "48  Coca-Cola 540ml          Água    Brahma\n"
          ]
        }
      ]
    },
    {
      "cell_type": "markdown",
      "source": [
        "Após ajustar os parâmetros e testar o modelo com diferentes configurações, o RMSE final foi 0.6072, o que indica que o modelo está funcionando bem.\n",
        "No entanto, ainda há espaço para melhorar a precisão, adicionando novos fatores ou otimizando hiperparâmetros.\n",
        "\n",
        "\n",
        "Embora o RMSE seja uma boa medida pra analisar o erro, também seria interessante analisar se os produtos recomendados são relevantes do ponto de vista qualitativo. Avaliações de usuários sobre as recomendações podem fornecer insights valiosos para melhorar a personalização.\n",
        "\n"
      ],
      "metadata": {
        "id": "RzJqGfdfGQ7c"
      }
    },
    {
      "cell_type": "code",
      "source": [
        "import matplotlib.pyplot as plt\n",
        "import seaborn as sns"
      ],
      "metadata": {
        "id": "Xt2gYjIOAbmG"
      },
      "execution_count": 92,
      "outputs": []
    },
    {
      "cell_type": "code",
      "source": [
        "# Função para exibir recomendações e visualizar por categoria\n",
        "def plot_recommendations(user_id, n_recommendations=5, user_weight=0.7, product_weight=0.3):\n",
        "    recommendations = recommend_hybrid_train(user_id=user_id, n_recommendations=n_recommendations,\n",
        "                                             user_weight=user_weight, product_weight=product_weight)\n",
        "\n",
        "    if recommendations.empty:\n",
        "        print(f\"Nenhuma recomendação disponível para o usuário {user_id}\")\n",
        "    else:\n",
        "        # Contar o número de produtos por categoria\n",
        "        category_counts = recommendations['category'].value_counts()\n",
        "\n",
        "        # Plotar as recomendações por categoria\n",
        "        plt.figure(figsize=(10, 6))\n",
        "        sns.barplot(x=category_counts.index, y=category_counts.values, palette=\"viridis\")\n",
        "        plt.title(f\"Recomendações por Categoria para o Usuário {user_id}\")\n",
        "        plt.xlabel(\"Categoria\")\n",
        "        plt.ylabel(\"Número de Produtos Recomendados\")\n",
        "        plt.xticks(rotation=45)\n",
        "        plt.show()\n",
        "\n",
        "# Testar a visualização para um usuário específico\n",
        "plot_recommendations(user_id=3, n_recommendations=5, user_weight=0.7, product_weight=0.3)"
      ],
      "metadata": {
        "colab": {
          "base_uri": "https://localhost:8080/",
          "height": 709
        },
        "id": "Gi_N1XgSAdpG",
        "outputId": "0a26a3a5-64c3-40b9-92fe-8780e90fca71"
      },
      "execution_count": 93,
      "outputs": [
        {
          "output_type": "stream",
          "name": "stderr",
          "text": [
            "<ipython-input-93-4f437bbb425b>:14: FutureWarning: \n",
            "\n",
            "Passing `palette` without assigning `hue` is deprecated and will be removed in v0.14.0. Assign the `x` variable to `hue` and set `legend=False` for the same effect.\n",
            "\n",
            "  sns.barplot(x=category_counts.index, y=category_counts.values, palette=\"viridis\")\n"
          ]
        },
        {
          "output_type": "display_data",
          "data": {
            "text/plain": [
              "<Figure size 1000x600 with 1 Axes>"
            ],
            "image/png": "[encoded data removed]"
          },
          "metadata": {}
        }
      ]
    },
    {
      "cell_type": "code",
      "source": [
        "# Visualização da similaridade entre os usuários com heatmap\n",
        "def plot_user_similarity():\n",
        "    plt.figure(figsize=(10, 8))\n",
        "    sns.heatmap(user_similarity_train, cmap=\"coolwarm\", annot=False)\n",
        "    plt.title(\"Mapa de Calor da Similaridade entre Usuários\")\n",
        "    plt.xlabel(\"Usuários\")\n",
        "    plt.ylabel(\"Usuários\")\n",
        "    plt.show()\n",
        "\n",
        "# Testar a visualização de similaridade entre usuários\n",
        "plot_user_similarity()"
      ],
      "metadata": {
        "colab": {
          "base_uri": "https://localhost:8080/",
          "height": 719
        },
        "id": "0ed6jKMPAl-w",
        "outputId": "5894f59a-f74c-4be0-e632-72cfde3a0ebf"
      },
      "execution_count": 94,
      "outputs": [
        {
          "output_type": "display_data",
          "data": {
            "text/plain": [
              "<Figure size 1000x800 with 2 Axes>"
            ],
            "image/png": "[encoded data removed]"
          },
          "metadata": {}
        }
      ]
    },
    {
      "cell_type": "markdown",
      "source": [
        "**Recomendações **"
      ],
      "metadata": {
        "id": "TxtDr1xBF2Fo"
      }
    }
  ]
}