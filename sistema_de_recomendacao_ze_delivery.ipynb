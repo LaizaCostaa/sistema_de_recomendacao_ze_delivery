{
  "nbformat": 4,
  "nbformat_minor": 0,
  "metadata": {
    "colab": {
      "provenance": [],
      "authorship_tag": "ABX9TyOXgI4F92hNx9r+D/hea5bF",
      "include_colab_link": true
    },
    "kernelspec": {
      "name": "python3",
      "display_name": "Python 3"
    },
    "language_info": {
      "name": "python"
    }
  },
  "cells": [
    {
      "cell_type": "markdown",
      "metadata": {
        "id": "view-in-github",
        "colab_type": "text"
      },
      "source": [
        "<a href=\"https://colab.research.google.com/github/LaizaCostaa/sistema_de_recomendacao_ze_delivery/blob/main/sistema_de_recomendacao_ze_delivery.ipynb\" target=\"_parent\"><img src=\"https://colab.research.google.com/assets/colab-badge.svg\" alt=\"Open In Colab\"/></a>"
      ]
    },
    {
      "cell_type": "code",
      "execution_count": 1,
      "metadata": {
        "colab": {
          "base_uri": "https://localhost:8080/"
        },
        "id": "bxag5smsERm3",
        "outputId": "5c215d57-6d51-496b-c6fb-5a757f9cbe12"
      },
      "outputs": [
        {
          "output_type": "stream",
          "name": "stdout",
          "text": [
            "Mounted at /content/drive\n"
          ]
        }
      ],
      "source": [
        "from google.colab import drive\n",
        "drive.mount('/content/drive')"
      ]
    },
    {
      "cell_type": "code",
      "source": [
        "import pandas as pd\n",
        "from sklearn.model_selection import train_test_split\n",
        "from sklearn.metrics.pairwise import cosine_similarity\n",
        "import numpy as np"
      ],
      "metadata": {
        "id": "NgHONmo8ETPd"
      },
      "execution_count": 2,
      "outputs": []
    },
    {
      "cell_type": "code",
      "source": [
        "# Local onde os arquivos estão armazenados no Google Drive\n",
        "users_df = pd.read_csv('/content/drive/MyDrive/Portfólio/sistema_recomendacao_ze_delivery/ze_delivery_users.csv')\n",
        "products_df = pd.read_csv('/content/drive/MyDrive/Portfólio/sistema_recomendacao_ze_delivery/ze_delivery_products.csv')\n",
        "interactions_df = pd.read_csv('/content/drive/MyDrive/Portfólio/sistema_recomendacao_ze_delivery/ze_delivery_interactions.csv')"
      ],
      "metadata": {
        "id": "nr4-YLDXEVmQ"
      },
      "execution_count": 3,
      "outputs": []
    },
    {
      "cell_type": "markdown",
      "source": [
        "**Pre'processamento dos dados**"
      ],
      "metadata": {
        "id": "2FPHUpcKFXq2"
      }
    },
    {
      "cell_type": "code",
      "source": [
        "print(users_df.head())\n",
        "print(products_df.head())\n",
        "print(interactions_df.head())"
      ],
      "metadata": {
        "colab": {
          "base_uri": "https://localhost:8080/"
        },
        "id": "n0oABHzvFQLv",
        "outputId": "f9b98933-34f5-4e3e-d2bd-2723b7597866"
      },
      "execution_count": 4,
      "outputs": [
        {
          "output_type": "stream",
          "name": "stdout",
          "text": [
            "   user_id  age gender            location signup_date\n",
            "0        1   58      M       São Paulo, SP  2022-10-31\n",
            "1        2   65      F  Rio de Janeiro, RJ  2024-07-05\n",
            "2        3   32      M          Recife, PE  2024-02-01\n",
            "3        4   24  Outro          Recife, PE  2023-11-20\n",
            "4        5   52      M    Porto Alegre, RS  2023-06-17\n",
            "   product_id     product_name      category  price         brand  \\\n",
            "0           1       Skol 255ml         Vinho  21.58        Brahma   \n",
            "1           2  Coca-Cola 293ml  Refrigerante  47.87      Red Bull   \n",
            "2           3   Heineken 426ml    Energético  12.50  Água Crystal   \n",
            "3           4      Pepsi 207ml       Cerveja  92.86        Brahma   \n",
            "4           5  Coca-Cola 448ml          Água  23.73     Coca-Cola   \n",
            "\n",
            "   alcohol_content  \n",
            "0             6.44  \n",
            "1             0.00  \n",
            "2             0.00  \n",
            "3            10.18  \n",
            "4             0.00  \n",
            "   user_id  product_id interaction_type     interaction_time  rating\n",
            "0        1          20         cart_add  2023-08-04 22:19:47     NaN\n",
            "1       27          28         purchase  2024-01-07 22:04:29     5.0\n",
            "2       84          21         cart_add  2023-02-08 01:03:40     NaN\n",
            "3       57          29         purchase  2024-08-07 23:48:16     2.0\n",
            "4       66          31         purchase  2024-01-04 04:14:36     2.0\n"
          ]
        }
      ]
    },
    {
      "cell_type": "code",
      "source": [
        "# Remover valores NaN nas interações\n",
        "interactions_df.dropna(subset=['rating'], inplace=True)\n",
        "\n",
        "# Normalizar as avaliações\n",
        "interactions_df['rating_normalized'] = (interactions_df['rating'] - interactions_df['rating'].min()) / (interactions_df['rating'].max() - interactions_df['rating'].min())"
      ],
      "metadata": {
        "id": "p7WTb6mfHkzv"
      },
      "execution_count": 5,
      "outputs": []
    },
    {
      "cell_type": "markdown",
      "source": [
        "Cálculo de similaridade"
      ],
      "metadata": {
        "id": "YNHVN7qQFpjk"
      }
    },
    {
      "cell_type": "code",
      "source": [
        "from sklearn.metrics.pairwise import cosine_similarity\n",
        "from sklearn.decomposition import TruncatedSVD\n",
        "import numpy as np\n"
      ],
      "metadata": {
        "id": "OJj2wvvjHuHf"
      },
      "execution_count": 6,
      "outputs": []
    },
    {
      "cell_type": "code",
      "source": [
        "# Criar a matriz de interações\n",
        "user_product_matrix = interactions_df.pivot_table(index='user_id', columns='product_id', values='rating_normalized').fillna(0)\n",
        "\n",
        "# Fatoração da matriz com SVD\n",
        "from sklearn.decomposition import TruncatedSVD\n",
        "svd = TruncatedSVD(n_components=20, random_state=42)\n",
        "user_factors = svd.fit_transform(user_product_matrix)\n",
        "product_factors = svd.components_.T\n",
        "\n",
        "# Similaridade de usuários\n",
        "from sklearn.metrics.pairwise import cosine_similarity\n",
        "user_similarity = cosine_similarity(user_factors)\n",
        "\n",
        "# Similaridade de produtos\n",
        "products_df['category_brand'] = products_df['category'] + \" \" + products_df['brand']\n",
        "product_features = pd.get_dummies(products_df['category_brand'])\n",
        "product_similarity = cosine_similarity(product_features)"
      ],
      "metadata": {
        "id": "FEEQqQGPHwzt"
      },
      "execution_count": 12,
      "outputs": []
    },
    {
      "cell_type": "code",
      "source": [
        "# Filtrar os produtos comuns entre a matriz de interações e a matriz de similaridade de produtos\n",
        "common_product_ids = user_product_matrix.columns.intersection(products_df['product_id'])\n",
        "\n",
        "# Atualizar a matriz de interações para incluir apenas os produtos em comum\n",
        "user_product_matrix = user_product_matrix[common_product_ids]\n",
        "\n",
        "# Atualizar as características dos produtos para garantir que estejam alinhadas\n",
        "product_features = product_features.loc[products_df['product_id'].isin(common_product_ids)]\n",
        "\n",
        "# Recalcular a similaridade de produtos com base nas características filtradas\n",
        "product_similarity = cosine_similarity(product_features)"
      ],
      "metadata": {
        "id": "9PwvdiA36s9_"
      },
      "execution_count": 14,
      "outputs": []
    },
    {
      "cell_type": "code",
      "source": [
        "def recommend_hybrid(user_id, n_recommendations=5):\n",
        "    # Similaridade do usuário com outros usuários\n",
        "    similar_users = user_similarity[user_id - 1]  # Ajustando o índice\n",
        "\n",
        "    # Similaridade de produtos com base nas avaliações do usuário\n",
        "    user_ratings = user_product_matrix.loc[user_id]\n",
        "\n",
        "    # Certificar que as dimensões estão alinhadas\n",
        "    similar_products = product_similarity.dot(user_ratings)\n",
        "\n",
        "    # Combinação ponderada entre similaridade de usuários e produtos\n",
        "    hybrid_score = 0.5 * similar_users.dot(user_product_matrix) + 0.5 * similar_products\n",
        "\n",
        "    # Ordenar os produtos com maior pontuação\n",
        "    recommended_products = np.argsort(hybrid_score)[::-1][:n_recommendations]\n",
        "\n",
        "    # Filtrar os produtos recomendados pelos IDs em comum\n",
        "    recommended_product_ids = common_product_ids[recommended_products]\n",
        "\n",
        "    # Retornar os produtos recomendados\n",
        "    return products_df[products_df['product_id'].isin(recommended_product_ids)]\n",
        "\n",
        "# Exemplo de recomendação para o usuário de ID 1\n",
        "recommendations = recommend_hybrid(user_id=1, n_recommendations=5)\n",
        "print(recommendations[['product_name', 'category', 'brand']])"
      ],
      "metadata": {
        "colab": {
          "base_uri": "https://localhost:8080/"
        },
        "id": "cn7qbGs76gcK",
        "outputId": "d45ce98e-a8eb-4c06-bc50-b4afbac7dce0"
      },
      "execution_count": 54,
      "outputs": [
        {
          "output_type": "stream",
          "name": "stdout",
          "text": [
            "       product_name    category     brand\n",
            "0        Skol 255ml       Vinho    Brahma\n",
            "10      Pepsi 280ml     Cerveja    Brahma\n",
            "18     Brahma 378ml     Cerveja    Brahma\n",
            "42       Skol 423ml  Energético  Heineken\n",
            "43  Coca-Cola 495ml       Vinho  Heineken\n"
          ]
        }
      ]
    },
    {
      "cell_type": "code",
      "source": [
        "# Função de recomendação ajustada para verificar os IDs dos produtos recomendados\n",
        "def recommend_hybrid_train(user_id, n_recommendations=5, user_weight=0.7, product_weight=0.3):\n",
        "    # Verificar se o usuário existe no mapeamento\n",
        "    if user_id not in user_id_to_index:\n",
        "        return pd.DataFrame()  # Retornar vazio se o usuário não existir no treino\n",
        "\n",
        "    # Obter o índice do usuário na matriz de similaridade\n",
        "    user_index = user_id_to_index[user_id]\n",
        "\n",
        "    # Calcular a similaridade do usuário\n",
        "    similar_users = user_similarity_train[user_index]  # Similaridade do usuário com outros usuários\n",
        "    user_ratings = user_product_matrix_train.loc[user_id]  # Avaliações do usuário\n",
        "\n",
        "    # Calcular a similaridade de produtos\n",
        "    similar_products = product_similarity_train.dot(user_ratings)\n",
        "\n",
        "    # Combinação ponderada de similaridade de usuários e produtos\n",
        "    hybrid_score = user_weight * similar_users.dot(user_product_matrix_train) + product_weight * similar_products\n",
        "\n",
        "    # Ordenar os produtos com base no score híbrido\n",
        "    recommended_products = np.argsort(hybrid_score)[::-1][:n_recommendations]\n",
        "\n",
        "    # Filtrar os produtos recomendados pelos IDs em comum\n",
        "    recommended_product_ids = common_product_ids_train[recommended_products]\n",
        "\n",
        "    # Exibir os IDs dos produtos recomendados para verificação\n",
        "    print(f\"Produtos recomendados para o usuário {user_id}: {recommended_product_ids}\")\n",
        "\n",
        "    # Fazer um merge com o DataFrame de produtos para retornar as informações detalhadas\n",
        "    recommendations = products_df[products_df['product_id'].isin(recommended_product_ids)]\n",
        "\n",
        "    # Garantir que as colunas 'product_name', 'category', e 'brand' estão presentes\n",
        "    return recommendations[['product_name', 'category', 'brand']]"
      ],
      "metadata": {
        "id": "kQWVZdjc_ZSs"
      },
      "execution_count": 55,
      "outputs": []
    },
    {
      "cell_type": "markdown",
      "source": [
        "**AVALIAÇÃO DO MODELO**"
      ],
      "metadata": {
        "id": "i-VISJAH7NBS"
      }
    },
    {
      "cell_type": "code",
      "source": [
        "from sklearn.model_selection import train_test_split\n"
      ],
      "metadata": {
        "id": "DrsMTwU67Pxm"
      },
      "execution_count": 56,
      "outputs": []
    },
    {
      "cell_type": "code",
      "source": [
        "# Dividindo o conjunto de interações em treino (80%) e teste (20%)\n",
        "train_data, test_data = train_test_split(interactions_df, test_size=0.2, random_state=42)"
      ],
      "metadata": {
        "id": "HQSgPZAS7YI7"
      },
      "execution_count": 57,
      "outputs": []
    },
    {
      "cell_type": "code",
      "source": [
        "#Criando a matriz de interações para o conjunto de treino\n",
        "user_product_matrix_train = train_data.pivot_table(index='user_id', columns='product_id', values='rating_normalized').fillna(0)"
      ],
      "metadata": {
        "id": "oa57KabQ7cjL"
      },
      "execution_count": 58,
      "outputs": []
    },
    {
      "cell_type": "code",
      "source": [
        "# Calculando a similaridade de usuários com base no conjunto de treino\n",
        "user_similarity_train = cosine_similarity(user_product_matrix_train)\n",
        "\n",
        "# Filtrar os produtos comuns entre a matriz de interações de treino e os produtos\n",
        "common_product_ids_train = user_product_matrix_train.columns.intersection(products_df['product_id'])\n",
        "product_features_train = product_features.loc[products_df['product_id'].isin(common_product_ids_train)]\n",
        "\n",
        "# Recalcular a similaridade de produtos com base nas características filtradas\n",
        "product_similarity_train = cosine_similarity(product_features_train)"
      ],
      "metadata": {
        "id": "foP28Dwa7iTw"
      },
      "execution_count": 59,
      "outputs": []
    },
    {
      "cell_type": "code",
      "source": [
        "from sklearn.metrics import mean_squared_error\n",
        "import numpy as np"
      ],
      "metadata": {
        "id": "D_E5zfbp7lQe"
      },
      "execution_count": 63,
      "outputs": []
    },
    {
      "cell_type": "code",
      "source": [
        "#Criar um mapeamento do `user_id` para o índice da matriz de similaridade\n",
        "user_id_to_index = {user_id: idx for idx, user_id in enumerate(user_product_matrix_train.index)}"
      ],
      "metadata": {
        "id": "fjq_Q8Yc9Q-I"
      },
      "execution_count": 64,
      "outputs": []
    },
    {
      "cell_type": "code",
      "source": [
        "# Função de recomendação com base no conjunto de treino ajustada com pesos personalizados\n",
        "def recommend_hybrid_train(user_id, n_recommendations=5, user_weight=0.7, product_weight=0.3):\n",
        "    # Verificar se o usuário existe no mapeamento\n",
        "    if user_id not in user_id_to_index:\n",
        "        return pd.DataFrame()  # Retornar vazio se o usuário não existir no treino\n",
        "\n",
        "    # Obter o índice do usuário na matriz de similaridade\n",
        "    user_index = user_id_to_index[user_id]\n",
        "\n",
        "    # Calcular a similaridade do usuário\n",
        "    similar_users = user_similarity_train[user_index]  # Similaridade do usuário com outros usuários\n",
        "    user_ratings = user_product_matrix_train.loc[user_id]  # Avaliações do usuário\n",
        "\n",
        "    # Calcular a similaridade de produtos\n",
        "    similar_products = product_similarity_train.dot(user_ratings)\n",
        "\n",
        "    # Combinação ponderada de similaridade de usuários e produtos\n",
        "    hybrid_score = user_weight * similar_users.dot(user_product_matrix_train) + product_weight * similar_products\n",
        "\n",
        "    # Ordenar os produtos com base no score híbrido\n",
        "    recommended_products = np.argsort(hybrid_score)[::-1][:n_recommendations]\n",
        "\n",
        "    # Filtrar os produtos recomendados\n",
        "    recommended_product_ids = common_product_ids_train[recommended_products]\n",
        "\n",
        "    return products_df[products_df['product_id'].isin(recommended_product_ids)]"
      ],
      "metadata": {
        "id": "s8-svFrm7oQc"
      },
      "execution_count": 65,
      "outputs": []
    },
    {
      "cell_type": "code",
      "source": [
        "# Predizer as avaliações para o conjunto de teste\n",
        "predicted_ratings = []\n",
        "actual_ratings = []\n",
        "\n",
        "for _, row in test_data.iterrows():\n",
        "    user_id = row['user_id']\n",
        "    product_id = row['product_id']\n",
        "\n",
        "    # Verificar se o usuário e o produto existem no conjunto de treino\n",
        "    if user_id in user_product_matrix_train.index and product_id in user_product_matrix_train.columns:\n",
        "        user_ratings = recommend_hybrid_train(user_id, n_recommendations=5)\n",
        "\n",
        "        # Prevendo a avaliação com base no score do produto recomendado\n",
        "        if not user_ratings.empty and product_id in user_ratings['product_id'].values:\n",
        "            predicted_rating = user_ratings[user_ratings['product_id'] == product_id]['rating_normalized'].values[0]\n",
        "        else:\n",
        "            predicted_rating = 0  # Se o produto não for recomendado, prever como 0\n",
        "\n",
        "        predicted_ratings.append(predicted_rating)\n",
        "        actual_ratings.append(row['rating_normalized'])\n",
        "\n",
        "# Calcular o RMSE para medir o desempenho do modelo\n",
        "rmse = np.sqrt(mean_squared_error(actual_ratings, predicted_ratings))\n",
        "print(f\"RMSE do modelo: {rmse:.4f}\")"
      ],
      "metadata": {
        "colab": {
          "base_uri": "https://localhost:8080/"
        },
        "id": "AzFvYBqP8N-0",
        "outputId": "774adeb5-5276-47a3-bbdb-5976fbae76aa"
      },
      "execution_count": 66,
      "outputs": [
        {
          "output_type": "stream",
          "name": "stdout",
          "text": [
            "RMSE do modelo: 0.6072\n"
          ]
        }
      ]
    },
    {
      "cell_type": "markdown",
      "source": [
        "Otimização do modelo"
      ],
      "metadata": {
        "id": "CIKEBH-Z8ovj"
      }
    },
    {
      "cell_type": "code",
      "source": [
        "# Testar diferentes combinações de pesos e avaliar o RMSE\n",
        "for user_weight, product_weight in [(0.7, 0.3), (0.5, 0.5), (0.3, 0.7)]:\n",
        "    print(f\"Testando com user_weight={user_weight} e product_weight={product_weight}\")\n",
        "\n",
        "    # Recalcular recomendações e avaliar\n",
        "    predicted_ratings = []\n",
        "    actual_ratings = []\n",
        "\n",
        "    for _, row in test_data.iterrows():\n",
        "        user_id = row['user_id']\n",
        "        product_id = row['product_id']\n",
        "\n",
        "        # Verificar se o usuário e o produto existem no conjunto de treino\n",
        "        if user_id in user_product_matrix_train.index and product_id in user_product_matrix_train.columns:\n",
        "            user_ratings = recommend_hybrid_train(user_id, n_recommendations=5, user_weight=user_weight, product_weight=product_weight)\n",
        "\n",
        "            # Prevendo a avaliação com base no score do produto recomendado\n",
        "            if not user_ratings.empty and product_id in user_ratings['product_id'].values:\n",
        "                predicted_rating = user_ratings[user_ratings['product_id'] == product_id]['rating_normalized'].values[0]\n",
        "            else:\n",
        "                predicted_rating = 0  # Se o produto não for recomendado, prever como 0\n",
        "\n",
        "            predicted_ratings.append(predicted_rating)\n",
        "            actual_ratings.append(row['rating_normalized'])\n",
        "\n",
        "    # Calcular o RMSE para medir o desempenho do modelo\n",
        "    rmse = np.sqrt(mean_squared_error(actual_ratings, predicted_ratings))\n",
        "    print(f\"RMSE com user_weight={user_weight} e product_weight={product_weight}: {rmse:.4f}\")"
      ],
      "metadata": {
        "colab": {
          "base_uri": "https://localhost:8080/"
        },
        "id": "lrhwHu-d8mkB",
        "outputId": "25c61fc8-1049-4d3e-84de-11c0aba2e237"
      },
      "execution_count": 67,
      "outputs": [
        {
          "output_type": "stream",
          "name": "stdout",
          "text": [
            "Testando com user_weight=0.7 e product_weight=0.3\n",
            "RMSE com user_weight=0.7 e product_weight=0.3: 0.6072\n",
            "Testando com user_weight=0.5 e product_weight=0.5\n",
            "RMSE com user_weight=0.5 e product_weight=0.5: 0.6072\n",
            "Testando com user_weight=0.3 e product_weight=0.7\n",
            "RMSE com user_weight=0.3 e product_weight=0.7: 0.6072\n"
          ]
        }
      ]
    },
    {
      "cell_type": "markdown",
      "source": [
        "**Explorando o número de componentes SVD**"
      ],
      "metadata": {
        "id": "G0-8Tovk9tfQ"
      }
    },
    {
      "cell_type": "code",
      "source": [
        "from sklearn.decomposition import TruncatedSVD\n",
        "\n",
        "# Escolher um número de componentes menor ou igual a 43\n",
        "svd = TruncatedSVD(n_components=20, random_state=42)  # Escolha um número menor que 43\n",
        "user_factors = svd.fit_transform(user_product_matrix_train)\n",
        "product_factors = svd.components_.T"
      ],
      "metadata": {
        "id": "gkcq4ObX9s1t"
      },
      "execution_count": 68,
      "outputs": []
    },
    {
      "cell_type": "code",
      "source": [
        "for n_components in [5, 10, 15, 20]:\n",
        "    print(f\"Testando com n_components={n_components}\")\n",
        "\n",
        "    # Recalcular SVD com diferentes números de componentes\n",
        "    svd = TruncatedSVD(n_components=n_components, random_state=42)\n",
        "    user_factors = svd.fit_transform(user_product_matrix_train)\n",
        "    product_factors = svd.components_.T\n"
      ],
      "metadata": {
        "colab": {
          "base_uri": "https://localhost:8080/"
        },
        "id": "TBlB8UEX9-od",
        "outputId": "efe0bfd6-1aea-4c0b-b882-cc65b80fe14f"
      },
      "execution_count": 69,
      "outputs": [
        {
          "output_type": "stream",
          "name": "stdout",
          "text": [
            "Testando com n_components=5\n",
            "Testando com n_components=10\n",
            "Testando com n_components=15\n",
            "Testando com n_components=20\n"
          ]
        }
      ]
    },
    {
      "cell_type": "markdown",
      "source": [
        "**Avaliação o RMSE**"
      ],
      "metadata": {
        "id": "jFydcx2g-KLO"
      }
    },
    {
      "cell_type": "code",
      "source": [
        "for n_components in [10, 15, 20]:\n",
        "    print(f\"Testando com n_components={n_components}\")\n",
        "\n",
        "    # Recalcular SVD com diferentes números de componentes\n",
        "    svd = TruncatedSVD(n_components=n_components, random_state=42)\n",
        "    user_factors = svd.fit_transform(user_product_matrix_train)\n",
        "    product_factors = svd.components_.T\n",
        "\n",
        "    # lógica de recomendação e avaliação\n",
        "    predicted_ratings = []\n",
        "    actual_ratings = []\n",
        "\n",
        "    for _, row in test_data.iterrows():\n",
        "        user_id = row['user_id']\n",
        "        product_id = row['product_id']\n",
        "\n",
        "        # Verificar se o usuário e o produto existem no conjunto de treino\n",
        "        if user_id in user_product_matrix_train.index and product_id in user_product_matrix_train.columns:\n",
        "            user_ratings = recommend_hybrid_train(user_id, n_recommendations=5)\n",
        "\n",
        "            # Prevendo a avaliação com base no score do produto recomendado\n",
        "            if not user_ratings.empty and product_id in user_ratings['product_id'].values:\n",
        "                predicted_rating = user_ratings[user_ratings['product_id'] == product_id]['rating_normalized'].values[0]\n",
        "            else:\n",
        "                predicted_rating = 0  # Se o produto não for recomendado, prever como 0\n",
        "\n",
        "            predicted_ratings.append(predicted_rating)\n",
        "            actual_ratings.append(row['rating_normalized'])\n",
        "\n",
        "    # Calcular o RMSE para medir o desempenho do modelo\n",
        "    rmse = np.sqrt(mean_squared_error(actual_ratings, predicted_ratings))\n",
        "    print(f\"RMSE com n_components={n_components}: {rmse:.4f}\")"
      ],
      "metadata": {
        "colab": {
          "base_uri": "https://localhost:8080/"
        },
        "id": "CSH78YkC-JVd",
        "outputId": "52ff8592-98ac-47b6-c92e-99eb965b848d"
      },
      "execution_count": 70,
      "outputs": [
        {
          "output_type": "stream",
          "name": "stdout",
          "text": [
            "Testando com n_components=10\n",
            "RMSE com n_components=10: 0.6072\n",
            "Testando com n_components=15\n",
            "RMSE com n_components=15: 0.6072\n",
            "Testando com n_components=20\n",
            "RMSE com n_components=20: 0.6072\n"
          ]
        }
      ]
    },
    {
      "cell_type": "code",
      "source": [
        "# Função de recomendação ajustada para retornar detalhes do produto\n",
        "def recommend_hybrid_train(user_id, n_recommendations=5, user_weight=0.7, product_weight=0.3):\n",
        "    # Verificar se o usuário existe no mapeamento\n",
        "    if user_id not in user_id_to_index:\n",
        "        return pd.DataFrame()  # Retornar vazio se o usuário não existir no treino\n",
        "\n",
        "    # Obter o índice do usuário na matriz de similaridade\n",
        "    user_index = user_id_to_index[user_id]\n",
        "\n",
        "    # Calcular a similaridade do usuário\n",
        "    similar_users = user_similarity_train[user_index]  # Similaridade do usuário com outros usuários\n",
        "    user_ratings = user_product_matrix_train.loc[user_id]  # Avaliações do usuário\n",
        "\n",
        "    # Calcular a similaridade de produtos\n",
        "    similar_products = product_similarity_train.dot(user_ratings)\n",
        "\n",
        "    # Combinação ponderada de similaridade de usuários e produtos\n",
        "    hybrid_score = user_weight * similar_users.dot(user_product_matrix_train) + product_weight * similar_products\n",
        "\n",
        "    # Ordenar os produtos com base no score híbrido\n",
        "    recommended_products = np.argsort(hybrid_score)[::-1][:n_recommendations]\n",
        "\n",
        "    # Filtrar os produtos recomendados pelos IDs em comum\n",
        "    recommended_product_ids = common_product_ids_train[recommended_products]\n",
        "\n",
        "    # Fazer um merge com o DataFrame de produtos para retornar as informações detalhadas\n",
        "    recommendations = products_df[products_df['product_id'].isin(recommended_product_ids)]\n",
        "\n",
        "    # Garantir que as colunas 'product_name', 'category', e 'brand' estão presentes\n",
        "    return recommendations[['product_name', 'category', 'brand']]"
      ],
      "metadata": {
        "id": "2xLIos7P-cQO"
      },
      "execution_count": 71,
      "outputs": []
    },
    {
      "cell_type": "code",
      "source": [
        "# Exemplo de recomendação para um usuário específico\n",
        "user_id = 3\n",
        "recommendations = recommend_hybrid_train(user_id=user_id, n_recommendations=5, user_weight=0.7, product_weight=0.3)\n",
        "\n",
        "# Exibir as recomendações (se existirem)\n",
        "print(f\"Recomendações para o usuário {user_id}:\")\n",
        "print(recommendations)"
      ],
      "metadata": {
        "colab": {
          "base_uri": "https://localhost:8080/"
        },
        "id": "-fHOqrjv-4bo",
        "outputId": "7435b292-a7c9-43cc-cd29-6c270e22414e"
      },
      "execution_count": 73,
      "outputs": [
        {
          "output_type": "stream",
          "name": "stdout",
          "text": [
            "Recomendações para o usuário 3:\n",
            "          product_name      category         brand\n",
            "12         Pepsi 326ml    Energético         Pepsi\n",
            "19     Coca-Cola 478ml  Refrigerante      Red Bull\n",
            "20  Água Crystal 470ml       Cerveja  Água Crystal\n",
            "21      Heineken 268ml  Refrigerante      Heineken\n",
            "48     Coca-Cola 540ml          Água        Brahma\n"
          ]
        }
      ]
    },
    {
      "cell_type": "code",
      "source": [
        "import matplotlib.pyplot as plt\n",
        "import seaborn as sns"
      ],
      "metadata": {
        "id": "Xt2gYjIOAbmG"
      },
      "execution_count": 74,
      "outputs": []
    },
    {
      "cell_type": "code",
      "source": [
        "# Função para exibir recomendações e visualizar por categoria\n",
        "def plot_recommendations(user_id, n_recommendations=5, user_weight=0.7, product_weight=0.3):\n",
        "    recommendations = recommend_hybrid_train(user_id=user_id, n_recommendations=n_recommendations,\n",
        "                                             user_weight=user_weight, product_weight=product_weight)\n",
        "\n",
        "    if recommendations.empty:\n",
        "        print(f\"Nenhuma recomendação disponível para o usuário {user_id}\")\n",
        "    else:\n",
        "        # Contar o número de produtos por categoria\n",
        "        category_counts = recommendations['category'].value_counts()\n",
        "\n",
        "        # Plotar as recomendações por categoria\n",
        "        plt.figure(figsize=(10, 6))\n",
        "        sns.barplot(x=category_counts.index, y=category_counts.values, palette=\"viridis\")\n",
        "        plt.title(f\"Recomendações por Categoria para o Usuário {user_id}\")\n",
        "        plt.xlabel(\"Categoria\")\n",
        "        plt.ylabel(\"Número de Produtos Recomendados\")\n",
        "        plt.xticks(rotation=45)\n",
        "        plt.show()\n",
        "\n",
        "# Testar a visualização para um usuário específico\n",
        "plot_recommendations(user_id=3, n_recommendations=5, user_weight=0.7, product_weight=0.3)"
      ],
      "metadata": {
        "colab": {
          "base_uri": "https://localhost:8080/",
          "height": 716
        },
        "id": "Gi_N1XgSAdpG",
        "outputId": "07726b3d-3da5-4575-af11-5c11316f2754"
      },
      "execution_count": 79,
      "outputs": [
        {
          "output_type": "stream",
          "name": "stderr",
          "text": [
            "<ipython-input-79-3ed7682b2a6b>:14: FutureWarning: \n",
            "\n",
            "Passing `palette` without assigning `hue` is deprecated and will be removed in v0.14.0. Assign the `x` variable to `hue` and set `legend=False` for the same effect.\n",
            "\n",
            "  sns.barplot(x=category_counts.index, y=category_counts.values, palette=\"viridis\")\n"
          ]
        },
        {
          "output_type": "display_data",
          "data": {
            "text/plain": [
              "<Figure size 1000x600 with 1 Axes>"
            ],
            "image/png": "[encoded data removed]"
          },
          "metadata": {}
        }
      ]
    },
    {
      "cell_type": "code",
      "source": [
        "# Visualização da similaridade entre os usuários com heatmap\n",
        "def plot_user_similarity():\n",
        "    plt.figure(figsize=(10, 8))\n",
        "    sns.heatmap(user_similarity_train, cmap=\"coolwarm\", annot=False)\n",
        "    plt.title(\"Mapa de Calor da Similaridade entre Usuários\")\n",
        "    plt.xlabel(\"Usuários\")\n",
        "    plt.ylabel(\"Usuários\")\n",
        "    plt.show()\n",
        "\n",
        "# Testar a visualização de similaridade entre usuários\n",
        "plot_user_similarity()"
      ],
      "metadata": {
        "colab": {
          "base_uri": "https://localhost:8080/",
          "height": 719
        },
        "id": "0ed6jKMPAl-w",
        "outputId": "f44b45eb-a5ba-494c-bb08-6ec41af3c5e0"
      },
      "execution_count": 80,
      "outputs": [
        {
          "output_type": "display_data",
          "data": {
            "text/plain": [
              "<Figure size 1000x800 with 2 Axes>"
            ],
            "image/png": "[encoded data removed]"
          },
          "metadata": {}
        }
      ]
    },
    {
      "cell_type": "markdown",
      "source": [
        "**Recomendações **"
      ],
      "metadata": {
        "id": "TxtDr1xBF2Fo"
      }
    }
  ]
}