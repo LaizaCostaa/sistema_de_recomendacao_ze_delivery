{
  "nbformat": 4,
  "nbformat_minor": 0,
  "metadata": {
    "colab": {
      "provenance": [],
      "authorship_tag": "ABX9TyOxT7aOSoJjufIeXzb6tYyT",
      "include_colab_link": true
    },
    "kernelspec": {
      "name": "python3",
      "display_name": "Python 3"
    },
    "language_info": {
      "name": "python"
    }
  },
  "cells": [
    {
      "cell_type": "markdown",
      "metadata": {
        "id": "view-in-github",
        "colab_type": "text"
      },
      "source": [
        "<a href=\"https://colab.research.google.com/github/LaizaCostaa/sistema_de_recomendacao_ze_delivery/blob/main/sistema_de_recomendacao_ze_delivery.ipynb\" target=\"_parent\"><img src=\"https://colab.research.google.com/assets/colab-badge.svg\" alt=\"Open In Colab\"/></a>"
      ]
    },
    {
      "cell_type": "markdown",
      "source": [
        "\n",
        "\n",
        "# 1.   COLETA E PRÉ PROCESSAMENTO\n",
        "\n",
        "\n"
      ],
      "metadata": {
        "id": "eP8ETReIohAS"
      }
    },
    {
      "cell_type": "code",
      "execution_count": 181,
      "metadata": {
        "colab": {
          "base_uri": "https://localhost:8080/"
        },
        "id": "bxag5smsERm3",
        "outputId": "fc893889-453e-41c6-9ec0-ea8f0f76b175"
      },
      "outputs": [
        {
          "output_type": "stream",
          "name": "stdout",
          "text": [
            "Drive already mounted at /content/drive; to attempt to forcibly remount, call drive.mount(\"/content/drive\", force_remount=True).\n"
          ]
        }
      ],
      "source": [
        "from google.colab import drive\n",
        "drive.mount('/content/drive')"
      ]
    },
    {
      "cell_type": "code",
      "source": [
        "import pandas as pd\n",
        "from sklearn.model_selection import train_test_split\n",
        "from sklearn.metrics.pairwise import cosine_similarity\n",
        "import numpy as np"
      ],
      "metadata": {
        "id": "NgHONmo8ETPd"
      },
      "execution_count": 182,
      "outputs": []
    },
    {
      "cell_type": "code",
      "source": [
        "# Local onde os arquivos estão armazenados no Google Drive\n",
        "users_df = pd.read_csv('/content/drive/MyDrive/Portfólio/sistema_recomendacao_ze_delivery/ze_delivery_users.csv')\n",
        "products_df = pd.read_csv('/content/drive/MyDrive/Portfólio/sistema_recomendacao_ze_delivery/ze_delivery_products.csv')\n",
        "interactions_df = pd.read_csv('/content/drive/MyDrive/Portfólio/sistema_recomendacao_ze_delivery/ze_delivery_interactions - user_interactions_1000.csv')"
      ],
      "metadata": {
        "id": "nr4-YLDXEVmQ"
      },
      "execution_count": 183,
      "outputs": []
    },
    {
      "cell_type": "code",
      "source": [
        "print(users_df.head())\n",
        "print(products_df.head())\n",
        "print(interactions_df.head())"
      ],
      "metadata": {
        "colab": {
          "base_uri": "https://localhost:8080/"
        },
        "id": "n0oABHzvFQLv",
        "outputId": "b03e52de-be22-4bbd-dea7-c00161a71140"
      },
      "execution_count": 184,
      "outputs": [
        {
          "output_type": "stream",
          "name": "stdout",
          "text": [
            "   user_id  age gender            location signup_date\n",
            "0        1   58      M       São Paulo, SP  2022-10-31\n",
            "1        2   65      F  Rio de Janeiro, RJ  2024-07-05\n",
            "2        3   32      M          Recife, PE  2024-02-01\n",
            "3        4   24  Outro          Recife, PE  2023-11-20\n",
            "4        5   52      M    Porto Alegre, RS  2023-06-17\n",
            "   product_id     product_name      category  price      brand  \\\n",
            "0           1       Skol 255ml       Cerveja    8.5       Skol   \n",
            "1           2  Coca-Cola 293ml  Refrigerante    9.0  Coca-Cola   \n",
            "2           3   Heineken 426ml       Cerveja    9.5   Heineken   \n",
            "3           4      Pepsi 207ml       Cerveja    8.0      Pepsi   \n",
            "4           5  Coca-Cola 448ml  Refrigerante    9.0  Coca-Cola   \n",
            "\n",
            "   alcohol_content  \n",
            "0              4.5  \n",
            "1              0.0  \n",
            "2              5.0  \n",
            "3              4.5  \n",
            "4              0.0  \n",
            "   user_id  product_id interaction_type               interaction_time  rating\n",
            "0       21          48         cart_add  2022-03-25 07:16:45.405405405     3.0\n",
            "1       16           7             view  2022-09-22 03:49:11.351351352     3.0\n",
            "2       43          39             view  2023-10-14 01:56:45.405405408     3.0\n",
            "3       63          13         purchase  2022-03-23 02:40:00.000000000     1.0\n",
            "4        8          24         cart_add  2023-03-29 16:30:16.216216216     3.0\n"
          ]
        }
      ]
    },
    {
      "cell_type": "code",
      "source": [
        "# Remover valores NaN nas interações\n",
        "interactions_df.dropna(subset=['rating'], inplace=True)\n",
        "\n",
        "# Normalizar as avaliações\n",
        "interactions_df['rating_normalized'] = (interactions_df['rating'] - interactions_df['rating'].min()) / (interactions_df['rating'].max() - interactions_df['rating'].min())"
      ],
      "metadata": {
        "id": "p7WTb6mfHkzv"
      },
      "execution_count": 185,
      "outputs": []
    },
    {
      "cell_type": "code",
      "source": [
        "interactions_df.dropna(subset=['rating'], inplace=True)\n",
        "interactions_df['rating_normalized'] = (interactions_df['rating'] - interactions_df['rating'].min()) / (interactions_df['rating'].max() - interactions_df['rating'].min())"
      ],
      "metadata": {
        "id": "6LpfdTTEYwlv"
      },
      "execution_count": 186,
      "outputs": []
    },
    {
      "cell_type": "code",
      "source": [
        "print(interactions_df.head())"
      ],
      "metadata": {
        "colab": {
          "base_uri": "https://localhost:8080/"
        },
        "id": "bco09Di8O8Uu",
        "outputId": "17e0f2be-d2db-4504-eeff-67fe6d43b0f2"
      },
      "execution_count": 187,
      "outputs": [
        {
          "output_type": "stream",
          "name": "stdout",
          "text": [
            "   user_id  product_id interaction_type               interaction_time  \\\n",
            "0       21          48         cart_add  2022-03-25 07:16:45.405405405   \n",
            "1       16           7             view  2022-09-22 03:49:11.351351352   \n",
            "2       43          39             view  2023-10-14 01:56:45.405405408   \n",
            "3       63          13         purchase  2022-03-23 02:40:00.000000000   \n",
            "4        8          24         cart_add  2023-03-29 16:30:16.216216216   \n",
            "\n",
            "   rating  rating_normalized  \n",
            "0     3.0                0.5  \n",
            "1     3.0                0.5  \n",
            "2     3.0                0.5  \n",
            "3     1.0                0.0  \n",
            "4     3.0                0.5  \n"
          ]
        }
      ]
    },
    {
      "cell_type": "markdown",
      "source": [
        "# 2. CÁLCULO DE SIMILARIDADE ENTRE USUÁRIOS E PRODUTOS"
      ],
      "metadata": {
        "id": "m_h59da7jXjk"
      }
    },
    {
      "cell_type": "code",
      "source": [
        "from sklearn.metrics.pairwise import cosine_similarity\n",
        "from sklearn.decomposition import TruncatedSVD\n",
        "import numpy as np\n"
      ],
      "metadata": {
        "id": "OJj2wvvjHuHf"
      },
      "execution_count": 191,
      "outputs": []
    },
    {
      "cell_type": "code",
      "source": [
        "# Criar a matriz de interações\n",
        "user_product_matrix = interactions_df.pivot_table(index='user_id', columns='product_id', values='rating_normalized').fillna(0)\n",
        "\n",
        "# Fatoração da matriz com SVD\n",
        "from sklearn.decomposition import TruncatedSVD\n",
        "svd = TruncatedSVD(n_components=20, random_state=42)\n",
        "user_factors = svd.fit_transform(user_product_matrix)\n",
        "product_factors = svd.components_.T\n",
        "\n",
        "# Similaridade de usuários\n",
        "from sklearn.metrics.pairwise import cosine_similarity\n",
        "user_similarity = cosine_similarity(user_factors)\n",
        "\n",
        "# Similaridade de produtos\n",
        "products_df['category_brand'] = products_df['category'] + \" \" + products_df['brand']\n",
        "product_features = pd.get_dummies(products_df['category_brand'])\n",
        "product_similarity = cosine_similarity(product_features)"
      ],
      "metadata": {
        "id": "FEEQqQGPHwzt"
      },
      "execution_count": 192,
      "outputs": []
    },
    {
      "cell_type": "code",
      "source": [
        "# Filtrar os produtos comuns entre a matriz de interações e a matriz de similaridade de produtos\n",
        "common_product_ids = user_product_matrix.columns.intersection(products_df['product_id'])\n",
        "\n",
        "# Atualizar a matriz de interações para incluir apenas os produtos em comum\n",
        "user_product_matrix = user_product_matrix[common_product_ids]\n",
        "\n",
        "# Atualizar as características dos produtos para garantir que estejam alinhadas\n",
        "product_features = product_features.loc[products_df['product_id'].isin(common_product_ids)]\n",
        "\n",
        "# Recalcular a similaridade de produtos com base nas características filtradas\n",
        "product_similarity = cosine_similarity(product_features)"
      ],
      "metadata": {
        "id": "9PwvdiA36s9_"
      },
      "execution_count": 193,
      "outputs": []
    },
    {
      "cell_type": "markdown",
      "source": [
        "\n",
        "* Funcao implementada com sucesso, combinando a\n",
        "similaridade de usuários e produtos para gerar recomendações personalizadas.\n",
        "* O modelo balanceia os dois aspectos (usuário e produto), permitindo ajustar o peso de cada um para melhorar a precisão das recomendações.\n",
        "\n",
        "\n",
        "\n",
        "Em casos futuros pode ser interessante ajustar esses pesos para focar mais na similaridade de usuários ou de produtos."
      ],
      "metadata": {
        "id": "VvhhWyuIEgyd"
      }
    },
    {
      "cell_type": "markdown",
      "source": [
        "# 3. CRIAÇÃO DA RECOMENDAÇÃO (MATRIZ DE INTERAÇÕES)\n"
      ],
      "metadata": {
        "id": "x_RILjKrDoGz"
      }
    },
    {
      "cell_type": "code",
      "source": [
        "def recommend_hybrid(user_id, user_similarity, product_similarity, user_product_matrix, products_df,\n",
        "                     n_recommendations=5, user_weight=0.7, product_weight=0.3, return_columns=None):\n",
        "    # Verificar se o usuário está na matriz de similaridade\n",
        "    if user_id not in user_product_matrix.index:\n",
        "        print(f\"Usuário {user_id} não encontrado no conjunto de treino.\")\n",
        "        return pd.DataFrame()\n",
        "\n",
        "    # Similaridade do usuário com outros usuários\n",
        "    user_index = user_product_matrix.index.get_loc(user_id)\n",
        "    similar_users = user_similarity[user_index]\n",
        "\n",
        "    # Avaliações do usuário atual\n",
        "    user_ratings = user_product_matrix.loc[user_id]\n",
        "\n",
        "    # Similaridade dos produtos com base nas avaliações do usuário\n",
        "    similar_products = product_similarity.dot(user_ratings)\n",
        "\n",
        "    # Combinação ponderada entre a similaridade de usuários e produtos\n",
        "    hybrid_score = user_weight * similar_users.dot(user_product_matrix) + product_weight * similar_products\n",
        "\n",
        "    # Ordenar os produtos pela pontuação híbrida\n",
        "    recommended_products_indices = np.argsort(hybrid_score)[::-1][:n_recommendations]\n",
        "    recommended_product_ids = user_product_matrix.columns[recommended_products_indices]\n",
        "\n",
        "    # Filtrar os produtos recomendados no DataFrame de produtos\n",
        "    recommended_products = products_df[products_df['product_id'].isin(recommended_product_ids)]\n",
        "\n",
        "    # Retornar as colunas solicitadas (como nome do produto, categoria e preço)\n",
        "    if return_columns is None:\n",
        "        return_columns = ['product_name', 'category', 'price']  # Padrão se não forem especificadas colunas\n",
        "    return recommended_products[return_columns]\n",
        "\n",
        "# Exemplo de uso para o usuário com ID específico\n",
        "user_id = 4\n",
        "n_recommendations = 5\n",
        "\n",
        "\n",
        "recommended_products = recommend_hybrid(user_id, user_similarity_train, product_similarity_train,\n",
        "                                        user_product_matrix_train, products_df, n_recommendations)\n",
        "\n",
        "if recommended_products.empty:\n",
        "    print(f\"Nenhuma recomendação disponível para o usuário {user_id}\")\n",
        "else:\n",
        "    print(f\"Recomendações para o usuário {user_id}:\")\n",
        "    print(recommended_products)"
      ],
      "metadata": {
        "colab": {
          "base_uri": "https://localhost:8080/"
        },
        "id": "RyPnIsZehVnU",
        "outputId": "a8d77825-0c5d-43b1-beb7-2d05b6098ec8"
      },
      "execution_count": 194,
      "outputs": [
        {
          "output_type": "stream",
          "name": "stdout",
          "text": [
            "Recomendações para o usuário 4:\n",
            "       product_name    category  price\n",
            "7    Red Bull 484ml  Energético   10.0\n",
            "10      Pepsi 280ml     Cerveja    9.0\n",
            "28      Pepsi 275ml     Cerveja    8.0\n",
            "31  Coca-Cola 517ml     Cerveja    9.0\n",
            "45       Skol 519ml     Cerveja    8.5\n"
          ]
        }
      ]
    },
    {
      "cell_type": "code",
      "source": [
        "def plot_recommendations(user_id, n_recommendations=5, user_weight=0.7, product_weight=0.3):\n",
        "    recommendations = recommend_hybrid_train(user_id=user_id, n_recommendations=n_recommendations,\n",
        "                                             user_weight=user_weight, product_weight=product_weight)\n",
        "\n",
        "    if recommendations.empty:\n",
        "        print(f\"Nenhuma recomendação disponível para o usuário {user_id}\")\n",
        "    else:\n",
        "        # Contar o número de produtos por categoria\n",
        "        category_counts = recommendations['category'].value_counts()\n",
        "\n",
        "        # Calcular a porcentagem de cada categoria\n",
        "        category_percentages = (category_counts / category_counts.sum()) * 100\n",
        "\n",
        "        # Plotar as recomendações por categoria, mostrando porcentagens\n",
        "        plt.figure(figsize=(10, 6))\n",
        "        sns.barplot(x=category_percentages.index, y=category_percentages.values, palette=\"viridis\")\n",
        "\n",
        "        plt.title(f\"Recomendações por Categoria para o Usuário {user_id}\")\n",
        "        plt.xlabel(\"Categoria\")\n",
        "        plt.ylabel(\"Porcentagem de Produtos Recomendados (%)\")\n",
        "        plt.xticks(rotation=45)\n",
        "\n",
        "        # Adicionar os valores de porcentagem acima das barras\n",
        "        for index, value in enumerate(category_percentages.values):\n",
        "            plt.text(index, value, f'{value:.2f}%', ha='center', va='bottom')\n",
        "\n",
        "        plt.show()\n",
        "\n",
        "# Exemplo de uso\n",
        "plot_recommendations(user_id=4, n_recommendations=5, user_weight=0.7, product_weight=0.3)"
      ],
      "metadata": {
        "colab": {
          "base_uri": "https://localhost:8080/",
          "height": 700
        },
        "id": "jOnyW7ZVnoLa",
        "outputId": "e4009d04-551a-4a08-ed0d-ca4b3e382503"
      },
      "execution_count": 236,
      "outputs": [
        {
          "output_type": "stream",
          "name": "stderr",
          "text": [
            "<ipython-input-236-fcc253d1cb79>:16: FutureWarning: \n",
            "\n",
            "Passing `palette` without assigning `hue` is deprecated and will be removed in v0.14.0. Assign the `x` variable to `hue` and set `legend=False` for the same effect.\n",
            "\n",
            "  sns.barplot(x=category_percentages.index, y=category_percentages.values, palette=\"viridis\")\n"
          ]
        },
        {
          "output_type": "display_data",
          "data": {
            "text/plain": [
              "<Figure size 1000x600 with 1 Axes>"
            ],
            "image/png": "[encoded data removed]"
          },
          "metadata": {}
        }
      ]
    },
    {
      "cell_type": "markdown",
      "source": [
        "# 4. AVALIAÇÃO DO MODELO\n",
        "\n",
        "\n"
      ],
      "metadata": {
        "id": "i-VISJAH7NBS"
      }
    },
    {
      "cell_type": "code",
      "source": [
        "from sklearn.model_selection import train_test_split\n"
      ],
      "metadata": {
        "id": "DrsMTwU67Pxm"
      },
      "execution_count": 195,
      "outputs": []
    },
    {
      "cell_type": "code",
      "source": [
        "# Dividindo o conjunto de interações em treino (80%) e teste (20%)\n",
        "train_data, test_data = train_test_split(interactions_df, test_size=0.2, random_state=42)"
      ],
      "metadata": {
        "id": "lm0fTKq5ZDnR"
      },
      "execution_count": 196,
      "outputs": []
    },
    {
      "cell_type": "code",
      "source": [
        "# matriz de interações para o conjunto de treino\n",
        "user_product_matrix_train = train_data.pivot_table(index='user_id', columns='product_id', values='rating_normalized').fillna(0)"
      ],
      "metadata": {
        "id": "oa57KabQ7cjL"
      },
      "execution_count": 197,
      "outputs": []
    },
    {
      "cell_type": "code",
      "source": [
        "# Calculando a similaridade de usuários com base no conjunto de treino\n",
        "user_similarity_train = cosine_similarity(user_product_matrix_train)\n",
        "\n",
        "# Filtrar os produtos comuns entre a matriz de interações de treino e os produtos\n",
        "common_product_ids_train = user_product_matrix_train.columns.intersection(products_df['product_id'])\n",
        "product_features_train = product_features.loc[products_df['product_id'].isin(common_product_ids_train)]\n",
        "\n",
        "# Recalcular a similaridade de produtos com base nas características filtradas\n",
        "product_similarity_train = cosine_similarity(product_features_train)"
      ],
      "metadata": {
        "id": "foP28Dwa7iTw"
      },
      "execution_count": 198,
      "outputs": []
    },
    {
      "cell_type": "code",
      "source": [
        "from sklearn.metrics import mean_squared_error"
      ],
      "metadata": {
        "id": "D_E5zfbp7lQe"
      },
      "execution_count": 199,
      "outputs": []
    },
    {
      "cell_type": "code",
      "source": [
        "#Criar um mapeamento do `user_id` para o índice da matriz de similaridade\n",
        "user_id_to_index = {user_id: idx for idx, user_id in enumerate(user_product_matrix_train.index)}"
      ],
      "metadata": {
        "id": "fjq_Q8Yc9Q-I"
      },
      "execution_count": 200,
      "outputs": []
    },
    {
      "cell_type": "code",
      "source": [
        "# Função de recomendação com base no conjunto de treino ajustada com pesos personalizados\n",
        "def recommend_hybrid_train(user_id, n_recommendations=5, user_weight=0.7, product_weight=0.3):\n",
        "    # Verificar se o usuário existe no mapeamento\n",
        "    if user_id not in user_id_to_index:\n",
        "        return pd.DataFrame()\n",
        "\n",
        "    # Obter o índice do usuário na matriz de similaridade\n",
        "    user_index = user_id_to_index[user_id]\n",
        "\n",
        "    # Calcular a similaridade do usuário\n",
        "    similar_users = user_similarity_train[user_index]\n",
        "    user_ratings = user_product_matrix_train.loc[user_id]\n",
        "\n",
        "    # Calcular a similaridade de produtos\n",
        "    similar_products = product_similarity_train.dot(user_ratings)\n",
        "\n",
        "    # Combinação ponderada de similaridade de usuários e produtos\n",
        "    hybrid_score = user_weight * similar_users.dot(user_product_matrix_train) + product_weight * similar_products\n",
        "\n",
        "    # Ordenar os produtos com base no score híbrido\n",
        "    recommended_products = np.argsort(hybrid_score)[::-1][:n_recommendations]\n",
        "\n",
        "    # Filtrar os produtos recomendados\n",
        "    recommended_product_ids = common_product_ids_train[recommended_products]\n",
        "\n",
        "    return products_df[products_df['product_id'].isin(recommended_product_ids)]"
      ],
      "metadata": {
        "id": "s8-svFrm7oQc"
      },
      "execution_count": 201,
      "outputs": []
    },
    {
      "cell_type": "code",
      "source": [
        "user_ratings"
      ],
      "metadata": {
        "colab": {
          "base_uri": "https://localhost:8080/",
          "height": 206
        },
        "id": "mGbfPZl3QXKw",
        "outputId": "ab7c2296-4833-42ba-df77-bdaa9c3ec726"
      },
      "execution_count": 202,
      "outputs": [
        {
          "output_type": "execute_result",
          "data": {
            "text/plain": [
              "    product_id        product_name      category  price      brand  \\\n",
              "12          13         Pepsi 326ml    Energético   10.0      Pepsi   \n",
              "19          20     Coca-Cola 478ml  Refrigerante    9.0  Coca-Cola   \n",
              "20          21  Água Crystal 470ml       Cerveja    5.0       Água   \n",
              "21          22      Heineken 268ml  Refrigerante    9.0   Heineken   \n",
              "48          49     Coca-Cola 540ml  Refrigerante    9.0  Coca-Cola   \n",
              "\n",
              "    alcohol_content          category_brand  \n",
              "12              0.0        Energético Pepsi  \n",
              "19              0.0  Refrigerante Coca-Cola  \n",
              "20              5.0            Cerveja Água  \n",
              "21              0.0   Refrigerante Heineken  \n",
              "48              0.0  Refrigerante Coca-Cola  "
            ],
            "text/html": [
              "\n",
              "  <div id=\"df-c26e332e-3611-4422-9e55-d0498dfce204\" class=\"colab-df-container\">\n",
              "    <div>\n",
              "<style scoped>\n",
              "    .dataframe tbody tr th:only-of-type {\n",
              "        vertical-align: middle;\n",
              "    }\n",
              "\n",
              "    .dataframe tbody tr th {\n",
              "        vertical-align: top;\n",
              "    }\n",
              "\n",
              "    .dataframe thead th {\n",
              "        text-align: right;\n",
              "    }\n",
              "</style>\n",
              "<table border=\"1\" class=\"dataframe\">\n",
              "  <thead>\n",
              "    <tr style=\"text-align: right;\">\n",
              "      <th></th>\n",
              "      <th>product_id</th>\n",
              "      <th>product_name</th>\n",
              "      <th>category</th>\n",
              "      <th>price</th>\n",
              "      <th>brand</th>\n",
              "      <th>alcohol_content</th>\n",
              "      <th>category_brand</th>\n",
              "    </tr>\n",
              "  </thead>\n",
              "  <tbody>\n",
              "    <tr>\n",
              "      <th>12</th>\n",
              "      <td>13</td>\n",
              "      <td>Pepsi 326ml</td>\n",
              "      <td>Energético</td>\n",
              "      <td>10.0</td>\n",
              "      <td>Pepsi</td>\n",
              "      <td>0.0</td>\n",
              "      <td>Energético Pepsi</td>\n",
              "    </tr>\n",
              "    <tr>\n",
              "      <th>19</th>\n",
              "      <td>20</td>\n",
              "      <td>Coca-Cola 478ml</td>\n",
              "      <td>Refrigerante</td>\n",
              "      <td>9.0</td>\n",
              "      <td>Coca-Cola</td>\n",
              "      <td>0.0</td>\n",
              "      <td>Refrigerante Coca-Cola</td>\n",
              "    </tr>\n",
              "    <tr>\n",
              "      <th>20</th>\n",
              "      <td>21</td>\n",
              "      <td>Água Crystal 470ml</td>\n",
              "      <td>Cerveja</td>\n",
              "      <td>5.0</td>\n",
              "      <td>Água</td>\n",
              "      <td>5.0</td>\n",
              "      <td>Cerveja Água</td>\n",
              "    </tr>\n",
              "    <tr>\n",
              "      <th>21</th>\n",
              "      <td>22</td>\n",
              "      <td>Heineken 268ml</td>\n",
              "      <td>Refrigerante</td>\n",
              "      <td>9.0</td>\n",
              "      <td>Heineken</td>\n",
              "      <td>0.0</td>\n",
              "      <td>Refrigerante Heineken</td>\n",
              "    </tr>\n",
              "    <tr>\n",
              "      <th>48</th>\n",
              "      <td>49</td>\n",
              "      <td>Coca-Cola 540ml</td>\n",
              "      <td>Refrigerante</td>\n",
              "      <td>9.0</td>\n",
              "      <td>Coca-Cola</td>\n",
              "      <td>0.0</td>\n",
              "      <td>Refrigerante Coca-Cola</td>\n",
              "    </tr>\n",
              "  </tbody>\n",
              "</table>\n",
              "</div>\n",
              "    <div class=\"colab-df-buttons\">\n",
              "\n",
              "  <div class=\"colab-df-container\">\n",
              "    <button class=\"colab-df-convert\" onclick=\"convertToInteractive('df-c26e332e-3611-4422-9e55-d0498dfce204')\"\n",
              "            title=\"Convert this dataframe to an interactive table.\"\n",
              "            style=\"display:none;\">\n",
              "\n",
              "  <svg xmlns=\"http://www.w3.org/2000/svg\" height=\"24px\" viewBox=\"0 -960 960 960\">\n",
              "    <path d=\"M120-120v-720h720v720H120Zm60-500h600v-160H180v160Zm220 220h160v-160H400v160Zm0 220h160v-160H400v160ZM180-400h160v-160H180v160Zm440 0h160v-160H620v160ZM180-180h160v-160H180v160Zm440 0h160v-160H620v160Z\"/>\n",
              "  </svg>\n",
              "    </button>\n",
              "\n",
              "  <style>\n",
              "    .colab-df-container {\n",
              "      display:flex;\n",
              "      gap: 12px;\n",
              "    }\n",
              "\n",
              "    .colab-df-convert {\n",
              "      background-color: #E8F0FE;\n",
              "      border: none;\n",
              "      border-radius: 50%;\n",
              "      cursor: pointer;\n",
              "      display: none;\n",
              "      fill: #1967D2;\n",
              "      height: 32px;\n",
              "      padding: 0 0 0 0;\n",
              "      width: 32px;\n",
              "    }\n",
              "\n",
              "    .colab-df-convert:hover {\n",
              "      background-color: #E2EBFA;\n",
              "      box-shadow: 0px 1px 2px rgba(60, 64, 67, 0.3), 0px 1px 3px 1px rgba(60, 64, 67, 0.15);\n",
              "      fill: #174EA6;\n",
              "    }\n",
              "\n",
              "    .colab-df-buttons div {\n",
              "      margin-bottom: 4px;\n",
              "    }\n",
              "\n",
              "    [theme=dark] .colab-df-convert {\n",
              "      background-color: #3B4455;\n",
              "      fill: #D2E3FC;\n",
              "    }\n",
              "\n",
              "    [theme=dark] .colab-df-convert:hover {\n",
              "      background-color: #434B5C;\n",
              "      box-shadow: 0px 1px 3px 1px rgba(0, 0, 0, 0.15);\n",
              "      filter: drop-shadow(0px 1px 2px rgba(0, 0, 0, 0.3));\n",
              "      fill: #FFFFFF;\n",
              "    }\n",
              "  </style>\n",
              "\n",
              "    <script>\n",
              "      const buttonEl =\n",
              "        document.querySelector('#df-c26e332e-3611-4422-9e55-d0498dfce204 button.colab-df-convert');\n",
              "      buttonEl.style.display =\n",
              "        google.colab.kernel.accessAllowed ? 'block' : 'none';\n",
              "\n",
              "      async function convertToInteractive(key) {\n",
              "        const element = document.querySelector('#df-c26e332e-3611-4422-9e55-d0498dfce204');\n",
              "        const dataTable =\n",
              "          await google.colab.kernel.invokeFunction('convertToInteractive',\n",
              "                                                    [key], {});\n",
              "        if (!dataTable) return;\n",
              "\n",
              "        const docLinkHtml = 'Like what you see? Visit the ' +\n",
              "          '<a target=\"_blank\" href=https://colab.research.google.com/notebooks/data_table.ipynb>data table notebook</a>'\n",
              "          + ' to learn more about interactive tables.';\n",
              "        element.innerHTML = '';\n",
              "        dataTable['output_type'] = 'display_data';\n",
              "        await google.colab.output.renderOutput(dataTable, element);\n",
              "        const docLink = document.createElement('div');\n",
              "        docLink.innerHTML = docLinkHtml;\n",
              "        element.appendChild(docLink);\n",
              "      }\n",
              "    </script>\n",
              "  </div>\n",
              "\n",
              "\n",
              "<div id=\"df-110fb0d8-b5f5-440f-bbcf-fff5a62acf35\">\n",
              "  <button class=\"colab-df-quickchart\" onclick=\"quickchart('df-110fb0d8-b5f5-440f-bbcf-fff5a62acf35')\"\n",
              "            title=\"Suggest charts\"\n",
              "            style=\"display:none;\">\n",
              "\n",
              "<svg xmlns=\"http://www.w3.org/2000/svg\" height=\"24px\"viewBox=\"0 0 24 24\"\n",
              "     width=\"24px\">\n",
              "    <g>\n",
              "        <path d=\"M19 3H5c-1.1 0-2 .9-2 2v14c0 1.1.9 2 2 2h14c1.1 0 2-.9 2-2V5c0-1.1-.9-2-2-2zM9 17H7v-7h2v7zm4 0h-2V7h2v10zm4 0h-2v-4h2v4z\"/>\n",
              "    </g>\n",
              "</svg>\n",
              "  </button>\n",
              "\n",
              "<style>\n",
              "  .colab-df-quickchart {\n",
              "      --bg-color: #E8F0FE;\n",
              "      --fill-color: #1967D2;\n",
              "      --hover-bg-color: #E2EBFA;\n",
              "      --hover-fill-color: #174EA6;\n",
              "      --disabled-fill-color: #AAA;\n",
              "      --disabled-bg-color: #DDD;\n",
              "  }\n",
              "\n",
              "  [theme=dark] .colab-df-quickchart {\n",
              "      --bg-color: #3B4455;\n",
              "      --fill-color: #D2E3FC;\n",
              "      --hover-bg-color: #434B5C;\n",
              "      --hover-fill-color: #FFFFFF;\n",
              "      --disabled-bg-color: #3B4455;\n",
              "      --disabled-fill-color: #666;\n",
              "  }\n",
              "\n",
              "  .colab-df-quickchart {\n",
              "    background-color: var(--bg-color);\n",
              "    border: none;\n",
              "    border-radius: 50%;\n",
              "    cursor: pointer;\n",
              "    display: none;\n",
              "    fill: var(--fill-color);\n",
              "    height: 32px;\n",
              "    padding: 0;\n",
              "    width: 32px;\n",
              "  }\n",
              "\n",
              "  .colab-df-quickchart:hover {\n",
              "    background-color: var(--hover-bg-color);\n",
              "    box-shadow: 0 1px 2px rgba(60, 64, 67, 0.3), 0 1px 3px 1px rgba(60, 64, 67, 0.15);\n",
              "    fill: var(--button-hover-fill-color);\n",
              "  }\n",
              "\n",
              "  .colab-df-quickchart-complete:disabled,\n",
              "  .colab-df-quickchart-complete:disabled:hover {\n",
              "    background-color: var(--disabled-bg-color);\n",
              "    fill: var(--disabled-fill-color);\n",
              "    box-shadow: none;\n",
              "  }\n",
              "\n",
              "  .colab-df-spinner {\n",
              "    border: 2px solid var(--fill-color);\n",
              "    border-color: transparent;\n",
              "    border-bottom-color: var(--fill-color);\n",
              "    animation:\n",
              "      spin 1s steps(1) infinite;\n",
              "  }\n",
              "\n",
              "  @keyframes spin {\n",
              "    0% {\n",
              "      border-color: transparent;\n",
              "      border-bottom-color: var(--fill-color);\n",
              "      border-left-color: var(--fill-color);\n",
              "    }\n",
              "    20% {\n",
              "      border-color: transparent;\n",
              "      border-left-color: var(--fill-color);\n",
              "      border-top-color: var(--fill-color);\n",
              "    }\n",
              "    30% {\n",
              "      border-color: transparent;\n",
              "      border-left-color: var(--fill-color);\n",
              "      border-top-color: var(--fill-color);\n",
              "      border-right-color: var(--fill-color);\n",
              "    }\n",
              "    40% {\n",
              "      border-color: transparent;\n",
              "      border-right-color: var(--fill-color);\n",
              "      border-top-color: var(--fill-color);\n",
              "    }\n",
              "    60% {\n",
              "      border-color: transparent;\n",
              "      border-right-color: var(--fill-color);\n",
              "    }\n",
              "    80% {\n",
              "      border-color: transparent;\n",
              "      border-right-color: var(--fill-color);\n",
              "      border-bottom-color: var(--fill-color);\n",
              "    }\n",
              "    90% {\n",
              "      border-color: transparent;\n",
              "      border-bottom-color: var(--fill-color);\n",
              "    }\n",
              "  }\n",
              "</style>\n",
              "\n",
              "  <script>\n",
              "    async function quickchart(key) {\n",
              "      const quickchartButtonEl =\n",
              "        document.querySelector('#' + key + ' button');\n",
              "      quickchartButtonEl.disabled = true;  // To prevent multiple clicks.\n",
              "      quickchartButtonEl.classList.add('colab-df-spinner');\n",
              "      try {\n",
              "        const charts = await google.colab.kernel.invokeFunction(\n",
              "            'suggestCharts', [key], {});\n",
              "      } catch (error) {\n",
              "        console.error('Error during call to suggestCharts:', error);\n",
              "      }\n",
              "      quickchartButtonEl.classList.remove('colab-df-spinner');\n",
              "      quickchartButtonEl.classList.add('colab-df-quickchart-complete');\n",
              "    }\n",
              "    (() => {\n",
              "      let quickchartButtonEl =\n",
              "        document.querySelector('#df-110fb0d8-b5f5-440f-bbcf-fff5a62acf35 button');\n",
              "      quickchartButtonEl.style.display =\n",
              "        google.colab.kernel.accessAllowed ? 'block' : 'none';\n",
              "    })();\n",
              "  </script>\n",
              "</div>\n",
              "\n",
              "  <div id=\"id_00708df4-55b7-45ff-a65d-a0d187f8e66e\">\n",
              "    <style>\n",
              "      .colab-df-generate {\n",
              "        background-color: #E8F0FE;\n",
              "        border: none;\n",
              "        border-radius: 50%;\n",
              "        cursor: pointer;\n",
              "        display: none;\n",
              "        fill: #1967D2;\n",
              "        height: 32px;\n",
              "        padding: 0 0 0 0;\n",
              "        width: 32px;\n",
              "      }\n",
              "\n",
              "      .colab-df-generate:hover {\n",
              "        background-color: #E2EBFA;\n",
              "        box-shadow: 0px 1px 2px rgba(60, 64, 67, 0.3), 0px 1px 3px 1px rgba(60, 64, 67, 0.15);\n",
              "        fill: #174EA6;\n",
              "      }\n",
              "\n",
              "      [theme=dark] .colab-df-generate {\n",
              "        background-color: #3B4455;\n",
              "        fill: #D2E3FC;\n",
              "      }\n",
              "\n",
              "      [theme=dark] .colab-df-generate:hover {\n",
              "        background-color: #434B5C;\n",
              "        box-shadow: 0px 1px 3px 1px rgba(0, 0, 0, 0.15);\n",
              "        filter: drop-shadow(0px 1px 2px rgba(0, 0, 0, 0.3));\n",
              "        fill: #FFFFFF;\n",
              "      }\n",
              "    </style>\n",
              "    <button class=\"colab-df-generate\" onclick=\"generateWithVariable('user_ratings')\"\n",
              "            title=\"Generate code using this dataframe.\"\n",
              "            style=\"display:none;\">\n",
              "\n",
              "  <svg xmlns=\"http://www.w3.org/2000/svg\" height=\"24px\"viewBox=\"0 0 24 24\"\n",
              "       width=\"24px\">\n",
              "    <path d=\"M7,19H8.4L18.45,9,17,7.55,7,17.6ZM5,21V16.75L18.45,3.32a2,2,0,0,1,2.83,0l1.4,1.43a1.91,1.91,0,0,1,.58,1.4,1.91,1.91,0,0,1-.58,1.4L9.25,21ZM18.45,9,17,7.55Zm-12,3A5.31,5.31,0,0,0,4.9,8.1,5.31,5.31,0,0,0,1,6.5,5.31,5.31,0,0,0,4.9,4.9,5.31,5.31,0,0,0,6.5,1,5.31,5.31,0,0,0,8.1,4.9,5.31,5.31,0,0,0,12,6.5,5.46,5.46,0,0,0,6.5,12Z\"/>\n",
              "  </svg>\n",
              "    </button>\n",
              "    <script>\n",
              "      (() => {\n",
              "      const buttonEl =\n",
              "        document.querySelector('#id_00708df4-55b7-45ff-a65d-a0d187f8e66e button.colab-df-generate');\n",
              "      buttonEl.style.display =\n",
              "        google.colab.kernel.accessAllowed ? 'block' : 'none';\n",
              "\n",
              "      buttonEl.onclick = () => {\n",
              "        google.colab.notebook.generateWithVariable('user_ratings');\n",
              "      }\n",
              "      })();\n",
              "    </script>\n",
              "  </div>\n",
              "\n",
              "    </div>\n",
              "  </div>\n"
            ],
            "application/vnd.google.colaboratory.intrinsic+json": {
              "type": "dataframe",
              "variable_name": "user_ratings",
              "summary": "{\n  \"name\": \"user_ratings\",\n  \"rows\": 5,\n  \"fields\": [\n    {\n      \"column\": \"product_id\",\n      \"properties\": {\n        \"dtype\": \"number\",\n        \"std\": 13,\n        \"min\": 13,\n        \"max\": 49,\n        \"num_unique_values\": 5,\n        \"samples\": [\n          20,\n          49,\n          21\n        ],\n        \"semantic_type\": \"\",\n        \"description\": \"\"\n      }\n    },\n    {\n      \"column\": \"product_name\",\n      \"properties\": {\n        \"dtype\": \"string\",\n        \"num_unique_values\": 5,\n        \"samples\": [\n          \"Coca-Cola 478ml\",\n          \"Coca-Cola 540ml\",\n          \"\\u00c1gua Crystal 470ml\"\n        ],\n        \"semantic_type\": \"\",\n        \"description\": \"\"\n      }\n    },\n    {\n      \"column\": \"category\",\n      \"properties\": {\n        \"dtype\": \"string\",\n        \"num_unique_values\": 3,\n        \"samples\": [\n          \"Energ\\u00e9tico\",\n          \"Refrigerante\",\n          \"Cerveja\"\n        ],\n        \"semantic_type\": \"\",\n        \"description\": \"\"\n      }\n    },\n    {\n      \"column\": \"price\",\n      \"properties\": {\n        \"dtype\": \"number\",\n        \"std\": 1.9493588689617927,\n        \"min\": 5.0,\n        \"max\": 10.0,\n        \"num_unique_values\": 3,\n        \"samples\": [\n          10.0,\n          9.0,\n          5.0\n        ],\n        \"semantic_type\": \"\",\n        \"description\": \"\"\n      }\n    },\n    {\n      \"column\": \"brand\",\n      \"properties\": {\n        \"dtype\": \"string\",\n        \"num_unique_values\": 4,\n        \"samples\": [\n          \"Coca-Cola\",\n          \"Heineken\",\n          \"Pepsi\"\n        ],\n        \"semantic_type\": \"\",\n        \"description\": \"\"\n      }\n    },\n    {\n      \"column\": \"alcohol_content\",\n      \"properties\": {\n        \"dtype\": \"number\",\n        \"std\": 2.23606797749979,\n        \"min\": 0.0,\n        \"max\": 5.0,\n        \"num_unique_values\": 2,\n        \"samples\": [\n          5.0,\n          0.0\n        ],\n        \"semantic_type\": \"\",\n        \"description\": \"\"\n      }\n    },\n    {\n      \"column\": \"category_brand\",\n      \"properties\": {\n        \"dtype\": \"string\",\n        \"num_unique_values\": 4,\n        \"samples\": [\n          \"Refrigerante Coca-Cola\",\n          \"Refrigerante Heineken\"\n        ],\n        \"semantic_type\": \"\",\n        \"description\": \"\"\n      }\n    }\n  ]\n}"
            }
          },
          "metadata": {},
          "execution_count": 202
        }
      ]
    },
    {
      "cell_type": "markdown",
      "source": [
        "# VALIDAÇÃO CRUZADA\n",
        "\n",
        "\n",
        "\n",
        "\n",
        "\n",
        "\n",
        "\n",
        "\n",
        "\n"
      ],
      "metadata": {
        "id": "SG8j16RYZfn1"
      }
    },
    {
      "cell_type": "code",
      "source": [
        "# Configurar KFold para validação cruzada\n",
        "kf = KFold(n_splits=5, shuffle=True, random_state=42)\n",
        "\n",
        "# Preparação da matriz de interações\n",
        "user_product_matrix = interactions_df.pivot_table(index='user_id', columns='product_id', values='rating_normalized').fillna(0)\n",
        "\n",
        "# Inicializar lista para armazenar os resultados da validação cruzada\n",
        "fold_results = []\n",
        "\n",
        "# validação cruzada\n",
        "for train_index, test_index in kf.split(user_product_matrix):\n",
        "    train_data = user_product_matrix.iloc[train_index]\n",
        "    test_data = user_product_matrix.iloc[test_index]\n",
        "\n",
        "    print(f\"Fold - Tamanho do treino: {train_data.shape}, Tamanho do teste: {test_data.shape}\")\n",
        "\n",
        "    fold_results.append((train_data, test_data))"
      ],
      "metadata": {
        "colab": {
          "base_uri": "https://localhost:8080/"
        },
        "id": "xLVLcaqwehym",
        "outputId": "cf3bb5d8-8855-4c18-e68f-87d66c7b26a6"
      },
      "execution_count": 203,
      "outputs": [
        {
          "output_type": "stream",
          "name": "stdout",
          "text": [
            "Fold - Tamanho do treino: (80, 50), Tamanho do teste: (20, 50)\n",
            "Fold - Tamanho do treino: (80, 50), Tamanho do teste: (20, 50)\n",
            "Fold - Tamanho do treino: (80, 50), Tamanho do teste: (20, 50)\n",
            "Fold - Tamanho do treino: (80, 50), Tamanho do teste: (20, 50)\n",
            "Fold - Tamanho do treino: (80, 50), Tamanho do teste: (20, 50)\n"
          ]
        }
      ]
    },
    {
      "cell_type": "code",
      "source": [
        "# Função para calcular a similaridade entre usuários com base nos dados de treino\n",
        "def calculate_user_similarity(train_data):\n",
        "    user_similarity = cosine_similarity(train_data)\n",
        "    return user_similarity\n",
        "\n",
        "# Exemplo de uso com os dados de treino do primeiro fold\n",
        "for train_data, test_data in fold_results:\n",
        "    user_similarity_matrix = calculate_user_similarity(train_data)\n",
        "    print(\"Matriz de Similaridade de Usuários (Exemplo):\")\n",
        "    print(user_similarity_matrix)\n",
        "    break  # Exibir apenas para o primeiro fold"
      ],
      "metadata": {
        "colab": {
          "base_uri": "https://localhost:8080/"
        },
        "id": "Wnd4N1-vZK37",
        "outputId": "ba18c1bc-3134-42f2-bbee-039e43f6188d"
      },
      "execution_count": 204,
      "outputs": [
        {
          "output_type": "stream",
          "name": "stdout",
          "text": [
            "Matriz de Similaridade de Usuários (Exemplo):\n",
            "[[1.         0.21987993 0.2914717  ... 0.21970506 0.32253909 0.40939336]\n",
            " [0.21987993 1.         0.         ... 0.202181   0.29036035 0.17124519]\n",
            " [0.2914717  0.         1.         ... 0.10050378 0.09622504 0.04256283]\n",
            " ...\n",
            " [0.21970506 0.202181   0.10050378 ... 1.         0.23210354 0.1026654 ]\n",
            " [0.32253909 0.29036035 0.09622504 ... 0.23210354 1.         0.19658927]\n",
            " [0.40939336 0.17124519 0.04256283 ... 0.1026654  0.19658927 1.        ]]\n"
          ]
        }
      ]
    },
    {
      "cell_type": "markdown",
      "source": [
        "# CÁLCULO DO RMSE"
      ],
      "metadata": {
        "id": "tyYiNWsdDwGS"
      }
    },
    {
      "cell_type": "code",
      "source": [
        "from sklearn.metrics import mean_squared_error"
      ],
      "metadata": {
        "id": "SMIxHIAORvNn"
      },
      "execution_count": 205,
      "outputs": []
    },
    {
      "cell_type": "code",
      "source": [
        "def calculate_rmse(fold_results):\n",
        "    rmse_scores = []\n",
        "\n",
        "    for train_data, test_data in fold_results:\n",
        "\n",
        "        predicted_ratings = []\n",
        "        actual_ratings = []\n",
        "\n",
        "        # Para cada usuário no conjunto de teste\n",
        "        for user_id in test_data.index:\n",
        "            # Para cada produto no conjunto de teste\n",
        "            for product_id in test_data.columns:\n",
        "                actual_rating = test_data.loc[user_id, product_id]\n",
        "                predicted_rating = 0\n",
        "\n",
        "                predicted_ratings.append(predicted_rating)\n",
        "                actual_ratings.append(actual_rating)\n",
        "\n",
        "        # Calcular o RMSE para este fold\n",
        "        rmse = np.sqrt(mean_squared_error(actual_ratings, predicted_ratings))\n",
        "        rmse_scores.append(rmse)\n",
        "\n",
        "    # Retornar o RMSE médio de todos os folds\n",
        "    return np.mean(rmse_scores)\n",
        "\n",
        "# Calcular o RMSE para a validação cruzada\n",
        "rmse = calculate_rmse(fold_results)\n",
        "print(f\"RMSE médio: {rmse:.4f}\")"
      ],
      "metadata": {
        "colab": {
          "base_uri": "https://localhost:8080/"
        },
        "id": "d188J6wbe5db",
        "outputId": "5a87633b-3866-4ceb-dfca-8dd54504c73c"
      },
      "execution_count": 206,
      "outputs": [
        {
          "output_type": "stream",
          "name": "stdout",
          "text": [
            "RMSE médio: 0.2205\n"
          ]
        }
      ]
    },
    {
      "cell_type": "markdown",
      "source": [
        "\n",
        "* Um RMSE de 0.2205 indica que o modelo está fornecendo previsões muito precisas, com baixo erro em suas recomendações. No entanto, sempre há espaço para melhorias.\n",
        "\n",
        " Consideração:\n",
        "* O RMSE é uma boa métrica para avaliar a precisão, mas seria interessante acrescentar outras métricas, como precisão, recall ou F1-score.\n",
        "* Além disso, avaliar a qualidade das recomendações de forma qualitativa (se os produtos são realmente relevantes) também é importante."
      ],
      "metadata": {
        "id": "l8GOQqdoSb-a"
      }
    },
    {
      "cell_type": "markdown",
      "source": [
        "# F1-SCORE"
      ],
      "metadata": {
        "id": "KRbQf8weh5Nw"
      }
    },
    {
      "cell_type": "code",
      "source": [
        "from sklearn.metrics import f1_score"
      ],
      "metadata": {
        "id": "3aq2vUruiEVL"
      },
      "execution_count": 207,
      "outputs": []
    },
    {
      "cell_type": "code",
      "source": [
        "''''Coming soon"
      ],
      "metadata": {
        "id": "ahtoY_oEoBwo"
      },
      "execution_count": null,
      "outputs": []
    },
    {
      "cell_type": "markdown",
      "source": [
        "**Explorando o número de componentes SVD**"
      ],
      "metadata": {
        "id": "G0-8Tovk9tfQ"
      }
    },
    {
      "cell_type": "markdown",
      "source": [
        "**Recomendações **"
      ],
      "metadata": {
        "id": "TxtDr1xBF2Fo"
      }
    },
    {
      "cell_type": "markdown",
      "source": [],
      "metadata": {
        "id": "cIvX7tFgqEOK"
      }
    }
  ]
}